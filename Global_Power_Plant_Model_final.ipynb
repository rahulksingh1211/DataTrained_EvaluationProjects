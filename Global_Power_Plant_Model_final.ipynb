{
 "cells": [
  {
   "cell_type": "markdown",
   "metadata": {},
   "source": [
    "Global Power Plant Database\n",
    "Problem Statement:\n",
    "Description\n",
    "\n",
    "The Global Power Plant Database is a comprehensive, open source database of power plants around the world. It centralizes power plant data to make it easier to navigate, compare and draw insights for one’s own analysis. The database covers approximately 35,000 power plants from 167 countries and includes thermal plants (e.g. coal, gas, oil, nuclear, biomass, waste, geothermal) and renewables (e.g. hydro, wind, solar). Each power plant is geolocated and entries contain information on plant capacity, generation, ownership, and fuel type. It will be continuously updated as data becomes available.\n",
    "\n",
    "Key attributes of the database\n",
    "The database includes the following indicators:\n",
    "\n",
    "`country` (text): 3 character country code corresponding to the ISO 3166-1 alpha-3 specification [5]\n",
    "`country_long` (text): longer form of the country designation\n",
    "`name` (text): name or title of the power plant, generally in Romanized form\n",
    "`gppd_idnr` (text): 10 or 12 character identifier for the power plant\n",
    "`capacity_mw` (number): electrical generating capacity in megawatts\n",
    "`latitude` (number): geolocation in decimal degrees; WGS84 (EPSG:4326)\n",
    "`longitude` (number): geolocation in decimal degrees; WGS84 (EPSG:4326)\n",
    "`primary_fuel` (text): energy source used in primary electricity generation or export\n",
    "`other_fuel1` (text): energy source used in electricity generation or export\n",
    "`other_fuel2` (text): energy source used in electricity generation or export\n",
    "`other_fuel3` (text): energy source used in electricity generation or export\n",
    " `commissioning_year` (number): year of plant operation, weighted by unit-capacity when data is available\n",
    "`owner` (text): majority shareholder of the power plant, generally in Romanized form\n",
    "`source` (text): entity reporting the data; could be an organization, report, or document, generally in Romanized form\n",
    "`url` (text): web document corresponding to the `source` field\n",
    "`geolocation_source` (text): attribution for geolocation information\n",
    "`wepp_id` (text): a reference to a unique plant identifier in the widely-used PLATTS-WEPP database.\n",
    "`year_of_capacity_data` (number): year the capacity information was reported\n",
    "`generation_gwh_2013` (number): electricity generation in gigawatt-hours reported for the year 2013\n",
    "`generation_gwh_2014` (number): electricity generation in gigawatt-hours reported for the year 2014\n",
    "`generation_gwh_2015` (number): electricity generation in gigawatt-hours reported for the year 2015\n",
    "`generation_gwh_2016` (number): electricity generation in gigawatt-hours reported for the year 2016\n",
    "`generation_gwh_2017` (number): electricity generation in gigawatt-hours reported for the year 2017\n",
    "`generation_gwh_2018` (number): electricity generation in gigawatt-hours reported for the year 2018\n",
    "`generation_gwh_2019` (number): electricity generation in gigawatt-hours reported for the year 2019\n",
    "`generation_data_source` (text): attribution for the reported generation information\n",
    "`estimated_generation_gwh_2013` (number): estimated electricity generation in gigawatt-hours for the year 2013\n",
    "`estimated_generation_gwh_2014` (number): estimated electricity generation in gigawatt-hours for the year 2014 \n",
    "`estimated_generation_gwh_2015` (number): estimated electricity generation in gigawatt-hours for the year 2015 \n",
    "`estimated_generation_gwh_2016` (number): estimated electricity generation in gigawatt-hours for the year 2016 \n",
    "`estimated_generation_gwh_2017` (number): estimated electricity generation in gigawatt-hours for the year 2017 \n",
    "'estimated_generation_note_2013` (text): label of the model/method used to estimate generation for the year 2013\n",
    "`estimated_generation_note_2014` (text): label of the model/method used to estimate generation for the year 2014 \n",
    "`estimated_generation_note_2015` (text): label of the model/method used to estimate generation for the year 2015\n",
    "`estimated_generation_note_2016` (text): label of the model/method used to estimate generation for the year 2016\n",
    "`estimated_generation_note_2017` (text): label of the model/method used to estimate generation for the year 2017 \n",
    "Fuel Type Aggregation\n",
    "We define the \"Fuel Type\" attribute of our database based on common fuel categories. \n",
    "\n",
    "Prediction :   Make two prediction  1) Fuel Type   2) capacity_mw"
   ]
  },
  {
   "cell_type": "code",
   "execution_count": 326,
   "metadata": {},
   "outputs": [],
   "source": [
    "#common lib\n",
    "import pandas as pd\n",
    "import numpy as np\n",
    "import matplotlib.pyplot as plt\n",
    "import seaborn as sns\n",
    "%matplotlib inline\n",
    "\n",
    "#Preprecessing Lib\n",
    "from sklearn.preprocessing import LabelEncoder,OneHotEncoder,StandardScaler\n",
    "from sklearn.model_selection import train_test_split\n",
    "\n",
    "#outliars and skewness\n",
    "from scipy import stats\n",
    "from sklearn.preprocessing import power_transform\n",
    "\n",
    "#multicoliniarity lib\n",
    "from statsmodels.stats.outliers_influence import variance_inflation_factor\n",
    "\n",
    "#model lib\n",
    "from sklearn.linear_model import LinearRegression\n",
    "from sklearn.tree import DecisionTreeRegressor\n",
    "from sklearn.neighbors import KNeighborsRegressor\n",
    "from sklearn.ensemble import RandomForestRegressor,AdaBoostRegressor\n",
    "from sklearn.svm import SVR\n",
    "\n",
    "\n",
    "#Model building lib for classification\n",
    "from sklearn.linear_model import LogisticRegression\n",
    "from sklearn.tree import DecisionTreeClassifier\n",
    "from sklearn.neighbors import KNeighborsClassifier\n",
    "from sklearn.ensemble import RandomForestClassifier,AdaBoostClassifier,GradientBoostingClassifier\n",
    "from sklearn.svm import SVC\n",
    "\n",
    "\n",
    "#Model Evaluation\n",
    "from sklearn.metrics import r2_score,mean_squared_error,mean_absolute_error\n",
    "from sklearn.metrics import classification_report,roc_auc_score,accuracy_score,confusion_matrix,plot_roc_curve\n",
    "import scikitplot as skplt\n",
    "\n",
    "#model cross validation\n",
    "from sklearn.model_selection import cross_val_score\n",
    "\n",
    "#Hyper parameter tuning\n",
    "from sklearn.model_selection import GridSearchCV\n",
    "from sklearn.model_selection import RandomizedSearchCV\n",
    "\n",
    "import warnings\n",
    "warnings.filterwarnings('ignore')"
   ]
  },
  {
   "cell_type": "code",
   "execution_count": 327,
   "metadata": {},
   "outputs": [
    {
     "data": {
      "text/html": [
       "<div>\n",
       "<style scoped>\n",
       "    .dataframe tbody tr th:only-of-type {\n",
       "        vertical-align: middle;\n",
       "    }\n",
       "\n",
       "    .dataframe tbody tr th {\n",
       "        vertical-align: top;\n",
       "    }\n",
       "\n",
       "    .dataframe thead th {\n",
       "        text-align: right;\n",
       "    }\n",
       "</style>\n",
       "<table border=\"1\" class=\"dataframe\">\n",
       "  <thead>\n",
       "    <tr style=\"text-align: right;\">\n",
       "      <th></th>\n",
       "      <th>country</th>\n",
       "      <th>country_long</th>\n",
       "      <th>name</th>\n",
       "      <th>gppd_idnr</th>\n",
       "      <th>capacity_mw</th>\n",
       "      <th>latitude</th>\n",
       "      <th>longitude</th>\n",
       "      <th>primary_fuel</th>\n",
       "      <th>other_fuel1</th>\n",
       "      <th>other_fuel2</th>\n",
       "      <th>...</th>\n",
       "      <th>geolocation_source</th>\n",
       "      <th>wepp_id</th>\n",
       "      <th>year_of_capacity_data</th>\n",
       "      <th>generation_gwh_2013</th>\n",
       "      <th>generation_gwh_2014</th>\n",
       "      <th>generation_gwh_2015</th>\n",
       "      <th>generation_gwh_2016</th>\n",
       "      <th>generation_gwh_2017</th>\n",
       "      <th>generation_data_source</th>\n",
       "      <th>estimated_generation_gwh</th>\n",
       "    </tr>\n",
       "  </thead>\n",
       "  <tbody>\n",
       "    <tr>\n",
       "      <th>0</th>\n",
       "      <td>IND</td>\n",
       "      <td>India</td>\n",
       "      <td>ACME Solar Tower</td>\n",
       "      <td>WRI1020239</td>\n",
       "      <td>2.5</td>\n",
       "      <td>28.1839</td>\n",
       "      <td>73.2407</td>\n",
       "      <td>Solar</td>\n",
       "      <td>NaN</td>\n",
       "      <td>NaN</td>\n",
       "      <td>...</td>\n",
       "      <td>National Renewable Energy Laboratory</td>\n",
       "      <td>NaN</td>\n",
       "      <td>NaN</td>\n",
       "      <td>NaN</td>\n",
       "      <td>NaN</td>\n",
       "      <td>NaN</td>\n",
       "      <td>NaN</td>\n",
       "      <td>NaN</td>\n",
       "      <td>NaN</td>\n",
       "      <td>NaN</td>\n",
       "    </tr>\n",
       "    <tr>\n",
       "      <th>1</th>\n",
       "      <td>IND</td>\n",
       "      <td>India</td>\n",
       "      <td>ADITYA CEMENT WORKS</td>\n",
       "      <td>WRI1019881</td>\n",
       "      <td>98.0</td>\n",
       "      <td>24.7663</td>\n",
       "      <td>74.6090</td>\n",
       "      <td>Coal</td>\n",
       "      <td>NaN</td>\n",
       "      <td>NaN</td>\n",
       "      <td>...</td>\n",
       "      <td>WRI</td>\n",
       "      <td>NaN</td>\n",
       "      <td>NaN</td>\n",
       "      <td>NaN</td>\n",
       "      <td>NaN</td>\n",
       "      <td>NaN</td>\n",
       "      <td>NaN</td>\n",
       "      <td>NaN</td>\n",
       "      <td>NaN</td>\n",
       "      <td>NaN</td>\n",
       "    </tr>\n",
       "    <tr>\n",
       "      <th>2</th>\n",
       "      <td>IND</td>\n",
       "      <td>India</td>\n",
       "      <td>AES Saurashtra Windfarms</td>\n",
       "      <td>WRI1026669</td>\n",
       "      <td>39.2</td>\n",
       "      <td>21.9038</td>\n",
       "      <td>69.3732</td>\n",
       "      <td>Wind</td>\n",
       "      <td>NaN</td>\n",
       "      <td>NaN</td>\n",
       "      <td>...</td>\n",
       "      <td>WRI</td>\n",
       "      <td>NaN</td>\n",
       "      <td>NaN</td>\n",
       "      <td>NaN</td>\n",
       "      <td>NaN</td>\n",
       "      <td>NaN</td>\n",
       "      <td>NaN</td>\n",
       "      <td>NaN</td>\n",
       "      <td>NaN</td>\n",
       "      <td>NaN</td>\n",
       "    </tr>\n",
       "    <tr>\n",
       "      <th>3</th>\n",
       "      <td>IND</td>\n",
       "      <td>India</td>\n",
       "      <td>AGARTALA GT</td>\n",
       "      <td>IND0000001</td>\n",
       "      <td>135.0</td>\n",
       "      <td>23.8712</td>\n",
       "      <td>91.3602</td>\n",
       "      <td>Gas</td>\n",
       "      <td>NaN</td>\n",
       "      <td>NaN</td>\n",
       "      <td>...</td>\n",
       "      <td>WRI</td>\n",
       "      <td>NaN</td>\n",
       "      <td>2018.0</td>\n",
       "      <td>631.777928</td>\n",
       "      <td>617.789264</td>\n",
       "      <td>843.747</td>\n",
       "      <td>886.004428</td>\n",
       "      <td>663.774500</td>\n",
       "      <td>Central Electricity Authority</td>\n",
       "      <td>NaN</td>\n",
       "    </tr>\n",
       "    <tr>\n",
       "      <th>4</th>\n",
       "      <td>IND</td>\n",
       "      <td>India</td>\n",
       "      <td>AKALTARA TPP</td>\n",
       "      <td>IND0000002</td>\n",
       "      <td>1800.0</td>\n",
       "      <td>21.9603</td>\n",
       "      <td>82.4091</td>\n",
       "      <td>Coal</td>\n",
       "      <td>Oil</td>\n",
       "      <td>NaN</td>\n",
       "      <td>...</td>\n",
       "      <td>WRI</td>\n",
       "      <td>NaN</td>\n",
       "      <td>2018.0</td>\n",
       "      <td>1668.290000</td>\n",
       "      <td>3035.550000</td>\n",
       "      <td>5916.370</td>\n",
       "      <td>6243.000000</td>\n",
       "      <td>5385.579736</td>\n",
       "      <td>Central Electricity Authority</td>\n",
       "      <td>NaN</td>\n",
       "    </tr>\n",
       "  </tbody>\n",
       "</table>\n",
       "<p>5 rows × 25 columns</p>\n",
       "</div>"
      ],
      "text/plain": [
       "  country country_long                      name   gppd_idnr  capacity_mw  \\\n",
       "0     IND        India          ACME Solar Tower  WRI1020239          2.5   \n",
       "1     IND        India       ADITYA CEMENT WORKS  WRI1019881         98.0   \n",
       "2     IND        India  AES Saurashtra Windfarms  WRI1026669         39.2   \n",
       "3     IND        India               AGARTALA GT  IND0000001        135.0   \n",
       "4     IND        India              AKALTARA TPP  IND0000002       1800.0   \n",
       "\n",
       "   latitude  longitude primary_fuel other_fuel1 other_fuel2  ...  \\\n",
       "0   28.1839    73.2407        Solar         NaN         NaN  ...   \n",
       "1   24.7663    74.6090         Coal         NaN         NaN  ...   \n",
       "2   21.9038    69.3732         Wind         NaN         NaN  ...   \n",
       "3   23.8712    91.3602          Gas         NaN         NaN  ...   \n",
       "4   21.9603    82.4091         Coal         Oil         NaN  ...   \n",
       "\n",
       "                     geolocation_source  wepp_id year_of_capacity_data  \\\n",
       "0  National Renewable Energy Laboratory      NaN                   NaN   \n",
       "1                                   WRI      NaN                   NaN   \n",
       "2                                   WRI      NaN                   NaN   \n",
       "3                                   WRI      NaN                2018.0   \n",
       "4                                   WRI      NaN                2018.0   \n",
       "\n",
       "  generation_gwh_2013 generation_gwh_2014 generation_gwh_2015  \\\n",
       "0                 NaN                 NaN                 NaN   \n",
       "1                 NaN                 NaN                 NaN   \n",
       "2                 NaN                 NaN                 NaN   \n",
       "3          631.777928          617.789264             843.747   \n",
       "4         1668.290000         3035.550000            5916.370   \n",
       "\n",
       "   generation_gwh_2016  generation_gwh_2017         generation_data_source  \\\n",
       "0                  NaN                  NaN                            NaN   \n",
       "1                  NaN                  NaN                            NaN   \n",
       "2                  NaN                  NaN                            NaN   \n",
       "3           886.004428           663.774500  Central Electricity Authority   \n",
       "4          6243.000000          5385.579736  Central Electricity Authority   \n",
       "\n",
       "   estimated_generation_gwh  \n",
       "0                       NaN  \n",
       "1                       NaN  \n",
       "2                       NaN  \n",
       "3                       NaN  \n",
       "4                       NaN  \n",
       "\n",
       "[5 rows x 25 columns]"
      ]
     },
     "execution_count": 327,
     "metadata": {},
     "output_type": "execute_result"
    }
   ],
   "source": [
    "#importing the dataset into dataframe\n",
    "df=pd.read_csv('GlobalPowerPlant.csv')\n",
    "df.head()"
   ]
  },
  {
   "cell_type": "code",
   "execution_count": 328,
   "metadata": {},
   "outputs": [
    {
     "data": {
      "text/plain": [
       "(908, 25)"
      ]
     },
     "execution_count": 328,
     "metadata": {},
     "output_type": "execute_result"
    }
   ],
   "source": [
    "#checking the shape of dataframe\n",
    "df.shape\n",
    "#the data frame has 908 rows and 25 columns"
   ]
  },
  {
   "cell_type": "code",
   "execution_count": 329,
   "metadata": {},
   "outputs": [],
   "source": [
    "#this is basically used to display the complete row of dataframe\n",
    "pd.set_option('display.max_rows',None)"
   ]
  },
  {
   "cell_type": "code",
   "execution_count": 330,
   "metadata": {},
   "outputs": [
    {
     "name": "stdout",
     "output_type": "stream",
     "text": [
      "<class 'pandas.core.frame.DataFrame'>\n",
      "RangeIndex: 908 entries, 0 to 907\n",
      "Data columns (total 25 columns):\n",
      " #   Column                    Non-Null Count  Dtype  \n",
      "---  ------                    --------------  -----  \n",
      " 0   country                   908 non-null    object \n",
      " 1   country_long              908 non-null    object \n",
      " 2   name                      908 non-null    object \n",
      " 3   gppd_idnr                 908 non-null    object \n",
      " 4   capacity_mw               908 non-null    float64\n",
      " 5   latitude                  862 non-null    float64\n",
      " 6   longitude                 862 non-null    float64\n",
      " 7   primary_fuel              908 non-null    object \n",
      " 8   other_fuel1               199 non-null    object \n",
      " 9   other_fuel2               1 non-null      object \n",
      " 10  other_fuel3               0 non-null      float64\n",
      " 11  commissioning_year        528 non-null    float64\n",
      " 12  owner                     342 non-null    object \n",
      " 13  source                    908 non-null    object \n",
      " 14  url                       908 non-null    object \n",
      " 15  geolocation_source        889 non-null    object \n",
      " 16  wepp_id                   0 non-null      float64\n",
      " 17  year_of_capacity_data     520 non-null    float64\n",
      " 18  generation_gwh_2013       384 non-null    float64\n",
      " 19  generation_gwh_2014       401 non-null    float64\n",
      " 20  generation_gwh_2015       425 non-null    float64\n",
      " 21  generation_gwh_2016       437 non-null    float64\n",
      " 22  generation_gwh_2017       443 non-null    float64\n",
      " 23  generation_data_source    450 non-null    object \n",
      " 24  estimated_generation_gwh  0 non-null      float64\n",
      "dtypes: float64(13), object(12)\n",
      "memory usage: 177.5+ KB\n"
     ]
    }
   ],
   "source": [
    "df.info()\n",
    "#Here there is the datatypes consist of object,float64."
   ]
  },
  {
   "cell_type": "code",
   "execution_count": 331,
   "metadata": {},
   "outputs": [
    {
     "data": {
      "text/plain": [
       "country                       0\n",
       "country_long                  0\n",
       "name                          0\n",
       "gppd_idnr                     0\n",
       "capacity_mw                   0\n",
       "latitude                     46\n",
       "longitude                    46\n",
       "primary_fuel                  0\n",
       "other_fuel1                 709\n",
       "other_fuel2                 907\n",
       "other_fuel3                 908\n",
       "commissioning_year          380\n",
       "owner                       566\n",
       "source                        0\n",
       "url                           0\n",
       "geolocation_source           19\n",
       "wepp_id                     908\n",
       "year_of_capacity_data       388\n",
       "generation_gwh_2013         524\n",
       "generation_gwh_2014         507\n",
       "generation_gwh_2015         483\n",
       "generation_gwh_2016         471\n",
       "generation_gwh_2017         465\n",
       "generation_data_source      458\n",
       "estimated_generation_gwh    908\n",
       "dtype: int64"
      ]
     },
     "execution_count": 331,
     "metadata": {},
     "output_type": "execute_result"
    }
   ],
   "source": [
    "#checking the null value in the dataframe\n",
    "df.isna().sum()"
   ]
  },
  {
   "cell_type": "code",
   "execution_count": 332,
   "metadata": {},
   "outputs": [],
   "source": [
    "#there is lots of null value present in the multiple features.\n",
    "#delete the features which having more than 50% null values.(50% is 454)\n",
    "#estimated_generation_gwh,generation_data_source,generation_gwh_2017,generation_gwh_2015,generation_gwh_2014,generation_gwh_2013\n",
    "#wepp_id,owner,other_fuel1,other_fuel2,other_fuel3."
   ]
  },
  {
   "cell_type": "code",
   "execution_count": 333,
   "metadata": {},
   "outputs": [],
   "source": [
    "#dropping the columns which having more than 50% null values.\n",
    "df=df.drop(columns=['estimated_generation_gwh','generation_data_source','generation_gwh_2017','generation_gwh_2016','generation_gwh_2015','generation_gwh_2014','generation_gwh_2013','wepp_id','owner','other_fuel1','other_fuel2','other_fuel3'],axis=1)"
   ]
  },
  {
   "cell_type": "code",
   "execution_count": 334,
   "metadata": {},
   "outputs": [
    {
     "data": {
      "text/plain": [
       "2018.0    520\n",
       "Name: year_of_capacity_data, dtype: int64"
      ]
     },
     "execution_count": 334,
     "metadata": {},
     "output_type": "execute_result"
    }
   ],
   "source": [
    "#latitude(mean),longitude(mean)\n",
    "#commissioning_year,geolocation_source MOD ,year_of_capacity_data MOD\n",
    "df['year_of_capacity_data'].value_counts()"
   ]
  },
  {
   "cell_type": "code",
   "execution_count": 335,
   "metadata": {},
   "outputs": [],
   "source": [
    "#filling the null value with mean and mod values:\n",
    "df['latitude']=df['latitude'].fillna(df['latitude'].median())\n",
    "df['longitude']=df['longitude'].fillna(df['longitude'].median())\n",
    "\n",
    "df['commissioning_year']=df['commissioning_year'].fillna(df['commissioning_year'].mode()[0])\n",
    "df['year_of_capacity_data']=df['year_of_capacity_data'].fillna(df['year_of_capacity_data'].mode()[0])\n",
    "df['geolocation_source']=df['geolocation_source'].fillna(df['geolocation_source'].mode()[0])"
   ]
  },
  {
   "cell_type": "code",
   "execution_count": 336,
   "metadata": {},
   "outputs": [
    {
     "data": {
      "text/plain": [
       "country                  0\n",
       "country_long             0\n",
       "name                     0\n",
       "gppd_idnr                0\n",
       "capacity_mw              0\n",
       "latitude                 0\n",
       "longitude                0\n",
       "primary_fuel             0\n",
       "commissioning_year       0\n",
       "source                   0\n",
       "url                      0\n",
       "geolocation_source       0\n",
       "year_of_capacity_data    0\n",
       "dtype: int64"
      ]
     },
     "execution_count": 336,
     "metadata": {},
     "output_type": "execute_result"
    }
   ],
   "source": [
    "#checking the null value in the dataframe after removing all the null values\n",
    "df.isna().sum()"
   ]
  },
  {
   "cell_type": "code",
   "execution_count": 337,
   "metadata": {},
   "outputs": [
    {
     "data": {
      "text/html": [
       "<div>\n",
       "<style scoped>\n",
       "    .dataframe tbody tr th:only-of-type {\n",
       "        vertical-align: middle;\n",
       "    }\n",
       "\n",
       "    .dataframe tbody tr th {\n",
       "        vertical-align: top;\n",
       "    }\n",
       "\n",
       "    .dataframe thead th {\n",
       "        text-align: right;\n",
       "    }\n",
       "</style>\n",
       "<table border=\"1\" class=\"dataframe\">\n",
       "  <thead>\n",
       "    <tr style=\"text-align: right;\">\n",
       "      <th></th>\n",
       "      <th>country</th>\n",
       "      <th>country_long</th>\n",
       "      <th>name</th>\n",
       "      <th>gppd_idnr</th>\n",
       "      <th>capacity_mw</th>\n",
       "      <th>latitude</th>\n",
       "      <th>longitude</th>\n",
       "      <th>primary_fuel</th>\n",
       "      <th>commissioning_year</th>\n",
       "      <th>source</th>\n",
       "      <th>url</th>\n",
       "      <th>geolocation_source</th>\n",
       "      <th>year_of_capacity_data</th>\n",
       "    </tr>\n",
       "  </thead>\n",
       "  <tbody>\n",
       "    <tr>\n",
       "      <th>0</th>\n",
       "      <td>IND</td>\n",
       "      <td>India</td>\n",
       "      <td>ACME Solar Tower</td>\n",
       "      <td>WRI1020239</td>\n",
       "      <td>2.5</td>\n",
       "      <td>28.1839</td>\n",
       "      <td>73.2407</td>\n",
       "      <td>Solar</td>\n",
       "      <td>2011.0</td>\n",
       "      <td>National Renewable Energy Laboratory</td>\n",
       "      <td>http://www.nrel.gov/csp/solarpaces/project_det...</td>\n",
       "      <td>National Renewable Energy Laboratory</td>\n",
       "      <td>2018.0</td>\n",
       "    </tr>\n",
       "    <tr>\n",
       "      <th>1</th>\n",
       "      <td>IND</td>\n",
       "      <td>India</td>\n",
       "      <td>ADITYA CEMENT WORKS</td>\n",
       "      <td>WRI1019881</td>\n",
       "      <td>98.0</td>\n",
       "      <td>24.7663</td>\n",
       "      <td>74.6090</td>\n",
       "      <td>Coal</td>\n",
       "      <td>2013.0</td>\n",
       "      <td>Ultratech Cement ltd</td>\n",
       "      <td>http://www.ultratechcement.com/</td>\n",
       "      <td>WRI</td>\n",
       "      <td>2018.0</td>\n",
       "    </tr>\n",
       "    <tr>\n",
       "      <th>2</th>\n",
       "      <td>IND</td>\n",
       "      <td>India</td>\n",
       "      <td>AES Saurashtra Windfarms</td>\n",
       "      <td>WRI1026669</td>\n",
       "      <td>39.2</td>\n",
       "      <td>21.9038</td>\n",
       "      <td>69.3732</td>\n",
       "      <td>Wind</td>\n",
       "      <td>2013.0</td>\n",
       "      <td>CDM</td>\n",
       "      <td>https://cdm.unfccc.int/Projects/DB/DNV-CUK1328...</td>\n",
       "      <td>WRI</td>\n",
       "      <td>2018.0</td>\n",
       "    </tr>\n",
       "    <tr>\n",
       "      <th>3</th>\n",
       "      <td>IND</td>\n",
       "      <td>India</td>\n",
       "      <td>AGARTALA GT</td>\n",
       "      <td>IND0000001</td>\n",
       "      <td>135.0</td>\n",
       "      <td>23.8712</td>\n",
       "      <td>91.3602</td>\n",
       "      <td>Gas</td>\n",
       "      <td>2004.0</td>\n",
       "      <td>Central Electricity Authority</td>\n",
       "      <td>http://www.cea.nic.in/</td>\n",
       "      <td>WRI</td>\n",
       "      <td>2018.0</td>\n",
       "    </tr>\n",
       "    <tr>\n",
       "      <th>4</th>\n",
       "      <td>IND</td>\n",
       "      <td>India</td>\n",
       "      <td>AKALTARA TPP</td>\n",
       "      <td>IND0000002</td>\n",
       "      <td>1800.0</td>\n",
       "      <td>21.9603</td>\n",
       "      <td>82.4091</td>\n",
       "      <td>Coal</td>\n",
       "      <td>2015.0</td>\n",
       "      <td>Central Electricity Authority</td>\n",
       "      <td>http://www.cea.nic.in/</td>\n",
       "      <td>WRI</td>\n",
       "      <td>2018.0</td>\n",
       "    </tr>\n",
       "  </tbody>\n",
       "</table>\n",
       "</div>"
      ],
      "text/plain": [
       "  country country_long                      name   gppd_idnr  capacity_mw  \\\n",
       "0     IND        India          ACME Solar Tower  WRI1020239          2.5   \n",
       "1     IND        India       ADITYA CEMENT WORKS  WRI1019881         98.0   \n",
       "2     IND        India  AES Saurashtra Windfarms  WRI1026669         39.2   \n",
       "3     IND        India               AGARTALA GT  IND0000001        135.0   \n",
       "4     IND        India              AKALTARA TPP  IND0000002       1800.0   \n",
       "\n",
       "   latitude  longitude primary_fuel  commissioning_year  \\\n",
       "0   28.1839    73.2407        Solar              2011.0   \n",
       "1   24.7663    74.6090         Coal              2013.0   \n",
       "2   21.9038    69.3732         Wind              2013.0   \n",
       "3   23.8712    91.3602          Gas              2004.0   \n",
       "4   21.9603    82.4091         Coal              2015.0   \n",
       "\n",
       "                                 source  \\\n",
       "0  National Renewable Energy Laboratory   \n",
       "1                  Ultratech Cement ltd   \n",
       "2                                   CDM   \n",
       "3         Central Electricity Authority   \n",
       "4         Central Electricity Authority   \n",
       "\n",
       "                                                 url  \\\n",
       "0  http://www.nrel.gov/csp/solarpaces/project_det...   \n",
       "1                    http://www.ultratechcement.com/   \n",
       "2  https://cdm.unfccc.int/Projects/DB/DNV-CUK1328...   \n",
       "3                             http://www.cea.nic.in/   \n",
       "4                             http://www.cea.nic.in/   \n",
       "\n",
       "                     geolocation_source  year_of_capacity_data  \n",
       "0  National Renewable Energy Laboratory                 2018.0  \n",
       "1                                   WRI                 2018.0  \n",
       "2                                   WRI                 2018.0  \n",
       "3                                   WRI                 2018.0  \n",
       "4                                   WRI                 2018.0  "
      ]
     },
     "execution_count": 337,
     "metadata": {},
     "output_type": "execute_result"
    }
   ],
   "source": [
    "#there is no null values in the features.\n",
    "df.head()"
   ]
  },
  {
   "cell_type": "code",
   "execution_count": 338,
   "metadata": {},
   "outputs": [
    {
     "data": {
      "text/plain": [
       "(908, 13)"
      ]
     },
     "execution_count": 338,
     "metadata": {},
     "output_type": "execute_result"
    }
   ],
   "source": [
    "#checking the new shape of data.\n",
    "df.shape"
   ]
  },
  {
   "cell_type": "code",
   "execution_count": 339,
   "metadata": {},
   "outputs": [],
   "source": [
    "#the new shape is 908 rows and 13 columns"
   ]
  },
  {
   "cell_type": "code",
   "execution_count": 340,
   "metadata": {},
   "outputs": [
    {
     "data": {
      "text/html": [
       "<div>\n",
       "<style scoped>\n",
       "    .dataframe tbody tr th:only-of-type {\n",
       "        vertical-align: middle;\n",
       "    }\n",
       "\n",
       "    .dataframe tbody tr th {\n",
       "        vertical-align: top;\n",
       "    }\n",
       "\n",
       "    .dataframe thead th {\n",
       "        text-align: right;\n",
       "    }\n",
       "</style>\n",
       "<table border=\"1\" class=\"dataframe\">\n",
       "  <thead>\n",
       "    <tr style=\"text-align: right;\">\n",
       "      <th></th>\n",
       "      <th>capacity_mw</th>\n",
       "      <th>latitude</th>\n",
       "      <th>longitude</th>\n",
       "      <th>commissioning_year</th>\n",
       "      <th>year_of_capacity_data</th>\n",
       "    </tr>\n",
       "  </thead>\n",
       "  <tbody>\n",
       "    <tr>\n",
       "      <th>count</th>\n",
       "      <td>908.000000</td>\n",
       "      <td>908.000000</td>\n",
       "      <td>908.000000</td>\n",
       "      <td>908.000000</td>\n",
       "      <td>908.0</td>\n",
       "    </tr>\n",
       "    <tr>\n",
       "      <th>mean</th>\n",
       "      <td>321.046378</td>\n",
       "      <td>21.225679</td>\n",
       "      <td>77.410936</td>\n",
       "      <td>2003.624449</td>\n",
       "      <td>2018.0</td>\n",
       "    </tr>\n",
       "    <tr>\n",
       "      <th>std</th>\n",
       "      <td>580.221767</td>\n",
       "      <td>6.089450</td>\n",
       "      <td>4.783873</td>\n",
       "      <td>15.238021</td>\n",
       "      <td>0.0</td>\n",
       "    </tr>\n",
       "    <tr>\n",
       "      <th>min</th>\n",
       "      <td>0.000000</td>\n",
       "      <td>8.168900</td>\n",
       "      <td>68.644700</td>\n",
       "      <td>1927.000000</td>\n",
       "      <td>2018.0</td>\n",
       "    </tr>\n",
       "    <tr>\n",
       "      <th>25%</th>\n",
       "      <td>16.837500</td>\n",
       "      <td>17.057825</td>\n",
       "      <td>74.390250</td>\n",
       "      <td>1997.000000</td>\n",
       "      <td>2018.0</td>\n",
       "    </tr>\n",
       "    <tr>\n",
       "      <th>50%</th>\n",
       "      <td>60.000000</td>\n",
       "      <td>21.778300</td>\n",
       "      <td>76.719250</td>\n",
       "      <td>2013.000000</td>\n",
       "      <td>2018.0</td>\n",
       "    </tr>\n",
       "    <tr>\n",
       "      <th>75%</th>\n",
       "      <td>388.125000</td>\n",
       "      <td>25.183775</td>\n",
       "      <td>79.211600</td>\n",
       "      <td>2013.000000</td>\n",
       "      <td>2018.0</td>\n",
       "    </tr>\n",
       "    <tr>\n",
       "      <th>max</th>\n",
       "      <td>4760.000000</td>\n",
       "      <td>34.649000</td>\n",
       "      <td>95.408000</td>\n",
       "      <td>2018.000000</td>\n",
       "      <td>2018.0</td>\n",
       "    </tr>\n",
       "  </tbody>\n",
       "</table>\n",
       "</div>"
      ],
      "text/plain": [
       "       capacity_mw    latitude   longitude  commissioning_year  \\\n",
       "count   908.000000  908.000000  908.000000          908.000000   \n",
       "mean    321.046378   21.225679   77.410936         2003.624449   \n",
       "std     580.221767    6.089450    4.783873           15.238021   \n",
       "min       0.000000    8.168900   68.644700         1927.000000   \n",
       "25%      16.837500   17.057825   74.390250         1997.000000   \n",
       "50%      60.000000   21.778300   76.719250         2013.000000   \n",
       "75%     388.125000   25.183775   79.211600         2013.000000   \n",
       "max    4760.000000   34.649000   95.408000         2018.000000   \n",
       "\n",
       "       year_of_capacity_data  \n",
       "count                  908.0  \n",
       "mean                  2018.0  \n",
       "std                      0.0  \n",
       "min                   2018.0  \n",
       "25%                   2018.0  \n",
       "50%                   2018.0  \n",
       "75%                   2018.0  \n",
       "max                   2018.0  "
      ]
     },
     "execution_count": 340,
     "metadata": {},
     "output_type": "execute_result"
    }
   ],
   "source": [
    "#discribe the dataframe\n",
    "df.describe()"
   ]
  },
  {
   "cell_type": "code",
   "execution_count": 341,
   "metadata": {},
   "outputs": [],
   "source": [
    "#here we can see that the mean and median(50%) not looks normal so there is outliers is availble in the features.\n",
    "#the Standerd daviatian is also not look normal."
   ]
  },
  {
   "cell_type": "code",
   "execution_count": 342,
   "metadata": {},
   "outputs": [
    {
     "data": {
      "text/html": [
       "<div>\n",
       "<style scoped>\n",
       "    .dataframe tbody tr th:only-of-type {\n",
       "        vertical-align: middle;\n",
       "    }\n",
       "\n",
       "    .dataframe tbody tr th {\n",
       "        vertical-align: top;\n",
       "    }\n",
       "\n",
       "    .dataframe thead th {\n",
       "        text-align: right;\n",
       "    }\n",
       "</style>\n",
       "<table border=\"1\" class=\"dataframe\">\n",
       "  <thead>\n",
       "    <tr style=\"text-align: right;\">\n",
       "      <th></th>\n",
       "      <th>country</th>\n",
       "      <th>country_long</th>\n",
       "      <th>name</th>\n",
       "      <th>gppd_idnr</th>\n",
       "      <th>capacity_mw</th>\n",
       "      <th>latitude</th>\n",
       "      <th>longitude</th>\n",
       "      <th>primary_fuel</th>\n",
       "      <th>commissioning_year</th>\n",
       "      <th>source</th>\n",
       "      <th>url</th>\n",
       "      <th>geolocation_source</th>\n",
       "      <th>year_of_capacity_data</th>\n",
       "    </tr>\n",
       "  </thead>\n",
       "  <tbody>\n",
       "    <tr>\n",
       "      <th>0</th>\n",
       "      <td>IND</td>\n",
       "      <td>India</td>\n",
       "      <td>ACME Solar Tower</td>\n",
       "      <td>WRI1020239</td>\n",
       "      <td>2.5</td>\n",
       "      <td>28.1839</td>\n",
       "      <td>73.2407</td>\n",
       "      <td>Solar</td>\n",
       "      <td>2011.0</td>\n",
       "      <td>National Renewable Energy Laboratory</td>\n",
       "      <td>http://www.nrel.gov/csp/solarpaces/project_det...</td>\n",
       "      <td>National Renewable Energy Laboratory</td>\n",
       "      <td>2018.0</td>\n",
       "    </tr>\n",
       "    <tr>\n",
       "      <th>1</th>\n",
       "      <td>IND</td>\n",
       "      <td>India</td>\n",
       "      <td>ADITYA CEMENT WORKS</td>\n",
       "      <td>WRI1019881</td>\n",
       "      <td>98.0</td>\n",
       "      <td>24.7663</td>\n",
       "      <td>74.6090</td>\n",
       "      <td>Coal</td>\n",
       "      <td>2013.0</td>\n",
       "      <td>Ultratech Cement ltd</td>\n",
       "      <td>http://www.ultratechcement.com/</td>\n",
       "      <td>WRI</td>\n",
       "      <td>2018.0</td>\n",
       "    </tr>\n",
       "    <tr>\n",
       "      <th>2</th>\n",
       "      <td>IND</td>\n",
       "      <td>India</td>\n",
       "      <td>AES Saurashtra Windfarms</td>\n",
       "      <td>WRI1026669</td>\n",
       "      <td>39.2</td>\n",
       "      <td>21.9038</td>\n",
       "      <td>69.3732</td>\n",
       "      <td>Wind</td>\n",
       "      <td>2013.0</td>\n",
       "      <td>CDM</td>\n",
       "      <td>https://cdm.unfccc.int/Projects/DB/DNV-CUK1328...</td>\n",
       "      <td>WRI</td>\n",
       "      <td>2018.0</td>\n",
       "    </tr>\n",
       "    <tr>\n",
       "      <th>3</th>\n",
       "      <td>IND</td>\n",
       "      <td>India</td>\n",
       "      <td>AGARTALA GT</td>\n",
       "      <td>IND0000001</td>\n",
       "      <td>135.0</td>\n",
       "      <td>23.8712</td>\n",
       "      <td>91.3602</td>\n",
       "      <td>Gas</td>\n",
       "      <td>2004.0</td>\n",
       "      <td>Central Electricity Authority</td>\n",
       "      <td>http://www.cea.nic.in/</td>\n",
       "      <td>WRI</td>\n",
       "      <td>2018.0</td>\n",
       "    </tr>\n",
       "    <tr>\n",
       "      <th>4</th>\n",
       "      <td>IND</td>\n",
       "      <td>India</td>\n",
       "      <td>AKALTARA TPP</td>\n",
       "      <td>IND0000002</td>\n",
       "      <td>1800.0</td>\n",
       "      <td>21.9603</td>\n",
       "      <td>82.4091</td>\n",
       "      <td>Coal</td>\n",
       "      <td>2015.0</td>\n",
       "      <td>Central Electricity Authority</td>\n",
       "      <td>http://www.cea.nic.in/</td>\n",
       "      <td>WRI</td>\n",
       "      <td>2018.0</td>\n",
       "    </tr>\n",
       "  </tbody>\n",
       "</table>\n",
       "</div>"
      ],
      "text/plain": [
       "  country country_long                      name   gppd_idnr  capacity_mw  \\\n",
       "0     IND        India          ACME Solar Tower  WRI1020239          2.5   \n",
       "1     IND        India       ADITYA CEMENT WORKS  WRI1019881         98.0   \n",
       "2     IND        India  AES Saurashtra Windfarms  WRI1026669         39.2   \n",
       "3     IND        India               AGARTALA GT  IND0000001        135.0   \n",
       "4     IND        India              AKALTARA TPP  IND0000002       1800.0   \n",
       "\n",
       "   latitude  longitude primary_fuel  commissioning_year  \\\n",
       "0   28.1839    73.2407        Solar              2011.0   \n",
       "1   24.7663    74.6090         Coal              2013.0   \n",
       "2   21.9038    69.3732         Wind              2013.0   \n",
       "3   23.8712    91.3602          Gas              2004.0   \n",
       "4   21.9603    82.4091         Coal              2015.0   \n",
       "\n",
       "                                 source  \\\n",
       "0  National Renewable Energy Laboratory   \n",
       "1                  Ultratech Cement ltd   \n",
       "2                                   CDM   \n",
       "3         Central Electricity Authority   \n",
       "4         Central Electricity Authority   \n",
       "\n",
       "                                                 url  \\\n",
       "0  http://www.nrel.gov/csp/solarpaces/project_det...   \n",
       "1                    http://www.ultratechcement.com/   \n",
       "2  https://cdm.unfccc.int/Projects/DB/DNV-CUK1328...   \n",
       "3                             http://www.cea.nic.in/   \n",
       "4                             http://www.cea.nic.in/   \n",
       "\n",
       "                     geolocation_source  year_of_capacity_data  \n",
       "0  National Renewable Energy Laboratory                 2018.0  \n",
       "1                                   WRI                 2018.0  \n",
       "2                                   WRI                 2018.0  \n",
       "3                                   WRI                 2018.0  \n",
       "4                                   WRI                 2018.0  "
      ]
     },
     "execution_count": 342,
     "metadata": {},
     "output_type": "execute_result"
    }
   ],
   "source": [
    "df.head()"
   ]
  },
  {
   "cell_type": "code",
   "execution_count": 343,
   "metadata": {},
   "outputs": [
    {
     "data": {
      "text/plain": [
       "WRI                                     785\n",
       "Industry About                          119\n",
       "National Renewable Energy Laboratory      4\n",
       "Name: geolocation_source, dtype: int64"
      ]
     },
     "execution_count": 343,
     "metadata": {},
     "output_type": "execute_result"
    }
   ],
   "source": [
    "#country,country_long,name,gppd_idnr,primary_fuel,source,url,geolocation_source\n",
    "#source,url,geolocation_source\n",
    "df['geolocation_source'].value_counts() "
   ]
  },
  {
   "cell_type": "code",
   "execution_count": 344,
   "metadata": {},
   "outputs": [],
   "source": [
    "#encoding the catagorical data using label encoding\n",
    "lb=LabelEncoder()\n",
    "\n",
    "lb_var=['country','country_long','name','gppd_idnr','primary_fuel','source','url','geolocation_source']\n",
    "\n",
    "for i in lb_var:\n",
    "    df[i]=lb.fit_transform(df[i])"
   ]
  },
  {
   "cell_type": "code",
   "execution_count": 345,
   "metadata": {},
   "outputs": [
    {
     "data": {
      "text/html": [
       "<div>\n",
       "<style scoped>\n",
       "    .dataframe tbody tr th:only-of-type {\n",
       "        vertical-align: middle;\n",
       "    }\n",
       "\n",
       "    .dataframe tbody tr th {\n",
       "        vertical-align: top;\n",
       "    }\n",
       "\n",
       "    .dataframe thead th {\n",
       "        text-align: right;\n",
       "    }\n",
       "</style>\n",
       "<table border=\"1\" class=\"dataframe\">\n",
       "  <thead>\n",
       "    <tr style=\"text-align: right;\">\n",
       "      <th></th>\n",
       "      <th>country</th>\n",
       "      <th>country_long</th>\n",
       "      <th>name</th>\n",
       "      <th>gppd_idnr</th>\n",
       "      <th>capacity_mw</th>\n",
       "      <th>latitude</th>\n",
       "      <th>longitude</th>\n",
       "      <th>primary_fuel</th>\n",
       "      <th>commissioning_year</th>\n",
       "      <th>source</th>\n",
       "      <th>url</th>\n",
       "      <th>geolocation_source</th>\n",
       "      <th>year_of_capacity_data</th>\n",
       "    </tr>\n",
       "  </thead>\n",
       "  <tbody>\n",
       "    <tr>\n",
       "      <th>0</th>\n",
       "      <td>0</td>\n",
       "      <td>0</td>\n",
       "      <td>0</td>\n",
       "      <td>658</td>\n",
       "      <td>2.5</td>\n",
       "      <td>28.1839</td>\n",
       "      <td>73.2407</td>\n",
       "      <td>6</td>\n",
       "      <td>2011.0</td>\n",
       "      <td>109</td>\n",
       "      <td>128</td>\n",
       "      <td>1</td>\n",
       "      <td>2018.0</td>\n",
       "    </tr>\n",
       "    <tr>\n",
       "      <th>1</th>\n",
       "      <td>0</td>\n",
       "      <td>0</td>\n",
       "      <td>1</td>\n",
       "      <td>520</td>\n",
       "      <td>98.0</td>\n",
       "      <td>24.7663</td>\n",
       "      <td>74.6090</td>\n",
       "      <td>1</td>\n",
       "      <td>2013.0</td>\n",
       "      <td>174</td>\n",
       "      <td>173</td>\n",
       "      <td>2</td>\n",
       "      <td>2018.0</td>\n",
       "    </tr>\n",
       "    <tr>\n",
       "      <th>2</th>\n",
       "      <td>0</td>\n",
       "      <td>0</td>\n",
       "      <td>2</td>\n",
       "      <td>854</td>\n",
       "      <td>39.2</td>\n",
       "      <td>21.9038</td>\n",
       "      <td>69.3732</td>\n",
       "      <td>7</td>\n",
       "      <td>2013.0</td>\n",
       "      <td>21</td>\n",
       "      <td>205</td>\n",
       "      <td>2</td>\n",
       "      <td>2018.0</td>\n",
       "    </tr>\n",
       "    <tr>\n",
       "      <th>3</th>\n",
       "      <td>0</td>\n",
       "      <td>0</td>\n",
       "      <td>3</td>\n",
       "      <td>0</td>\n",
       "      <td>135.0</td>\n",
       "      <td>23.8712</td>\n",
       "      <td>91.3602</td>\n",
       "      <td>2</td>\n",
       "      <td>2004.0</td>\n",
       "      <td>22</td>\n",
       "      <td>58</td>\n",
       "      <td>2</td>\n",
       "      <td>2018.0</td>\n",
       "    </tr>\n",
       "    <tr>\n",
       "      <th>4</th>\n",
       "      <td>0</td>\n",
       "      <td>0</td>\n",
       "      <td>4</td>\n",
       "      <td>1</td>\n",
       "      <td>1800.0</td>\n",
       "      <td>21.9603</td>\n",
       "      <td>82.4091</td>\n",
       "      <td>1</td>\n",
       "      <td>2015.0</td>\n",
       "      <td>22</td>\n",
       "      <td>58</td>\n",
       "      <td>2</td>\n",
       "      <td>2018.0</td>\n",
       "    </tr>\n",
       "  </tbody>\n",
       "</table>\n",
       "</div>"
      ],
      "text/plain": [
       "   country  country_long  name  gppd_idnr  capacity_mw  latitude  longitude  \\\n",
       "0        0             0     0        658          2.5   28.1839    73.2407   \n",
       "1        0             0     1        520         98.0   24.7663    74.6090   \n",
       "2        0             0     2        854         39.2   21.9038    69.3732   \n",
       "3        0             0     3          0        135.0   23.8712    91.3602   \n",
       "4        0             0     4          1       1800.0   21.9603    82.4091   \n",
       "\n",
       "   primary_fuel  commissioning_year  source  url  geolocation_source  \\\n",
       "0             6              2011.0     109  128                   1   \n",
       "1             1              2013.0     174  173                   2   \n",
       "2             7              2013.0      21  205                   2   \n",
       "3             2              2004.0      22   58                   2   \n",
       "4             1              2015.0      22   58                   2   \n",
       "\n",
       "   year_of_capacity_data  \n",
       "0                 2018.0  \n",
       "1                 2018.0  \n",
       "2                 2018.0  \n",
       "3                 2018.0  \n",
       "4                 2018.0  "
      ]
     },
     "execution_count": 345,
     "metadata": {},
     "output_type": "execute_result"
    }
   ],
   "source": [
    "df.head()"
   ]
  },
  {
   "cell_type": "code",
   "execution_count": 346,
   "metadata": {},
   "outputs": [
    {
     "data": {
      "text/plain": [
       "2    785\n",
       "0    119\n",
       "1      4\n",
       "Name: geolocation_source, dtype: int64"
      ]
     },
     "execution_count": 346,
     "metadata": {},
     "output_type": "execute_result"
    }
   ],
   "source": [
    "#source,url,geolocation_source\n",
    "df['geolocation_source'].value_counts() "
   ]
  },
  {
   "cell_type": "code",
   "execution_count": 347,
   "metadata": {},
   "outputs": [
    {
     "data": {
      "text/html": [
       "<div>\n",
       "<style scoped>\n",
       "    .dataframe tbody tr th:only-of-type {\n",
       "        vertical-align: middle;\n",
       "    }\n",
       "\n",
       "    .dataframe tbody tr th {\n",
       "        vertical-align: top;\n",
       "    }\n",
       "\n",
       "    .dataframe thead th {\n",
       "        text-align: right;\n",
       "    }\n",
       "</style>\n",
       "<table border=\"1\" class=\"dataframe\">\n",
       "  <thead>\n",
       "    <tr style=\"text-align: right;\">\n",
       "      <th></th>\n",
       "      <th>country</th>\n",
       "      <th>country_long</th>\n",
       "      <th>name</th>\n",
       "      <th>gppd_idnr</th>\n",
       "      <th>capacity_mw</th>\n",
       "      <th>latitude</th>\n",
       "      <th>longitude</th>\n",
       "      <th>primary_fuel</th>\n",
       "      <th>commissioning_year</th>\n",
       "      <th>source</th>\n",
       "      <th>url</th>\n",
       "      <th>year_of_capacity_data</th>\n",
       "      <th>geolocation_source_0</th>\n",
       "      <th>geolocation_source_1</th>\n",
       "      <th>geolocation_source_2</th>\n",
       "    </tr>\n",
       "  </thead>\n",
       "  <tbody>\n",
       "    <tr>\n",
       "      <th>0</th>\n",
       "      <td>0</td>\n",
       "      <td>0</td>\n",
       "      <td>0</td>\n",
       "      <td>658</td>\n",
       "      <td>2.5</td>\n",
       "      <td>28.1839</td>\n",
       "      <td>73.2407</td>\n",
       "      <td>6</td>\n",
       "      <td>2011.0</td>\n",
       "      <td>109</td>\n",
       "      <td>128</td>\n",
       "      <td>2018.0</td>\n",
       "      <td>0</td>\n",
       "      <td>1</td>\n",
       "      <td>0</td>\n",
       "    </tr>\n",
       "    <tr>\n",
       "      <th>1</th>\n",
       "      <td>0</td>\n",
       "      <td>0</td>\n",
       "      <td>1</td>\n",
       "      <td>520</td>\n",
       "      <td>98.0</td>\n",
       "      <td>24.7663</td>\n",
       "      <td>74.6090</td>\n",
       "      <td>1</td>\n",
       "      <td>2013.0</td>\n",
       "      <td>174</td>\n",
       "      <td>173</td>\n",
       "      <td>2018.0</td>\n",
       "      <td>0</td>\n",
       "      <td>0</td>\n",
       "      <td>1</td>\n",
       "    </tr>\n",
       "    <tr>\n",
       "      <th>2</th>\n",
       "      <td>0</td>\n",
       "      <td>0</td>\n",
       "      <td>2</td>\n",
       "      <td>854</td>\n",
       "      <td>39.2</td>\n",
       "      <td>21.9038</td>\n",
       "      <td>69.3732</td>\n",
       "      <td>7</td>\n",
       "      <td>2013.0</td>\n",
       "      <td>21</td>\n",
       "      <td>205</td>\n",
       "      <td>2018.0</td>\n",
       "      <td>0</td>\n",
       "      <td>0</td>\n",
       "      <td>1</td>\n",
       "    </tr>\n",
       "    <tr>\n",
       "      <th>3</th>\n",
       "      <td>0</td>\n",
       "      <td>0</td>\n",
       "      <td>3</td>\n",
       "      <td>0</td>\n",
       "      <td>135.0</td>\n",
       "      <td>23.8712</td>\n",
       "      <td>91.3602</td>\n",
       "      <td>2</td>\n",
       "      <td>2004.0</td>\n",
       "      <td>22</td>\n",
       "      <td>58</td>\n",
       "      <td>2018.0</td>\n",
       "      <td>0</td>\n",
       "      <td>0</td>\n",
       "      <td>1</td>\n",
       "    </tr>\n",
       "    <tr>\n",
       "      <th>4</th>\n",
       "      <td>0</td>\n",
       "      <td>0</td>\n",
       "      <td>4</td>\n",
       "      <td>1</td>\n",
       "      <td>1800.0</td>\n",
       "      <td>21.9603</td>\n",
       "      <td>82.4091</td>\n",
       "      <td>1</td>\n",
       "      <td>2015.0</td>\n",
       "      <td>22</td>\n",
       "      <td>58</td>\n",
       "      <td>2018.0</td>\n",
       "      <td>0</td>\n",
       "      <td>0</td>\n",
       "      <td>1</td>\n",
       "    </tr>\n",
       "  </tbody>\n",
       "</table>\n",
       "</div>"
      ],
      "text/plain": [
       "   country  country_long  name  gppd_idnr  capacity_mw  latitude  longitude  \\\n",
       "0        0             0     0        658          2.5   28.1839    73.2407   \n",
       "1        0             0     1        520         98.0   24.7663    74.6090   \n",
       "2        0             0     2        854         39.2   21.9038    69.3732   \n",
       "3        0             0     3          0        135.0   23.8712    91.3602   \n",
       "4        0             0     4          1       1800.0   21.9603    82.4091   \n",
       "\n",
       "   primary_fuel  commissioning_year  source  url  year_of_capacity_data  \\\n",
       "0             6              2011.0     109  128                 2018.0   \n",
       "1             1              2013.0     174  173                 2018.0   \n",
       "2             7              2013.0      21  205                 2018.0   \n",
       "3             2              2004.0      22   58                 2018.0   \n",
       "4             1              2015.0      22   58                 2018.0   \n",
       "\n",
       "   geolocation_source_0  geolocation_source_1  geolocation_source_2  \n",
       "0                     0                     1                     0  \n",
       "1                     0                     0                     1  \n",
       "2                     0                     0                     1  \n",
       "3                     0                     0                     1  \n",
       "4                     0                     0                     1  "
      ]
     },
     "execution_count": 347,
     "metadata": {},
     "output_type": "execute_result"
    }
   ],
   "source": [
    "df=pd.get_dummies(df,columns=['geolocation_source'])\n",
    "df.head()"
   ]
  },
  {
   "cell_type": "code",
   "execution_count": 348,
   "metadata": {},
   "outputs": [
    {
     "data": {
      "text/plain": [
       "(908, 15)"
      ]
     },
     "execution_count": 348,
     "metadata": {},
     "output_type": "execute_result"
    }
   ],
   "source": [
    "df.shape\n",
    "#the new shape of the dataframe is 908 rows and 15 columns"
   ]
  },
  {
   "cell_type": "code",
   "execution_count": 349,
   "metadata": {},
   "outputs": [],
   "source": [
    "#lb_var=['country','country_long','name','gppd_idnr','primary_fuel','source','url','geolocation_source']\n",
    "#5,6,8,9"
   ]
  },
  {
   "cell_type": "code",
   "execution_count": 350,
   "metadata": {},
   "outputs": [
    {
     "data": {
      "image/png": "[encoded data removed]",
      "text/plain": [
       "<Figure size 1800x1440 with 4 Axes>"
      ]
     },
     "metadata": {},
     "output_type": "display_data"
    }
   ],
   "source": [
    "#checking the data distrubution using the distribution plot.\n",
    "plt.figure(figsize=(25,20),facecolor='white')\n",
    "pltnum=1\n",
    "\n",
    "for column in df.iloc[:,[5,6,8,11]]:\n",
    "    if pltnum <= 12:\n",
    "        plt.subplot(4,3,pltnum)\n",
    "        sns.distplot(df[column])\n",
    "        plt.xlabel(column,fontsize=12)\n",
    "        \n",
    "    pltnum +=1\n",
    "plt.show()    "
   ]
  },
  {
   "cell_type": "code",
   "execution_count": 312,
   "metadata": {},
   "outputs": [],
   "source": [
    "#there is very less outliers is visible in the features.the outliers are present in commissioning year and longitude feature\n",
    "#we can cross check the same using the box plot."
   ]
  },
  {
   "cell_type": "code",
   "execution_count": 351,
   "metadata": {},
   "outputs": [
    {
     "data": {
      "image/png": "[encoded data removed]",
      "text/plain": [
       "<Figure size 1800x1440 with 4 Axes>"
      ]
     },
     "metadata": {},
     "output_type": "display_data"
    }
   ],
   "source": [
    "#checking the data distrubution using the Strip plot.\n",
    "plt.figure(figsize=(25,20),facecolor='white')\n",
    "pltnum=1\n",
    "\n",
    "for column in df.iloc[:,[5,6,8,11]]:\n",
    "    if pltnum <= 12:\n",
    "        plt.subplot(4,3,pltnum)\n",
    "        sns.stripplot(df[column])\n",
    "        plt.xlabel(column,fontsize=12)\n",
    "        \n",
    "    pltnum +=1\n",
    "plt.show()    "
   ]
  },
  {
   "cell_type": "code",
   "execution_count": 352,
   "metadata": {},
   "outputs": [
    {
     "data": {
      "image/png": "[encoded data removed]",
      "text/plain": [
       "<Figure size 1800x1440 with 4 Axes>"
      ]
     },
     "metadata": {},
     "output_type": "display_data"
    }
   ],
   "source": [
    "#using box plot to check the outliers in the feature.\n",
    "plt.figure(figsize=(25,20),facecolor='white')\n",
    "pltnum=1\n",
    "\n",
    "for column in df.iloc[:,[5,6,8,11]]:\n",
    "    if pltnum <= 12:\n",
    "        plt.subplot(4,3,pltnum)\n",
    "        sns.boxplot(df[column])\n",
    "        plt.xlabel(column,fontsize=12)\n",
    "        \n",
    "    pltnum +=1\n",
    "plt.show()    "
   ]
  },
  {
   "cell_type": "code",
   "execution_count": 353,
   "metadata": {},
   "outputs": [],
   "source": [
    "#the outliers are available in the features so we can use z-score to to remove the outliers."
   ]
  },
  {
   "cell_type": "code",
   "execution_count": 354,
   "metadata": {},
   "outputs": [],
   "source": [
    "z=np.abs(stats.zscore(df.iloc[:,[6,8]]))\n",
    "index=np.where(z > 3)[0]"
   ]
  },
  {
   "cell_type": "code",
   "execution_count": 355,
   "metadata": {},
   "outputs": [
    {
     "data": {
      "text/plain": [
       "37"
      ]
     },
     "execution_count": 355,
     "metadata": {},
     "output_type": "execute_result"
    }
   ],
   "source": [
    "len(index)"
   ]
  },
  {
   "cell_type": "code",
   "execution_count": 356,
   "metadata": {},
   "outputs": [
    {
     "data": {
      "text/plain": [
       "(908, 15)"
      ]
     },
     "execution_count": 356,
     "metadata": {},
     "output_type": "execute_result"
    }
   ],
   "source": [
    "df.shape"
   ]
  },
  {
   "cell_type": "code",
   "execution_count": 357,
   "metadata": {},
   "outputs": [],
   "source": [
    "#dropping the outlier index\n",
    "df=df.drop(df.index[index])"
   ]
  },
  {
   "cell_type": "code",
   "execution_count": 358,
   "metadata": {},
   "outputs": [
    {
     "name": "stdout",
     "output_type": "stream",
     "text": [
      "5.863192182410423\n"
     ]
    }
   ],
   "source": [
    "#Data Loss\n",
    "loss_percentage=(908-872)/614*100\n",
    "print(loss_percentage)"
   ]
  },
  {
   "cell_type": "code",
   "execution_count": 321,
   "metadata": {},
   "outputs": [],
   "source": [
    "#using the quantile method\n",
    "#q1=df.iloc[:,[6,8]].quantile(0.25)\n",
    "\n",
    "#q3=df.iloc[:,[6,8]].quantile(0.75)\n",
    "\n",
    "#iqr= q3 - q1"
   ]
  },
  {
   "cell_type": "code",
   "execution_count": 322,
   "metadata": {},
   "outputs": [],
   "source": [
    "#for column in df.iloc[:,[6]]:\n",
    "#    index1=np.where(df[column] > (q3[column] + (1.5 * iqr[column])))\n",
    "    \n",
    "#for column in df.iloc[:,[8]]:\n",
    "#    index1=np.where(df[column] < (q3[column] - (1.5 * iqr[column])))    "
   ]
  },
  {
   "cell_type": "code",
   "execution_count": 323,
   "metadata": {},
   "outputs": [],
   "source": [
    "#dropping the outlier index\n",
    "#df=df.drop(df.index[index1])"
   ]
  },
  {
   "cell_type": "code",
   "execution_count": 359,
   "metadata": {},
   "outputs": [],
   "source": [
    "#checking the new shape\n",
    "#df.shape"
   ]
  },
  {
   "cell_type": "code",
   "execution_count": 360,
   "metadata": {},
   "outputs": [],
   "source": [
    "#Data Loss\n",
    "#loss_percentage=(908-772)/614*100\n",
    "#print(loss_percentage)"
   ]
  },
  {
   "cell_type": "code",
   "execution_count": 361,
   "metadata": {},
   "outputs": [
    {
     "data": {
      "image/png": "[encoded data removed]",
      "text/plain": [
       "<Figure size 1800x1440 with 4 Axes>"
      ]
     },
     "metadata": {},
     "output_type": "display_data"
    }
   ],
   "source": [
    "#using box plot to check the outliers in the feature.\n",
    "plt.figure(figsize=(25,20),facecolor='white')\n",
    "pltnum=1\n",
    "\n",
    "for column in df.iloc[:,[5,6,8,11]]:\n",
    "    if pltnum <= 12:\n",
    "        plt.subplot(4,3,pltnum)\n",
    "        sns.boxplot(df[column])\n",
    "        plt.xlabel(column,fontsize=12)\n",
    "        \n",
    "    pltnum +=1\n",
    "plt.show()    "
   ]
  },
  {
   "cell_type": "code",
   "execution_count": 362,
   "metadata": {},
   "outputs": [
    {
     "data": {
      "text/plain": [
       "capacity_mw           1.000000\n",
       "longitude             0.263013\n",
       "latitude              0.052481\n",
       "commissioning_year   -0.030556\n",
       "Name: capacity_mw, dtype: float64"
      ]
     },
     "execution_count": 362,
     "metadata": {},
     "output_type": "execute_result"
    }
   ],
   "source": [
    "#checking the skewness and correlation between the featues and one target capacity_mw\n",
    "df_corr=df.iloc[:,[4,5,6,8]].corr()\n",
    "df_corr['capacity_mw'].sort_values(ascending=False)"
   ]
  },
  {
   "cell_type": "code",
   "execution_count": null,
   "metadata": {},
   "outputs": [],
   "source": [
    "#there is no skewness looks as the range is between -0.5 to +0.5"
   ]
  },
  {
   "cell_type": "code",
   "execution_count": 363,
   "metadata": {},
   "outputs": [
    {
     "data": {
      "text/plain": [
       "primary_fuel          1.000000\n",
       "commissioning_year    0.159868\n",
       "latitude             -0.005780\n",
       "longitude            -0.394562\n",
       "Name: primary_fuel, dtype: float64"
      ]
     },
     "execution_count": 363,
     "metadata": {},
     "output_type": "execute_result"
    }
   ],
   "source": [
    "#checking the skewness and correlation between the featues and one target primary_fuel\n",
    "df_corr=df.iloc[:,[5,6,7,8]].corr()\n",
    "df_corr['primary_fuel'].sort_values(ascending=False)"
   ]
  },
  {
   "cell_type": "code",
   "execution_count": null,
   "metadata": {},
   "outputs": [],
   "source": [
    "#there is no skewness looks as the range is between -0.5 to +0.5"
   ]
  },
  {
   "cell_type": "code",
   "execution_count": 364,
   "metadata": {},
   "outputs": [
    {
     "data": {
      "image/png": "[encoded data removed]",
      "text/plain": [
       "<Figure size 1584x1152 with 2 Axes>"
      ]
     },
     "metadata": {
      "needs_background": "light"
     },
     "output_type": "display_data"
    }
   ],
   "source": [
    "#using the heatmap to check the correlation between features.\n",
    "corr_matrix=df.iloc[:,[5,6,8]].abs().corr()\n",
    "\n",
    "plt.figure(figsize=(22,16))\n",
    "\n",
    "sns.heatmap(corr_matrix,vmin=-1,vmax=1,center=True,annot=True, fmt='.2g',linewidths=0.1)\n",
    "plt.show()\n",
    "\n",
    "#as we can see in heatmap there is no correlation between the features and labels"
   ]
  },
  {
   "cell_type": "code",
   "execution_count": null,
   "metadata": {},
   "outputs": [],
   "source": [
    "#from the heatmap,there is no multicollinearity issue looks like in betwenn the features."
   ]
  },
  {
   "cell_type": "code",
   "execution_count": 365,
   "metadata": {},
   "outputs": [],
   "source": [
    "data_var=['latitude','longitude','commissioning_year','year_of_capacity_data']\n",
    "features=df[data_var]"
   ]
  },
  {
   "cell_type": "code",
   "execution_count": 366,
   "metadata": {},
   "outputs": [],
   "source": [
    "#using the standerd scalar for scaling the data\n",
    "scalar=StandardScaler()\n",
    "x_data=scalar.fit_transform(features.values)"
   ]
  },
  {
   "cell_type": "code",
   "execution_count": 367,
   "metadata": {},
   "outputs": [],
   "source": [
    "#assigning the  scaled data to features\n",
    "df[['latitude','longitude','commissioning_year','year_of_capacity_data']]=x_data"
   ]
  },
  {
   "cell_type": "code",
   "execution_count": 368,
   "metadata": {},
   "outputs": [
    {
     "data": {
      "text/html": [
       "<div>\n",
       "<style scoped>\n",
       "    .dataframe tbody tr th:only-of-type {\n",
       "        vertical-align: middle;\n",
       "    }\n",
       "\n",
       "    .dataframe tbody tr th {\n",
       "        vertical-align: top;\n",
       "    }\n",
       "\n",
       "    .dataframe thead th {\n",
       "        text-align: right;\n",
       "    }\n",
       "</style>\n",
       "<table border=\"1\" class=\"dataframe\">\n",
       "  <thead>\n",
       "    <tr style=\"text-align: right;\">\n",
       "      <th></th>\n",
       "      <th>country</th>\n",
       "      <th>country_long</th>\n",
       "      <th>name</th>\n",
       "      <th>gppd_idnr</th>\n",
       "      <th>capacity_mw</th>\n",
       "      <th>latitude</th>\n",
       "      <th>longitude</th>\n",
       "      <th>primary_fuel</th>\n",
       "      <th>commissioning_year</th>\n",
       "      <th>source</th>\n",
       "      <th>url</th>\n",
       "      <th>year_of_capacity_data</th>\n",
       "      <th>geolocation_source_0</th>\n",
       "      <th>geolocation_source_1</th>\n",
       "      <th>geolocation_source_2</th>\n",
       "    </tr>\n",
       "  </thead>\n",
       "  <tbody>\n",
       "    <tr>\n",
       "      <th>0</th>\n",
       "      <td>0</td>\n",
       "      <td>0</td>\n",
       "      <td>0</td>\n",
       "      <td>658</td>\n",
       "      <td>2.5</td>\n",
       "      <td>1.159388</td>\n",
       "      <td>-0.895516</td>\n",
       "      <td>6</td>\n",
       "      <td>0.462871</td>\n",
       "      <td>109</td>\n",
       "      <td>128</td>\n",
       "      <td>0.0</td>\n",
       "      <td>0</td>\n",
       "      <td>1</td>\n",
       "      <td>0</td>\n",
       "    </tr>\n",
       "    <tr>\n",
       "      <th>1</th>\n",
       "      <td>0</td>\n",
       "      <td>0</td>\n",
       "      <td>1</td>\n",
       "      <td>520</td>\n",
       "      <td>98.0</td>\n",
       "      <td>0.596235</td>\n",
       "      <td>-0.573973</td>\n",
       "      <td>1</td>\n",
       "      <td>0.613899</td>\n",
       "      <td>174</td>\n",
       "      <td>173</td>\n",
       "      <td>0.0</td>\n",
       "      <td>0</td>\n",
       "      <td>0</td>\n",
       "      <td>1</td>\n",
       "    </tr>\n",
       "    <tr>\n",
       "      <th>2</th>\n",
       "      <td>0</td>\n",
       "      <td>0</td>\n",
       "      <td>2</td>\n",
       "      <td>854</td>\n",
       "      <td>39.2</td>\n",
       "      <td>0.124552</td>\n",
       "      <td>-1.804359</td>\n",
       "      <td>7</td>\n",
       "      <td>0.613899</td>\n",
       "      <td>21</td>\n",
       "      <td>205</td>\n",
       "      <td>0.0</td>\n",
       "      <td>0</td>\n",
       "      <td>0</td>\n",
       "      <td>1</td>\n",
       "    </tr>\n",
       "    <tr>\n",
       "      <th>3</th>\n",
       "      <td>0</td>\n",
       "      <td>0</td>\n",
       "      <td>3</td>\n",
       "      <td>0</td>\n",
       "      <td>135.0</td>\n",
       "      <td>0.448740</td>\n",
       "      <td>3.362474</td>\n",
       "      <td>2</td>\n",
       "      <td>-0.065729</td>\n",
       "      <td>22</td>\n",
       "      <td>58</td>\n",
       "      <td>0.0</td>\n",
       "      <td>0</td>\n",
       "      <td>0</td>\n",
       "      <td>1</td>\n",
       "    </tr>\n",
       "    <tr>\n",
       "      <th>4</th>\n",
       "      <td>0</td>\n",
       "      <td>0</td>\n",
       "      <td>4</td>\n",
       "      <td>1</td>\n",
       "      <td>1800.0</td>\n",
       "      <td>0.133862</td>\n",
       "      <td>1.259011</td>\n",
       "      <td>1</td>\n",
       "      <td>0.764927</td>\n",
       "      <td>22</td>\n",
       "      <td>58</td>\n",
       "      <td>0.0</td>\n",
       "      <td>0</td>\n",
       "      <td>0</td>\n",
       "      <td>1</td>\n",
       "    </tr>\n",
       "  </tbody>\n",
       "</table>\n",
       "</div>"
      ],
      "text/plain": [
       "   country  country_long  name  gppd_idnr  capacity_mw  latitude  longitude  \\\n",
       "0        0             0     0        658          2.5  1.159388  -0.895516   \n",
       "1        0             0     1        520         98.0  0.596235  -0.573973   \n",
       "2        0             0     2        854         39.2  0.124552  -1.804359   \n",
       "3        0             0     3          0        135.0  0.448740   3.362474   \n",
       "4        0             0     4          1       1800.0  0.133862   1.259011   \n",
       "\n",
       "   primary_fuel  commissioning_year  source  url  year_of_capacity_data  \\\n",
       "0             6            0.462871     109  128                    0.0   \n",
       "1             1            0.613899     174  173                    0.0   \n",
       "2             7            0.613899      21  205                    0.0   \n",
       "3             2           -0.065729      22   58                    0.0   \n",
       "4             1            0.764927      22   58                    0.0   \n",
       "\n",
       "   geolocation_source_0  geolocation_source_1  geolocation_source_2  \n",
       "0                     0                     1                     0  \n",
       "1                     0                     0                     1  \n",
       "2                     0                     0                     1  \n",
       "3                     0                     0                     1  \n",
       "4                     0                     0                     1  "
      ]
     },
     "execution_count": 368,
     "metadata": {},
     "output_type": "execute_result"
    }
   ],
   "source": [
    "df.head()"
   ]
  },
  {
   "cell_type": "code",
   "execution_count": null,
   "metadata": {},
   "outputs": [],
   "source": [
    "#now sepraating the independent features and target for capacity_mw\n",
    "x1=df.drop(columns=['primary_fuel','capacity_mw'],axis=1)\n",
    "y1=df['capacity_mw']"
   ]
  },
  {
   "cell_type": "code",
   "execution_count": 371,
   "metadata": {},
   "outputs": [
    {
     "data": {
      "text/plain": [
       "5.000       37\n",
       "10.000      21\n",
       "600.000     21\n",
       "15.000      19\n",
       "1200.000    19\n",
       "1.000       18\n",
       "20.000      18\n",
       "30.000      16\n",
       "50.000      14\n",
       "500.000     14\n",
       "100.000     13\n",
       "25.000      11\n",
       "300.000     11\n",
       "60.000      11\n",
       "24.000      11\n",
       "1000.000    10\n",
       "16.000       9\n",
       "120.000      9\n",
       "9.000        8\n",
       "12.000       8\n",
       "90.000       8\n",
       "3.000        8\n",
       "240.000      7\n",
       "36.000       7\n",
       "10.500       7\n",
       "6.000        7\n",
       "40.000       7\n",
       "250.000      7\n",
       "50.400       7\n",
       "1320.000     6\n",
       "150.000      6\n",
       "75.000       6\n",
       "21.000       6\n",
       "2.000        6\n",
       "16.500       6\n",
       "270.000      5\n",
       "18.000       5\n",
       "22.500       5\n",
       "35.000       5\n",
       "4.000        5\n",
       "440.000      5\n",
       "22.000       5\n",
       "540.000      4\n",
       "1340.000     4\n",
       "135.000      4\n",
       "125.000      4\n",
       "2000.000     4\n",
       "1050.000     4\n",
       "45.000       4\n",
       "25.500       4\n",
       "1500.000     4\n",
       "330.000      4\n",
       "80.000       4\n",
       "630.000      4\n",
       "210.000      4\n",
       "1080.000     3\n",
       "28.000       3\n",
       "180.000      3\n",
       "400.000      3\n",
       "1980.000     3\n",
       "46.000       3\n",
       "1.500        3\n",
       "11.200       3\n",
       "6.600        3\n",
       "96.000       3\n",
       "99.000       3\n",
       "660.000      3\n",
       "1600.000     3\n",
       "1260.000     3\n",
       "26.000       3\n",
       "460.000      3\n",
       "420.000      3\n",
       "160.000      3\n",
       "2400.000     3\n",
       "3.750        3\n",
       "3.600        3\n",
       "4.500        3\n",
       "33.000       3\n",
       "200.000      2\n",
       "66.000       2\n",
       "48.000       2\n",
       "25.200       2\n",
       "67.500       2\n",
       "63.000       2\n",
       "17.000       2\n",
       "23.100       2\n",
       "510.000      2\n",
       "450.000      2\n",
       "1.700        2\n",
       "72.000       2\n",
       "290.000      2\n",
       "800.000      2\n",
       "2.100        2\n",
       "39.200       2\n",
       "70.000       2\n",
       "1470.000     2\n",
       "78.900       2\n",
       "234.000      2\n",
       "2600.000     2\n",
       "19.800       2\n",
       "13.500       2\n",
       "1350.000     2\n",
       "220.000      2\n",
       "3000.000     2\n",
       "51.000       2\n",
       "520.000      2\n",
       "720.000      2\n",
       "42.000       2\n",
       "225.000      2\n",
       "31.500       2\n",
       "1400.000     2\n",
       "648.000      2\n",
       "55.000       2\n",
       "350.000      2\n",
       "12.500       2\n",
       "920.000      2\n",
       "37.500       2\n",
       "32.000       2\n",
       "750.000      2\n",
       "6.250        2\n",
       "18.900       2\n",
       "900.000      2\n",
       "198.000      1\n",
       "11.000       1\n",
       "30.500       1\n",
       "38.500       1\n",
       "705.000      1\n",
       "62.500       1\n",
       "1650.000     1\n",
       "106.000      1\n",
       "555.000      1\n",
       "260.000      1\n",
       "132.000      1\n",
       "97.000       1\n",
       "74.000       1\n",
       "1967.080     1\n",
       "0.000        1\n",
       "2.250        1\n",
       "8.500        1\n",
       "130.000      1\n",
       "43.000       1\n",
       "95.000       1\n",
       "21.800       1\n",
       "655.000      1\n",
       "8.000        1\n",
       "54.000       1\n",
       "320.000      1\n",
       "645.000      1\n",
       "672.000      1\n",
       "29.000       1\n",
       "172.000      1\n",
       "431.586      1\n",
       "19.000       1\n",
       "110.000      1\n",
       "49.000       1\n",
       "7.500        1\n",
       "768.000      1\n",
       "115.000      1\n",
       "39.000       1\n",
       "4.250        1\n",
       "419.330      1\n",
       "280.000      1\n",
       "44.000       1\n",
       "396.000      1\n",
       "144.000      1\n",
       "34.000       1\n",
       "41.000       1\n",
       "64.000       1\n",
       "134.000      1\n",
       "192.000      1\n",
       "1800.000     1\n",
       "98.000       1\n",
       "30.750       1\n",
       "63.500       1\n",
       "54.500       1\n",
       "10.250       1\n",
       "27.000       1\n",
       "102.000      1\n",
       "65.000       1\n",
       "45.500       1\n",
       "52.500       1\n",
       "4000.000     1\n",
       "246.000      1\n",
       "840.000      1\n",
       "388.000      1\n",
       "186.000      1\n",
       "140.000      1\n",
       "105.000      1\n",
       "126.000      1\n",
       "101.000      1\n",
       "17.500       1\n",
       "32.500       1\n",
       "880.000      1\n",
       "480.000      1\n",
       "1820.000     1\n",
       "1040.000     1\n",
       "156.100      1\n",
       "3300.000     1\n",
       "107.880      1\n",
       "50.700       1\n",
       "205.240      1\n",
       "35.100       1\n",
       "16.950       1\n",
       "816.400      1\n",
       "28.200       1\n",
       "4760.000     1\n",
       "4620.000     1\n",
       "100.800      1\n",
       "94.200       1\n",
       "1.800        1\n",
       "31.200       1\n",
       "18.700       1\n",
       "1147.500     1\n",
       "270.500      1\n",
       "1458.000     1\n",
       "42.500       1\n",
       "28.300       1\n",
       "33.200       1\n",
       "155.000      1\n",
       "195.000      1\n",
       "1240.000     1\n",
       "56.250       1\n",
       "394.000      1\n",
       "2320.000     1\n",
       "207.000      1\n",
       "427.500      1\n",
       "175.000      1\n",
       "161.000      1\n",
       "1720.000     1\n",
       "422.000      1\n",
       "91.350       1\n",
       "35.200       1\n",
       "37.600       1\n",
       "455.000      1\n",
       "515.000      1\n",
       "2920.000     1\n",
       "52.800       1\n",
       "1110.000     1\n",
       "1170.000     1\n",
       "15.200       1\n",
       "1550.000     1\n",
       "382.500      1\n",
       "3.300        1\n",
       "388.500      1\n",
       "33.600       1\n",
       "330.500      1\n",
       "22.800       1\n",
       "88.800       1\n",
       "1371.200     1\n",
       "29.600       1\n",
       "2.400        1\n",
       "14.400       1\n",
       "27.300       1\n",
       "2100.000     1\n",
       "65.600       1\n",
       "331.500      1\n",
       "7.200        1\n",
       "990.000      1\n",
       "468.570      1\n",
       "351.430      1\n",
       "6.300        1\n",
       "166.500      1\n",
       "20.800       1\n",
       "690.000      1\n",
       "25.700       1\n",
       "25.800       1\n",
       "14.650       1\n",
       "13.200       1\n",
       "32.800       1\n",
       "75.600       1\n",
       "595.200      1\n",
       "36.800       1\n",
       "780.000      1\n",
       "310.000      1\n",
       "12.960       1\n",
       "726.600      1\n",
       "136.500      1\n",
       "3960.000     1\n",
       "1188.000     1\n",
       "9.350        1\n",
       "770.000      1\n",
       "62.600       1\n",
       "62.400       1\n",
       "1325.000     1\n",
       "31.400       1\n",
       "113.600      1\n",
       "186.200      1\n",
       "69.600       1\n",
       "36.300       1\n",
       "67.600       1\n",
       "139.200      1\n",
       "9.700        1\n",
       "1956.000     1\n",
       "1100.000     1\n",
       "1330.000     1\n",
       "890.000      1\n",
       "815.600      1\n",
       "8.400        1\n",
       "1035.000     1\n",
       "24.800       1\n",
       "34.400       1\n",
       "374.571      1\n",
       "119.800      1\n",
       "21.840       1\n",
       "5.800        1\n",
       "5.200        1\n",
       "1700.000     1\n",
       "1210.000     1\n",
       "19.700       1\n",
       "445.000      1\n",
       "14.850       1\n",
       "445.674      1\n",
       "27.650       1\n",
       "390.000      1\n",
       "2980.000     1\n",
       "49.600       1\n",
       "94.800       1\n",
       "2630.000     1\n",
       "315.000      1\n",
       "605.000      1\n",
       "652.000      1\n",
       "1660.000     1\n",
       "165.000      1\n",
       "2340.000     1\n",
       "610.000      1\n",
       "81.500       1\n",
       "12.270       1\n",
       "1140.000     1\n",
       "231.000      1\n",
       "221.000      1\n",
       "33.750       1\n",
       "30.600       1\n",
       "105.700      1\n",
       "11.600       1\n",
       "412.020      1\n",
       "855.000      1\n",
       "1370.000     1\n",
       "26.400       1\n",
       "12.800       1\n",
       "127.600      1\n",
       "9.900        1\n",
       "106.600      1\n",
       "98.700       1\n",
       "34.650       1\n",
       "25.600       1\n",
       "68.800       1\n",
       "702.860      1\n",
       "272.300      1\n",
       "4.200        1\n",
       "91.800       1\n",
       "2.500        1\n",
       "Name: capacity_mw, dtype: int64"
      ]
     },
     "execution_count": 371,
     "metadata": {},
     "output_type": "execute_result"
    }
   ],
   "source": [
    "df['capacity_mw'].value_counts()"
   ]
  },
  {
   "cell_type": "code",
   "execution_count": null,
   "metadata": {},
   "outputs": [],
   "source": [
    "#It target variable is continious data so it is a reggresoion solution."
   ]
  },
  {
   "cell_type": "code",
   "execution_count": 374,
   "metadata": {},
   "outputs": [
    {
     "name": "stdout",
     "output_type": "stream",
     "text": [
      "Best Accuracy is : 52.80%\n",
      "The Best Random State is : 140\n"
     ]
    }
   ],
   "source": [
    "#Finding best Random State:\n",
    "maxAcc=0\n",
    "maxRs=0\n",
    "\n",
    "for i in range(1,200):\n",
    "    x_train1,x_test1,y_train1,y_test1=train_test_split(x1,y1,test_size=0.25,random_state=i)\n",
    "    lr=RandomForestRegressor()\n",
    "    lr.fit(x_train1,y_train1)\n",
    "    y_pred1=lr.predict(x_test1)\n",
    "    acc_r2=r2_score(y_test1,y_pred1)\n",
    "    if acc_r2 > maxAcc:\n",
    "        maxAcc=acc_r2\n",
    "        maxRs=i\n",
    "        \n",
    "print(f\"Best Accuracy is : {maxAcc* 100:.2f}%\")\n",
    "print(\"The Best Random State is :\",maxRs)     "
   ]
  },
  {
   "cell_type": "code",
   "execution_count": 375,
   "metadata": {},
   "outputs": [],
   "source": [
    "#seprating the train and test datasets with the best find random state\n",
    "x_train1,x_test1,y_train1,y_test1=train_test_split(x1,y1,test_size=0.25,random_state =140)"
   ]
  },
  {
   "cell_type": "code",
   "execution_count": 377,
   "metadata": {},
   "outputs": [
    {
     "name": "stdout",
     "output_type": "stream",
     "text": [
      "\n",
      "==========Model Evaluaton and Accuracy check using LinearRegression===========\n",
      "The accuracy of the model using LinearRegression is: 22.56%\n",
      "\n",
      "\n",
      "==========Model Evaluaton and Accuracy check using KNeighborsRegressor===========\n",
      "The accuracy of the model using KNeighborsRegressor is: 18.43%\n",
      "\n",
      "\n",
      "==========Model Evaluaton and Accuracy check using RandomForestRegressor===========\n",
      "The accuracy of the model using RandomForestRegressor is: 51.38%\n",
      "\n",
      "\n",
      "==========Model Evaluaton and Accuracy check using AdaBoostRegressor===========\n",
      "The accuracy of the model using AdaBoostRegressor is: 15.17%\n",
      "\n",
      "\n",
      "===============Model Evaluaton and Accuracy check using SVR====================\n",
      "The accuracy of the model using SVR is: -9.60%\n",
      "\n"
     ]
    }
   ],
   "source": [
    "#model Evaluation for LR:\n",
    "print('\\n==========Model Evaluaton and Accuracy check using LinearRegression===========')\n",
    "lr=LinearRegression()\n",
    "lr.fit(x_train1,y_train1)\n",
    "y_predlr=lr.predict(x_test1)\n",
    "print(f\"The accuracy of the model using LinearRegression is: {r2_score(y_test1,y_predlr)*100:.2f}%\\n\")\n",
    "\n",
    "\n",
    "\n",
    "#model Evaluation for KNN:\n",
    "print('\\n==========Model Evaluaton and Accuracy check using KNeighborsRegressor===========')\n",
    "knn=KNeighborsRegressor()\n",
    "knn.fit(x_train1,y_train1)\n",
    "y_predknn=knn.predict(x_test1)\n",
    "print(f\"The accuracy of the model using KNeighborsRegressor is: {r2_score(y_test1,y_predknn)*100:.2f}%\\n\")\n",
    "\n",
    "\n",
    "\n",
    "#model Evaluation for RandomForestRegressor:\n",
    "print('\\n==========Model Evaluaton and Accuracy check using RandomForestRegressor===========')\n",
    "rfr=RandomForestRegressor()\n",
    "rfr.fit(x_train1,y_train1)\n",
    "y_predrfr=rfr.predict(x_test1)\n",
    "print(f\"The accuracy of the model using RandomForestRegressor is: {r2_score(y_test1,y_predrfr)*100:.2f}%\\n\")\n",
    "\n",
    "\n",
    "\n",
    "#model Evaluation for AdaBoostRegressor:\n",
    "print('\\n==========Model Evaluaton and Accuracy check using AdaBoostRegressor===========')\n",
    "ada=AdaBoostRegressor()\n",
    "ada.fit(x_train1,y_train1)\n",
    "y_predada=ada.predict(x_test1)\n",
    "print(f\"The accuracy of the model using AdaBoostRegressor is: {r2_score(y_test1,y_predada)*100:.2f}%\\n\")\n",
    "\n",
    "\n",
    "\n",
    "#model Evaluation for SVR:\n",
    "print('\\n===============Model Evaluaton and Accuracy check using SVR====================')\n",
    "svr=SVR()\n",
    "svr.fit(x_train1,y_train1)\n",
    "y_predsvr=svr.predict(x_test1)\n",
    "print(f\"The accuracy of the model using SVR is: {r2_score(y_test1,y_predsvr)*100:.2f}%\\n\")"
   ]
  },
  {
   "cell_type": "code",
   "execution_count": 378,
   "metadata": {},
   "outputs": [
    {
     "name": "stdout",
     "output_type": "stream",
     "text": [
      "\n",
      "=============Cross Validation Score of Linear Reggression==============\n",
      "Cross validation for the Linear Reggression is: 19.72%\n",
      "\n",
      "\n",
      "=============Cross Validation Score of KNeighborsRegressor==============\n",
      "Cross validation for the KNeighborsRegressor is: -43.08%\n",
      "\n",
      "\n",
      "==========Cross Validation Score of Random Forest Regressor===========\n",
      "Cross validation for the Random Forest Regressor is: 13.18%\n",
      "\n",
      "\n",
      "============Cross Validation Score of AdaBoostRegressor===================\n",
      "Cross validation for the AdaBoostRegressor is: -43.20%\n",
      "\n",
      "\n",
      "===================Cross Validation Score of SVR========================\n",
      "Cross validation for the KNN Classifier is: -14.93%\n",
      "\n"
     ]
    }
   ],
   "source": [
    "print('\\n=============Cross Validation Score of Linear Reggression==============')\n",
    "cvs_lr=cross_val_score(lr,x1,y1,cv=5)\n",
    "print(f\"Cross validation for the Linear Reggression is: {cvs_lr.mean()*100:.2f}%\\n\")\n",
    "\n",
    "print('\\n=============Cross Validation Score of KNeighborsRegressor==============')\n",
    "cvs_knn=cross_val_score(knn,x1,y1,cv=5)\n",
    "print(f\"Cross validation for the KNeighborsRegressor is: {cvs_knn.mean()*100:.2f}%\\n\")\n",
    "\n",
    "print('\\n==========Cross Validation Score of Random Forest Regressor===========')\n",
    "cvs_rfr=cross_val_score(rfr,x1,y1,cv=5)\n",
    "print(f\"Cross validation for the Random Forest Regressor is: {cvs_rfr.mean()*100:.2f}%\\n\")\n",
    "\n",
    "print('\\n============Cross Validation Score of AdaBoostRegressor===================')\n",
    "cvs_ada=cross_val_score(ada,x1,y1,cv=5)\n",
    "print(f\"Cross validation for the AdaBoostRegressor is: {cvs_ada.mean()*100:.2f}%\\n\")\n",
    "\n",
    "print('\\n===================Cross Validation Score of SVR========================')\n",
    "cvs_svr=cross_val_score(svr,x1,y1,cv=5)\n",
    "print(f\"Cross validation for the KNN Classifier is: {cvs_svr.mean()*100:.2f}%\\n\")"
   ]
  },
  {
   "cell_type": "code",
   "execution_count": 379,
   "metadata": {},
   "outputs": [],
   "source": [
    "#Regularation Process\n",
    "from sklearn.linear_model import Lasso,Ridge,ElasticNet"
   ]
  },
  {
   "cell_type": "code",
   "execution_count": 381,
   "metadata": {},
   "outputs": [
    {
     "name": "stdout",
     "output_type": "stream",
     "text": [
      "\n",
      "==========Accuracy of Lasso===========\n",
      "The accuracy of the model using Lasso is: 22.56%\n",
      "\n",
      "\n",
      "==========Accuracy of Ridge===========\n",
      "The accuracy of the model using Ridge is: 22.56%\n",
      "\n",
      "\n",
      "==========Accuracy of Elastic===========\n",
      "The accuracy of the model using ElasticNet is: 22.56%\n",
      "\n"
     ]
    }
   ],
   "source": [
    "# Lasso model\n",
    "print('\\n==========Accuracy of Lasso===========')\n",
    "le=Lasso(alpha=0.0001)\n",
    "le.fit(x_train1,y_train1)\n",
    "predictlasso = le.predict(x_test1)\n",
    "le.score(x_train1,y_train1)\n",
    "print(f\"The accuracy of the model using Lasso is: {r2_score(y_test1,predictlasso)*100:.2f}%\\n\")\n",
    "\n",
    "\n",
    "# Ridge model\n",
    "print('\\n==========Accuracy of Ridge===========')\n",
    "rg =Ridge(alpha=0.0001)\n",
    "rg.fit(x_train1,y_train1)\n",
    "rg.score(x_train1,y_train1)\n",
    "predictridge = rg.predict(x_test1)\n",
    "print(f\"The accuracy of the model using Ridge is: {r2_score(y_test1,predictridge)*100:.2f}%\\n\")\n",
    "\n",
    "\n",
    "# Elastic model\n",
    "print('\\n==========Accuracy of Elastic===========')\n",
    "el=ElasticNet(alpha=0.0001)\n",
    "el.fit(x_train1,y_train1)\n",
    "el.score(x_train1,y_train1)\n",
    "predictel = el.predict(x_test1)\n",
    "print(f\"The accuracy of the model using ElasticNet is: {r2_score(y_test1,predictel)*100:.2f}%\\n\")"
   ]
  },
  {
   "cell_type": "code",
   "execution_count": 382,
   "metadata": {},
   "outputs": [
    {
     "name": "stdout",
     "output_type": "stream",
     "text": [
      "\n",
      "==========Cross Validation Score of Lasso===========\n",
      "Cross validation for the LASSO is: 19.72%\n",
      "\n",
      "\n",
      "==========Cross Validation Score of Ridge===========\n",
      "Cross validation for the Ridge is: 19.72%\n",
      "\n",
      "\n",
      "==========Cross Validation Score of ElasticNet===========\n",
      "Cross validation for the ElasticNet is: 19.72%\n",
      "\n"
     ]
    }
   ],
   "source": [
    "print('\\n==========Cross Validation Score of Lasso===========')\n",
    "cvs_le=cross_val_score(le,x1,y1,cv=5)\n",
    "print(f\"Cross validation for the LASSO is: {cvs_le.mean()*100:.2f}%\\n\")\n",
    "\n",
    "print('\\n==========Cross Validation Score of Ridge===========')\n",
    "cvs_rg=cross_val_score(rg,x1,y1,cv=5)\n",
    "print(f\"Cross validation for the Ridge is: {cvs_rg.mean()*100:.2f}%\\n\")\n",
    "\n",
    "\n",
    "print('\\n==========Cross Validation Score of ElasticNet===========')\n",
    "cvs_el=cross_val_score(el,x1,y1,cv=5)\n",
    "print(f\"Cross validation for the ElasticNet is: {cvs_el.mean()*100:.2f}%\\n\")"
   ]
  },
  {
   "cell_type": "code",
   "execution_count": null,
   "metadata": {},
   "outputs": [],
   "source": [
    "#As we can see that the result of r2 accuracy and cross validation score of all the models.\n",
    "#LinearReggression:22.56%\n",
    "#Cross Validation Score:19.72%\n",
    "#Diffrence:2.84\n",
    "\n",
    "#KNeighborsRegressor:18.43%\n",
    "#Cross Validation Score: -43.08%\n",
    "#Diffrence:61.51\n",
    "\n",
    "#Random Forest Regressor:51.38%\n",
    "#Cross Validation Score:13.18%\n",
    "#Diffrence:38.2\n",
    "\n",
    "#AdaBoostRegressor:15.17%\n",
    "#Cross Validation Score:-43.20%\n",
    "#Diffrence:28.03\n",
    "\n",
    "#SVR:-9.60%\n",
    "#Cross Validation Score:-14.93%\n",
    "#Diffrence:24.53\n",
    "\n",
    "#LASSO:22.56%\n",
    "#Cross Validation Score:19.72%\n",
    "#Diffrence:2.84\n",
    "\n",
    "#Ridge:22.56%\n",
    "#Cross Validation Score:19.72%\n",
    "#Diffrence:2.84\n",
    "\n",
    "#ElasticNet:22.56%\n",
    "#Cross Validation Score:19.72%\n",
    "#Diffrence:2.84"
   ]
  },
  {
   "cell_type": "code",
   "execution_count": 418,
   "metadata": {},
   "outputs": [],
   "source": [
    "#Now Appling the gridsearchcv beofore building the model to check the best parameter.\n",
    "best_param1={'n_estimators':[90,100,110],\n",
    "           'max_depth':[10,12,15],\n",
    "           'min_samples_split':[2,3,5],\n",
    "           'min_samples_leaf':[2,4,6]}"
   ]
  },
  {
   "cell_type": "code",
   "execution_count": 419,
   "metadata": {},
   "outputs": [],
   "source": [
    "gridcv=GridSearchCV(rfr,param_grid=best_param1)"
   ]
  },
  {
   "cell_type": "code",
   "execution_count": 420,
   "metadata": {},
   "outputs": [
    {
     "data": {
      "text/plain": [
       "GridSearchCV(estimator=RandomForestRegressor(),\n",
       "             param_grid={'max_depth': [10, 12, 15],\n",
       "                         'min_samples_leaf': [2, 4, 6],\n",
       "                         'min_samples_split': [2, 3, 5],\n",
       "                         'n_estimators': [90, 100, 110]})"
      ]
     },
     "execution_count": 420,
     "metadata": {},
     "output_type": "execute_result"
    }
   ],
   "source": [
    "gridcv.fit(x_train1,y_train1)"
   ]
  },
  {
   "cell_type": "code",
   "execution_count": 421,
   "metadata": {},
   "outputs": [
    {
     "data": {
      "text/plain": [
       "{'max_depth': 10,\n",
       " 'min_samples_leaf': 6,\n",
       " 'min_samples_split': 2,\n",
       " 'n_estimators': 90}"
      ]
     },
     "execution_count": 421,
     "metadata": {},
     "output_type": "execute_result"
    }
   ],
   "source": [
    "gridcv.best_params_"
   ]
  },
  {
   "cell_type": "code",
   "execution_count": 425,
   "metadata": {},
   "outputs": [
    {
     "name": "stdout",
     "output_type": "stream",
     "text": [
      "\n",
      "==========Model Evaluaton and Accuracy check using RandomForestRegressor===========\n",
      "The accuracy of the model using RandomForestRegressor is: 37.20%\n",
      "\n"
     ]
    }
   ],
   "source": [
    "#model Evaluation for RandomForestRegressor:\n",
    "print('\\n==========Model Evaluaton and Accuracy check using RandomForestRegressor===========')\n",
    "rfr=RandomForestRegressor(max_depth=10,min_samples_leaf=6,min_samples_split=2,n_estimators=90)\n",
    "rfr.fit(x_train1,y_train1)\n",
    "y_predrfr=rfr.predict(x_test1)\n",
    "print(f\"The accuracy of the model using RandomForestRegressor is: {r2_score(y_test1,y_predrfr)*100:.2f}%\\n\")"
   ]
  },
  {
   "cell_type": "code",
   "execution_count": 426,
   "metadata": {},
   "outputs": [
    {
     "name": "stdout",
     "output_type": "stream",
     "text": [
      "\n",
      "==========Model Evaluaton and Accuracy check using RandomForestRegressor===========\n",
      "The accuracy of the model using RandomForestRegressor is: 53.31%\n",
      "\n"
     ]
    }
   ],
   "source": [
    "#model Evaluation for RandomForestRegressor:\n",
    "print('\\n==========Model Evaluaton and Accuracy check using RandomForestRegressor===========')\n",
    "rfr=RandomForestRegressor()\n",
    "rfr.fit(x_train1,y_train1)\n",
    "y_predrfr=rfr.predict(x_test1)\n",
    "print(f\"The accuracy of the model using RandomForestRegressor is: {r2_score(y_test1,y_predrfr)*100:.2f}%\\n\")"
   ]
  },
  {
   "cell_type": "code",
   "execution_count": 428,
   "metadata": {},
   "outputs": [],
   "source": [
    "#Saving the model\n",
    "import joblib"
   ]
  },
  {
   "cell_type": "code",
   "execution_count": 429,
   "metadata": {},
   "outputs": [
    {
     "data": {
      "text/plain": [
       "['Global_Power_Plant_Model1.pkl']"
      ]
     },
     "execution_count": 429,
     "metadata": {},
     "output_type": "execute_result"
    }
   ],
   "source": [
    "joblib.dump(rfr,'Global_Power_Plant_Model1.pkl')"
   ]
  },
  {
   "cell_type": "code",
   "execution_count": null,
   "metadata": {},
   "outputs": [],
   "source": []
  },
  {
   "cell_type": "code",
   "execution_count": null,
   "metadata": {},
   "outputs": [],
   "source": []
  },
  {
   "cell_type": "code",
   "execution_count": 383,
   "metadata": {},
   "outputs": [],
   "source": [
    "#now sepraating the independent features and target for primary_fuel\n",
    "x2=df.drop(columns=['primary_fuel','capacity_mw'],axis=1)\n",
    "y2=df['primary_fuel']"
   ]
  },
  {
   "cell_type": "code",
   "execution_count": 384,
   "metadata": {},
   "outputs": [
    {
     "data": {
      "text/plain": [
       "1    259\n",
       "3    219\n",
       "6    126\n",
       "7    123\n",
       "2     65\n",
       "0     50\n",
       "5     21\n",
       "4      9\n",
       "Name: primary_fuel, dtype: int64"
      ]
     },
     "execution_count": 384,
     "metadata": {},
     "output_type": "execute_result"
    }
   ],
   "source": [
    "#now checking the imbalanced problem of the target column.\n",
    "y2.value_counts()"
   ]
  },
  {
   "cell_type": "code",
   "execution_count": null,
   "metadata": {},
   "outputs": [],
   "source": [
    "#the output has categorial data so it is a classification problem."
   ]
  },
  {
   "cell_type": "code",
   "execution_count": 385,
   "metadata": {},
   "outputs": [
    {
     "data": {
      "image/png": "[encoded data removed]",
      "text/plain": [
       "<Figure size 432x288 with 1 Axes>"
      ]
     },
     "metadata": {
      "needs_background": "light"
     },
     "output_type": "display_data"
    }
   ],
   "source": [
    "#plotting the count plot on target data\n",
    "sns.countplot(x='primary_fuel',data=df)\n",
    "plt.show()"
   ]
  },
  {
   "cell_type": "code",
   "execution_count": 386,
   "metadata": {},
   "outputs": [],
   "source": [
    "#handling class imbalanced problem by oversampling the minority class using SMOTE:\n",
    "from imblearn.over_sampling import SMOTE"
   ]
  },
  {
   "cell_type": "code",
   "execution_count": 387,
   "metadata": {},
   "outputs": [],
   "source": [
    "#using the SMOTE to solve the imbalanced problem\n",
    "SM=SMOTE()\n",
    "x_fit,y_fit=SM.fit_resample(x2,y2)"
   ]
  },
  {
   "cell_type": "code",
   "execution_count": 388,
   "metadata": {},
   "outputs": [
    {
     "data": {
      "text/plain": [
       "7    259\n",
       "5    259\n",
       "3    259\n",
       "1    259\n",
       "6    259\n",
       "4    259\n",
       "2    259\n",
       "0    259\n",
       "Name: primary_fuel, dtype: int64"
      ]
     },
     "execution_count": 388,
     "metadata": {},
     "output_type": "execute_result"
    }
   ],
   "source": [
    "#new the issue of class imbalanced problem has been solved.\n",
    "y_fit.value_counts()"
   ]
  },
  {
   "cell_type": "code",
   "execution_count": 394,
   "metadata": {},
   "outputs": [
    {
     "name": "stdout",
     "output_type": "stream",
     "text": [
      "Best Accuracy is : 49.61%\n",
      "The Best Random State is : 124\n"
     ]
    }
   ],
   "source": [
    "#Finding best Random State:\n",
    "maxAcc=0\n",
    "maxRs=0\n",
    "\n",
    "for i in range(1,200):\n",
    "    x_train2,x_test2,y_train2,y_test2=train_test_split(x_fit,y_fit,test_size=0.25,random_state=i)\n",
    "    dt=LogisticRegression()\n",
    "    dt.fit(x_train2,y_train2)\n",
    "    y_pred2=dt.predict(x_test2)\n",
    "    acc_s=accuracy_score(y_test2,y_pred2)\n",
    "    if acc_s > maxAcc:\n",
    "        maxAcc=acc_s\n",
    "        maxRs=i\n",
    "        \n",
    "print(f\"Best Accuracy is : {maxAcc* 100:.2f}%\")\n",
    "print(\"The Best Random State is :\",maxRs)"
   ]
  },
  {
   "cell_type": "code",
   "execution_count": 395,
   "metadata": {},
   "outputs": [],
   "source": [
    "#seprating the train and test datasets with the best find random state\n",
    "x_train2,x_test2,y_train2,y_test2=train_test_split(x_fit,y_fit,test_size=0.25,random_state=124)"
   ]
  },
  {
   "cell_type": "code",
   "execution_count": 396,
   "metadata": {},
   "outputs": [
    {
     "name": "stdout",
     "output_type": "stream",
     "text": [
      "\n",
      "==========Outputs of Logistics Reggression===========\n",
      "\n",
      "==========Accuracy Score===========\n",
      "Accuracy Score is : 49.61%\n",
      "\n",
      "======Classification Report=============\n",
      "              precision    recall  f1-score   support\n",
      "\n",
      "           0       0.74      0.57      0.64        65\n",
      "           1       0.57      0.05      0.10        75\n",
      "           2       0.25      0.02      0.03        55\n",
      "           3       0.36      0.62      0.45        71\n",
      "           4       0.32      0.77      0.45        61\n",
      "           5       0.25      0.06      0.10        62\n",
      "           6       0.55      0.85      0.67        62\n",
      "           7       0.89      1.00      0.94        67\n",
      "\n",
      "    accuracy                           0.50       518\n",
      "   macro avg       0.49      0.49      0.42       518\n",
      "weighted avg       0.50      0.50      0.43       518\n",
      " \n",
      "\n",
      "=========Confusion Matrix============\n",
      "[[37  0  1  0  0  6 21  0]\n",
      " [ 3  4  1 27 29  2  9  0]\n",
      " [ 2  0  1 18 24  4  4  2]\n",
      " [ 0  2  0 44 25  0  0  0]\n",
      " [ 0  0  0 14 47  0  0  0]\n",
      " [ 1  0  1 20 21  4 10  5]\n",
      " [ 7  1  0  0  0  0 53  1]\n",
      " [ 0  0  0  0  0  0  0 67]]\n"
     ]
    }
   ],
   "source": [
    "#Using the DecisionTreeClassifier algorithm to check the accuray score,DecisionTreeClassifier and Confusion Matrix:\n",
    "lr=LogisticRegression()\n",
    "lr.fit(x_train2,y_train2)\n",
    "y_predlr=lr.predict(x_test2)\n",
    "\n",
    "print('\\n==========Outputs of Logistics Reggression===========')\n",
    "\n",
    "print('\\n==========Accuracy Score===========')\n",
    "print(f\"Accuracy Score is : {accuracy_score(y_test2,y_predlr)* 100:.2f}%\\n\")\n",
    "\n",
    "print('======Classification Report=============')\n",
    "print(classification_report(y_test2,y_predlr,digits=2),'\\n')\n",
    "\n",
    "print('=========Confusion Matrix============')\n",
    "print(confusion_matrix(y_test2,y_predlr))"
   ]
  },
  {
   "cell_type": "code",
   "execution_count": 397,
   "metadata": {},
   "outputs": [
    {
     "data": {
      "image/png": "[encoded data removed]",
      "text/plain": [
       "<Figure size 432x288 with 1 Axes>"
      ]
     },
     "metadata": {
      "needs_background": "light"
     },
     "output_type": "display_data"
    }
   ],
   "source": [
    "#plotting the roc auc curve for Logistics Reggression:\n",
    "prob_ydt=lr.predict_proba(x_test2)\n",
    "skplt.metrics.plot_roc(y_test2,prob_ydt)\n",
    "plt.title('Logistices Reggression ROC curve')\n",
    "plt.show()"
   ]
  },
  {
   "cell_type": "code",
   "execution_count": 398,
   "metadata": {},
   "outputs": [
    {
     "name": "stdout",
     "output_type": "stream",
     "text": [
      "\n",
      "==========Outputs of DT===========\n",
      "\n",
      "==========Accuracy Score===========\n",
      "Accuracy Score is : 80.89%\n",
      "\n",
      "======Classification Report=============\n",
      "              precision    recall  f1-score   support\n",
      "\n",
      "           0       0.91      0.92      0.92        65\n",
      "           1       0.70      0.64      0.67        75\n",
      "           2       0.61      0.62      0.61        55\n",
      "           3       0.68      0.72      0.70        71\n",
      "           4       0.81      0.77      0.79        61\n",
      "           5       0.78      0.81      0.79        62\n",
      "           6       0.98      1.00      0.99        62\n",
      "           7       1.00      1.00      1.00        67\n",
      "\n",
      "    accuracy                           0.81       518\n",
      "   macro avg       0.81      0.81      0.81       518\n",
      "weighted avg       0.81      0.81      0.81       518\n",
      " \n",
      "\n",
      "=========Confusion Matrix============\n",
      "[[60  5  0  0  0  0  0  0]\n",
      " [ 4 48 13  8  1  1  0  0]\n",
      " [ 1  8 34  5  1  5  1  0]\n",
      " [ 0  5  4 51  7  4  0  0]\n",
      " [ 1  0  1  8 47  4  0  0]\n",
      " [ 0  3  4  3  2 50  0  0]\n",
      " [ 0  0  0  0  0  0 62  0]\n",
      " [ 0  0  0  0  0  0  0 67]]\n"
     ]
    }
   ],
   "source": [
    "#Using the DecisionTreeClassifier algorithm to check the accuray score,DecisionTreeClassifier and Confusion Matrix:\n",
    "dt=DecisionTreeClassifier()\n",
    "dt.fit(x_train2,y_train2)\n",
    "y_preddt=dt.predict(x_test2)\n",
    "\n",
    "print('\\n==========Outputs of DT===========')\n",
    "\n",
    "print('\\n==========Accuracy Score===========')\n",
    "print(f\"Accuracy Score is : {accuracy_score(y_test2,y_preddt)* 100:.2f}%\\n\")\n",
    "\n",
    "print('======Classification Report=============')\n",
    "print(classification_report(y_test2,y_preddt,digits=2),'\\n')\n",
    "\n",
    "print('=========Confusion Matrix============')\n",
    "print(confusion_matrix(y_test2,y_preddt))"
   ]
  },
  {
   "cell_type": "code",
   "execution_count": 399,
   "metadata": {},
   "outputs": [
    {
     "data": {
      "image/png": "[encoded data removed]",
      "text/plain": [
       "<Figure size 432x288 with 1 Axes>"
      ]
     },
     "metadata": {
      "needs_background": "light"
     },
     "output_type": "display_data"
    }
   ],
   "source": [
    "#plotting the roc auc curve for Decision Tree:\n",
    "y_preddt=dt.predict_proba(x_test2)\n",
    "skplt.metrics.plot_roc(y_test2,y_preddt)\n",
    "plt.title('Decision Tree ROC curve')\n",
    "plt.show()"
   ]
  },
  {
   "cell_type": "code",
   "execution_count": 400,
   "metadata": {},
   "outputs": [
    {
     "name": "stdout",
     "output_type": "stream",
     "text": [
      "\n",
      "==========Outputs of ADA Boost===========\n",
      "\n",
      "==========Accuracy Score===========\n",
      "Accuracy Score is : 38.22%\n",
      "\n",
      "======Classification Report=============\n",
      "              precision    recall  f1-score   support\n",
      "\n",
      "           0       0.62      0.95      0.75        65\n",
      "           1       0.22      0.03      0.05        75\n",
      "           2       0.23      0.29      0.26        55\n",
      "           3       0.00      0.00      0.00        71\n",
      "           4       0.26      0.18      0.21        61\n",
      "           5       0.17      0.47      0.25        62\n",
      "           6       0.56      1.00      0.72        62\n",
      "           7       0.89      0.24      0.38        67\n",
      "\n",
      "    accuracy                           0.38       518\n",
      "   macro avg       0.37      0.39      0.33       518\n",
      "weighted avg       0.37      0.38      0.32       518\n",
      " \n",
      "\n",
      "=========Confusion Matrix============\n",
      "[[62  0  3  0  0  0  0  0]\n",
      " [12  2 37  0  2 22  0  0]\n",
      " [ 8  0 16  0  5 26  0  0]\n",
      " [ 0  1 13  0  8 49  0  0]\n",
      " [ 0  6  1  0 11 41  0  2]\n",
      " [18  0  0  0 15 29  0  0]\n",
      " [ 0  0  0  0  0  0 62  0]\n",
      " [ 0  0  0  0  2  0 49 16]]\n"
     ]
    }
   ],
   "source": [
    "#Using the AdaBoostClassifier algorithm to check the accuray score,DecisionTreeClassifier and Confusion Matrix:\n",
    "abc=AdaBoostClassifier()\n",
    "abc.fit(x_train2,y_train2)\n",
    "y_predabc=abc.predict(x_test2)\n",
    "\n",
    "print('\\n==========Outputs of ADA Boost===========')\n",
    "\n",
    "print('\\n==========Accuracy Score===========')\n",
    "print(f\"Accuracy Score is : {accuracy_score(y_test2,y_predabc)* 100:.2f}%\\n\")\n",
    "\n",
    "print('======Classification Report=============')\n",
    "print(classification_report(y_test2,y_predabc,digits=2),'\\n')\n",
    "\n",
    "print('=========Confusion Matrix============')\n",
    "print(confusion_matrix(y_test2,y_predabc))"
   ]
  },
  {
   "cell_type": "code",
   "execution_count": 401,
   "metadata": {},
   "outputs": [
    {
     "data": {
      "image/png": "[encoded data removed]",
      "text/plain": [
       "<Figure size 432x288 with 1 Axes>"
      ]
     },
     "metadata": {
      "needs_background": "light"
     },
     "output_type": "display_data"
    }
   ],
   "source": [
    "#plotting the roc auc curve for ADA Classifier:\n",
    "y_predabc=abc.predict_proba(x_test2)\n",
    "skplt.metrics.plot_roc(y_test2,y_predabc)\n",
    "plt.title('ADA Classifier ROC Curve')\n",
    "plt.show()"
   ]
  },
  {
   "cell_type": "code",
   "execution_count": 402,
   "metadata": {},
   "outputs": [
    {
     "name": "stdout",
     "output_type": "stream",
     "text": [
      "\n",
      "==========Outputs of Random Forest Classifier===========\n",
      "\n",
      "==========Accuracy Score===========\n",
      "Accuracy Score is : 85.91%\n",
      "\n",
      "======Classification Report=============\n",
      "              precision    recall  f1-score   support\n",
      "\n",
      "           0       0.95      0.94      0.95        65\n",
      "           1       0.77      0.64      0.70        75\n",
      "           2       0.79      0.75      0.77        55\n",
      "           3       0.74      0.72      0.73        71\n",
      "           4       0.83      0.93      0.88        61\n",
      "           5       0.79      0.94      0.86        62\n",
      "           6       1.00      1.00      1.00        62\n",
      "           7       1.00      1.00      1.00        67\n",
      "\n",
      "    accuracy                           0.86       518\n",
      "   macro avg       0.86      0.86      0.86       518\n",
      "weighted avg       0.86      0.86      0.86       518\n",
      " \n",
      "\n",
      "=========Confusion Matrix============\n",
      "[[61  4  0  0  0  0  0  0]\n",
      " [ 2 48  7 14  0  4  0  0]\n",
      " [ 1  4 41  1  4  4  0  0]\n",
      " [ 0  6  4 51  7  3  0  0]\n",
      " [ 0  0  0  0 57  4  0  0]\n",
      " [ 0  0  0  3  1 58  0  0]\n",
      " [ 0  0  0  0  0  0 62  0]\n",
      " [ 0  0  0  0  0  0  0 67]]\n"
     ]
    }
   ],
   "source": [
    "#Using the RandomForestClassifier algorithm to check the accuray score,DecisionTreeClassifier and Confusion Matrix:\n",
    "\n",
    "rfc=RandomForestClassifier()\n",
    "rfc.fit(x_train2,y_train2)\n",
    "y_predrfc=rfc.predict(x_test2)\n",
    "\n",
    "print('\\n==========Outputs of Random Forest Classifier===========')\n",
    "\n",
    "print('\\n==========Accuracy Score===========')\n",
    "print(f\"Accuracy Score is : {accuracy_score(y_test2,y_predrfc)* 100:.2f}%\\n\")\n",
    "\n",
    "print('======Classification Report=============')\n",
    "print(classification_report(y_test2,y_predrfc,digits=2),'\\n')\n",
    "\n",
    "print('=========Confusion Matrix============')\n",
    "print(confusion_matrix(y_test2,y_predrfc))"
   ]
  },
  {
   "cell_type": "code",
   "execution_count": 403,
   "metadata": {},
   "outputs": [
    {
     "data": {
      "image/png": "[encoded data removed]",
      "text/plain": [
       "<Figure size 432x288 with 1 Axes>"
      ]
     },
     "metadata": {
      "needs_background": "light"
     },
     "output_type": "display_data"
    }
   ],
   "source": [
    "#plotting the roc auc curve for Random Forest Classifier:\n",
    "y_predrfc=rfc.predict_proba(x_test2)\n",
    "skplt.metrics.plot_roc(y_test2,y_predrfc)\n",
    "plt.title('Random Forest Classifier ROC Curve')\n",
    "plt.show()"
   ]
  },
  {
   "cell_type": "code",
   "execution_count": 404,
   "metadata": {},
   "outputs": [
    {
     "name": "stdout",
     "output_type": "stream",
     "text": [
      "\n",
      "==========Outputs of KNeighborsClassifier===========\n",
      "\n",
      "==========Accuracy Score===========\n",
      "Accuracy Score is : 62.55%\n",
      "\n",
      "======Classification Report=============\n",
      "              precision    recall  f1-score   support\n",
      "\n",
      "           0       0.82      0.92      0.87        65\n",
      "           1       0.37      0.27      0.31        75\n",
      "           2       0.38      0.64      0.48        55\n",
      "           3       0.42      0.35      0.38        71\n",
      "           4       0.53      0.44      0.48        61\n",
      "           5       0.51      0.48      0.50        62\n",
      "           6       1.00      0.97      0.98        62\n",
      "           7       0.94      1.00      0.97        67\n",
      "\n",
      "    accuracy                           0.63       518\n",
      "   macro avg       0.62      0.63      0.62       518\n",
      "weighted avg       0.62      0.63      0.62       518\n",
      " \n",
      "\n",
      "=========Confusion Matrix============\n",
      "[[60  0  1  0  0  4  0  0]\n",
      " [ 9 20 22  9  6  8  0  1]\n",
      " [ 3  6 35  3  3  5  0  0]\n",
      " [ 0 16 17 25 10  3  0  0]\n",
      " [ 0  5  7 12 27  8  0  2]\n",
      " [ 1  7  9 10  5 30  0  0]\n",
      " [ 0  0  0  0  0  1 60  1]\n",
      " [ 0  0  0  0  0  0  0 67]]\n"
     ]
    }
   ],
   "source": [
    "#Using the KNeighborsClassifier algorithm to check the accuray score,DecisionTreeClassifier and Confusion Matrix:\n",
    "\n",
    "knn=KNeighborsClassifier()\n",
    "knn.fit(x_train2,y_train2)\n",
    "y_predknn=knn.predict(x_test2)\n",
    "\n",
    "print('\\n==========Outputs of KNeighborsClassifier===========')\n",
    "\n",
    "print('\\n==========Accuracy Score===========')\n",
    "print(f\"Accuracy Score is : {accuracy_score(y_test2,y_predknn)* 100:.2f}%\\n\")\n",
    "\n",
    "print('======Classification Report=============')\n",
    "print(classification_report(y_test2,y_predknn,digits=2),'\\n')\n",
    "\n",
    "print('=========Confusion Matrix============')\n",
    "print(confusion_matrix(y_test2,y_predknn))"
   ]
  },
  {
   "cell_type": "code",
   "execution_count": 405,
   "metadata": {},
   "outputs": [
    {
     "data": {
      "image/png": "[encoded data removed]",
      "text/plain": [
       "<Figure size 432x288 with 1 Axes>"
      ]
     },
     "metadata": {
      "needs_background": "light"
     },
     "output_type": "display_data"
    }
   ],
   "source": [
    "#plotting the roc auc curve for KNN Classifier:\n",
    "y_predknn=knn.predict_proba(x_test2)\n",
    "skplt.metrics.plot_roc(y_test2,y_predknn)\n",
    "plt.title('KNN Classifier ROC Curve')\n",
    "plt.show()"
   ]
  },
  {
   "cell_type": "code",
   "execution_count": 406,
   "metadata": {},
   "outputs": [
    {
     "name": "stdout",
     "output_type": "stream",
     "text": [
      "\n",
      "==========Outputs of SVC===========\n",
      "\n",
      "==========Accuracy Score===========\n",
      "Accuracy Score is : 55.21%\n",
      "\n",
      "======Classification Report=============\n",
      "              precision    recall  f1-score   support\n",
      "\n",
      "           0       0.54      1.00      0.70        65\n",
      "           1       1.00      0.01      0.03        75\n",
      "           2       0.41      0.16      0.23        55\n",
      "           3       0.35      0.54      0.42        71\n",
      "           4       0.35      0.79      0.49        61\n",
      "           5       0.00      0.00      0.00        62\n",
      "           6       1.00      0.94      0.97        62\n",
      "           7       0.94      1.00      0.97        67\n",
      "\n",
      "    accuracy                           0.55       518\n",
      "   macro avg       0.57      0.55      0.48       518\n",
      "weighted avg       0.59      0.55      0.47       518\n",
      " \n",
      "\n",
      "=========Confusion Matrix============\n",
      "[[65  0  0  0  0  0  0  0]\n",
      " [16  1  3 28 26  0  0  1]\n",
      " [12  0  9 16 18  0  0  0]\n",
      " [ 1  0  5 38 27  0  0  0]\n",
      " [ 3  0  3  5 48  0  0  2]\n",
      " [20  0  2 23 17  0  0  0]\n",
      " [ 3  0  0  0  0  0 58  1]\n",
      " [ 0  0  0  0  0  0  0 67]]\n"
     ]
    }
   ],
   "source": [
    "#Using the SVC algorithm to check the accuray score,DecisionTreeClassifier and Confusion Matrix:\n",
    "\n",
    "#svc=SVC(probability=True)\n",
    "svc=SVC(probability=True)\n",
    "svc.fit(x_train2,y_train2)\n",
    "y_predsvc=svc.predict(x_test2)\n",
    "\n",
    "print('\\n==========Outputs of SVC===========')\n",
    "\n",
    "print('\\n==========Accuracy Score===========')\n",
    "print(f\"Accuracy Score is : {accuracy_score(y_test2,y_predsvc)* 100:.2f}%\\n\")\n",
    "\n",
    "print('======Classification Report=============')\n",
    "print(classification_report(y_test2,y_predsvc,digits=2),'\\n')\n",
    "\n",
    "print('=========Confusion Matrix============')\n",
    "print(confusion_matrix(y_test2,y_predsvc))"
   ]
  },
  {
   "cell_type": "code",
   "execution_count": 407,
   "metadata": {},
   "outputs": [
    {
     "data": {
      "image/png": "[encoded data removed]",
      "text/plain": [
       "<Figure size 432x288 with 1 Axes>"
      ]
     },
     "metadata": {
      "needs_background": "light"
     },
     "output_type": "display_data"
    }
   ],
   "source": [
    "#plotting the roc auc curve for SVC:\n",
    "y_predsvc=svc.predict_proba(x_test2)\n",
    "skplt.metrics.plot_roc(y_test2,y_predsvc)\n",
    "plt.title('SVC Classifier ROC Curve')\n",
    "plt.show()"
   ]
  },
  {
   "cell_type": "code",
   "execution_count": 408,
   "metadata": {},
   "outputs": [
    {
     "name": "stdout",
     "output_type": "stream",
     "text": [
      "\n",
      "==========Cross Validation Score of Logistices Classifier===========\n",
      "Cross validation for the Logistices Classifier is: 41.41%\n",
      "\n",
      "\n",
      "==========Cross Validation Score of Random Forest Classifier===========\n",
      "Cross validation for the Random Forest Classifier is: 82.72%\n",
      "\n",
      "\n",
      "=============Cross Validation Score of Decision Tree====================\n",
      "Cross validation for the Decision Tree is: 76.74%\n",
      "\n",
      "\n",
      "=============Cross Validation Score of AdaBoost Classifier==============\n",
      "Cross validation for the AdaBoost Classifier is: 44.26%\n",
      "\n",
      "\n",
      "===================Cross Validation Score of KNN========================\n",
      "Cross validation for the KNN Classifier is: 58.11%\n",
      "\n",
      "\n",
      "===================Cross Validation Score of SVC========================\n",
      "Cross validation for the SVC Classifier is: 49.62%\n",
      "\n"
     ]
    }
   ],
   "source": [
    "print('\\n==========Cross Validation Score of Logistices Classifier===========')\n",
    "cvs_lr=cross_val_score(lr,x_fit,y_fit,cv=5)\n",
    "print(f\"Cross validation for the Logistices Classifier is: {cvs_lr.mean()*100:.2f}%\\n\")\n",
    "\n",
    "print('\\n==========Cross Validation Score of Random Forest Classifier===========')\n",
    "cvs_rfc=cross_val_score(rfc,x_fit,y_fit,cv=5)\n",
    "print(f\"Cross validation for the Random Forest Classifier is: {cvs_rfc.mean()*100:.2f}%\\n\")\n",
    "\n",
    "print('\\n=============Cross Validation Score of Decision Tree====================')\n",
    "cvs_dt=cross_val_score(dt,x_fit,y_fit,cv=5)\n",
    "print(f\"Cross validation for the Decision Tree is: {cvs_dt.mean()*100:.2f}%\\n\")\n",
    "\n",
    "print('\\n=============Cross Validation Score of AdaBoost Classifier==============')\n",
    "cvs_abc=cross_val_score(abc,x_fit,y_fit,cv=5)\n",
    "print(f\"Cross validation for the AdaBoost Classifier is: {cvs_abc.mean()*100:.2f}%\\n\")\n",
    "\n",
    "print('\\n===================Cross Validation Score of KNN========================')\n",
    "cvs_knn=cross_val_score(knn,x_fit,y_fit,cv=5)\n",
    "print(f\"Cross validation for the KNN Classifier is: {cvs_knn.mean()*100:.2f}%\\n\")\n",
    "\n",
    "print('\\n===================Cross Validation Score of SVC========================')\n",
    "cvs_svc=cross_val_score(svc,x_fit,y_fit,cv=5)\n",
    "print(f\"Cross validation for the SVC Classifier is: {cvs_svc.mean()*100:.2f}%\\n\")"
   ]
  },
  {
   "cell_type": "code",
   "execution_count": null,
   "metadata": {},
   "outputs": [],
   "source": [
    "#As we can see that the result of Accuracy Score and cross validation score of all the models.\n",
    "#Logistices Reggression:49.61%\n",
    "#Cross Validation Score:41.41%\n",
    "#Diffrence:8.2\n",
    "\n",
    "#DesionTree Classifier:80.89%\n",
    "#Cross Validation Score:76.74%\n",
    "#Diffrence:4.15\n",
    "\n",
    "#ADA Boost Classifier:38.22%\n",
    "#Cross Validation Score:44.26%\n",
    "#Diffrence:-6.04\n",
    "\n",
    "#Random forest Classication:85.91%\n",
    "#Cross Validation Score:82.72%\n",
    "#Diffrence:3.19\n",
    "\n",
    "#KNN Classifier:62.55%\n",
    "#Cross Validation Score:44.26%\n",
    "#Diffrence:18.29\n",
    "\n",
    "#SVC:55.21%\n",
    "#Cross Validation Score:49.62%\n",
    "#Diffrence:5.59\n",
    "\n",
    "#Random Forest Classifier is best model here with least diffrence and highest accuracy.\n",
    "#So we will use Random Forest Regressor for the hyper parameter tuning."
   ]
  },
  {
   "cell_type": "code",
   "execution_count": null,
   "metadata": {},
   "outputs": [],
   "source": [
    "#now performing the hyper parameter tuning using gridsearchcv"
   ]
  },
  {
   "cell_type": "code",
   "execution_count": 409,
   "metadata": {},
   "outputs": [],
   "source": [
    "#Now Appling the gridsearchcv beofore building the model to check the best parameter.\n",
    "best_param={'n_estimators':[80,90,100],\n",
    "           'criterion':['gini','entropy'],\n",
    "           'max_depth':[10,12,15],\n",
    "           'min_samples_split':[2,3,5],\n",
    "           'min_samples_leaf':[2,4,6]}"
   ]
  },
  {
   "cell_type": "code",
   "execution_count": 410,
   "metadata": {},
   "outputs": [],
   "source": [
    "gridcv=GridSearchCV(rfc,param_grid=best_param)"
   ]
  },
  {
   "cell_type": "code",
   "execution_count": 411,
   "metadata": {},
   "outputs": [
    {
     "data": {
      "text/plain": [
       "GridSearchCV(estimator=RandomForestClassifier(),\n",
       "             param_grid={'criterion': ['gini', 'entropy'],\n",
       "                         'max_depth': [10, 12, 15],\n",
       "                         'min_samples_leaf': [2, 4, 6],\n",
       "                         'min_samples_split': [2, 3, 5],\n",
       "                         'n_estimators': [80, 90, 100]})"
      ]
     },
     "execution_count": 411,
     "metadata": {},
     "output_type": "execute_result"
    }
   ],
   "source": [
    "gridcv.fit(x_train2,y_train2)"
   ]
  },
  {
   "cell_type": "code",
   "execution_count": 412,
   "metadata": {},
   "outputs": [
    {
     "data": {
      "text/plain": [
       "{'criterion': 'gini',\n",
       " 'max_depth': 15,\n",
       " 'min_samples_leaf': 2,\n",
       " 'min_samples_split': 3,\n",
       " 'n_estimators': 100}"
      ]
     },
     "execution_count": 412,
     "metadata": {},
     "output_type": "execute_result"
    }
   ],
   "source": [
    "gridcv.best_params_"
   ]
  },
  {
   "cell_type": "code",
   "execution_count": 166,
   "metadata": {},
   "outputs": [
    {
     "name": "stdout",
     "output_type": "stream",
     "text": [
      "\n",
      "==========Outputs of Random Forest Classifier===========\n",
      "\n",
      "==========Accuracy Score===========\n",
      "Accuracy Score is : 87.84%\n",
      "\n",
      "======Classification Report=============\n",
      "              precision    recall  f1-score   support\n",
      "\n",
      "           0       0.89      0.98      0.93        65\n",
      "           1       0.72      0.68      0.70        60\n",
      "           2       0.82      0.73      0.77        55\n",
      "           3       0.89      0.64      0.74        66\n",
      "           4       0.81      1.00      0.90        66\n",
      "           5       0.86      0.94      0.90        68\n",
      "           6       1.00      1.00      1.00        76\n",
      "           7       1.00      1.00      1.00        62\n",
      "\n",
      "    accuracy                           0.88       518\n",
      "   macro avg       0.87      0.87      0.87       518\n",
      "weighted avg       0.88      0.88      0.87       518\n",
      " \n",
      "\n",
      "=========Confusion Matrix============\n",
      "[[64  1  0  0  0  0  0  0]\n",
      " [ 6 41  6  4  2  1  0  0]\n",
      " [ 2  4 40  1  2  6  0  0]\n",
      " [ 0 11  1 42  9  3  0  0]\n",
      " [ 0  0  0  0 66  0  0  0]\n",
      " [ 0  0  2  0  2 64  0  0]\n",
      " [ 0  0  0  0  0  0 76  0]\n",
      " [ 0  0  0  0  0  0  0 62]]\n"
     ]
    }
   ],
   "source": [
    "#Using the RandomForestClassifier algorithm to check the accuray score,DecisionTreeClassifier and Confusion Matrix:\n",
    "\n",
    "rfc=RandomForestClassifier(criterion='gini',max_depth=15,min_samples_leaf=2,min_samples_split=3,n_estimators=100)\n",
    "rfc.fit(x_train2,y_train2)\n",
    "y_predrfc=rfc.predict(x_test2)\n",
    "\n",
    "print('\\n==========Outputs of Random Forest Classifier===========')\n",
    "\n",
    "print('\\n==========Accuracy Score===========')\n",
    "print(f\"Accuracy Score is : {accuracy_score(y_test2,y_predrfc)* 100:.2f}%\\n\")\n",
    "\n",
    "print('======Classification Report=============')\n",
    "print(classification_report(y_test2,y_predrfc,digits=2),'\\n')\n",
    "\n",
    "print('=========Confusion Matrix============')\n",
    "print(confusion_matrix(y_test2,y_predrfc))"
   ]
  },
  {
   "cell_type": "code",
   "execution_count": null,
   "metadata": {},
   "outputs": [],
   "source": [
    "#after the Hyper parameter tuning also accuracy get increased 87.84..so we are saving the model with hyper parameter tuning."
   ]
  },
  {
   "cell_type": "code",
   "execution_count": 413,
   "metadata": {},
   "outputs": [],
   "source": [
    "#here Random Forest Classifier is our best model to provide the highest accuracy."
   ]
  },
  {
   "cell_type": "code",
   "execution_count": 427,
   "metadata": {},
   "outputs": [
    {
     "data": {
      "text/plain": [
       "['Global_Power_Plant_Model2.pkl']"
      ]
     },
     "execution_count": 427,
     "metadata": {},
     "output_type": "execute_result"
    }
   ],
   "source": [
    "#Saving the model\n",
    "import joblib\n",
    "joblib.dump(rfc,'Global_Power_Plant_Model2.pkl')"
   ]
  },
  {
   "cell_type": "code",
   "execution_count": null,
   "metadata": {},
   "outputs": [],
   "source": [
    "#this complete the model building."
   ]
  }
 ],
 "metadata": {
  "kernelspec": {
   "display_name": "Python 3",
   "language": "python",
   "name": "python3"
  },
  "language_info": {
   "codemirror_mode": {
    "name": "ipython",
    "version": 3
   },
   "file_extension": ".py",
   "mimetype": "text/x-python",
   "name": "python",
   "nbconvert_exporter": "python",
   "pygments_lexer": "ipython3",
   "version": "3.8.5"
  }
 },
 "nbformat": 4,
 "nbformat_minor": 4
}
