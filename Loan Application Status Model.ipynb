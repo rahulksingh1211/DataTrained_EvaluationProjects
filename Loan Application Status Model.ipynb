{
 "cells": [
  {
   "cell_type": "markdown",
   "metadata": {},
   "source": [
    "Loan Application Status Prediction\n",
    "Problem Statement:\n",
    "This dataset includes details of applicants who have applied for loan. The dataset includes details like credit history, loan amount, their income, dependents etc. \n",
    "\n",
    "Independent Variables:\n",
    "- Loan_ID\n",
    "- Gender\n",
    "- Married\n",
    "- Dependents\n",
    "- Education\n",
    "- Self_Employed\n",
    "- ApplicantIncome\n",
    "- CoapplicantIncome\n",
    "- Loan_Amount\n",
    "- Loan_Amount_Term\n",
    "- Credit History\n",
    "- Property_Area\n",
    "\n",
    "Dependent Variable (Target Variable):\n",
    "\n",
    "- Loan_Status\n",
    "\n",
    "You have to build a model that can predict whether the loan of the applicant will be approved or not on the basis of the details provided in the dataset. "
   ]
  },
  {
   "cell_type": "code",
   "execution_count": 142,
   "metadata": {},
   "outputs": [],
   "source": [
    "#Imoporting neccecory Libraries:\n",
    "\n",
    "#common lib\n",
    "import numpy as np\n",
    "import pandas as pd\n",
    "import matplotlib.pyplot as plt\n",
    "import seaborn as sns\n",
    "%matplotlib inline\n",
    "\n",
    "#preprocessing lib:\n",
    "from sklearn.preprocessing import StandardScaler,MinMaxScaler\n",
    "from sklearn.model_selection import train_test_split\n",
    "from sklearn.preprocessing import OneHotEncoder,LabelEncoder\n",
    "\n",
    "#outliers lib:\n",
    "from scipy import stats\n",
    "\n",
    "#multicolliniarity lib:\n",
    "from sklearn.feature_selection import SelectKBest,f_classif\n",
    "from statsmodels.stats.outliers_influence import variance_inflation_factor\n",
    "from sklearn.model_selection import train_test_split,cross_val_score\n",
    "\n",
    "#Model building lib \n",
    "from sklearn.linear_model import LogisticRegression\n",
    "from sklearn.tree import DecisionTreeClassifier\n",
    "from sklearn.neighbors import KNeighborsClassifier\n",
    "from sklearn.ensemble import RandomForestClassifier,AdaBoostClassifier,GradientBoostingClassifier\n",
    "from sklearn.svm import SVC\n",
    "\n",
    "#model evaluation lib:\n",
    "from sklearn.metrics import classification_report,roc_auc_score,accuracy_score,confusion_matrix,plot_roc_curve\n",
    "\n",
    "#model hyper parameter tuning lib:\n",
    "from sklearn.model_selection import GridSearchCV,RandomizedSearchCV\n",
    "\n",
    "import warnings\n",
    "warnings.filterwarnings('ignore')"
   ]
  },
  {
   "cell_type": "code",
   "execution_count": 279,
   "metadata": {},
   "outputs": [
    {
     "data": {
      "text/html": [
       "<div>\n",
       "<style scoped>\n",
       "    .dataframe tbody tr th:only-of-type {\n",
       "        vertical-align: middle;\n",
       "    }\n",
       "\n",
       "    .dataframe tbody tr th {\n",
       "        vertical-align: top;\n",
       "    }\n",
       "\n",
       "    .dataframe thead th {\n",
       "        text-align: right;\n",
       "    }\n",
       "</style>\n",
       "<table border=\"1\" class=\"dataframe\">\n",
       "  <thead>\n",
       "    <tr style=\"text-align: right;\">\n",
       "      <th></th>\n",
       "      <th>Loan_ID</th>\n",
       "      <th>Gender</th>\n",
       "      <th>Married</th>\n",
       "      <th>Dependents</th>\n",
       "      <th>Education</th>\n",
       "      <th>Self_Employed</th>\n",
       "      <th>ApplicantIncome</th>\n",
       "      <th>CoapplicantIncome</th>\n",
       "      <th>LoanAmount</th>\n",
       "      <th>Loan_Amount_Term</th>\n",
       "      <th>Credit_History</th>\n",
       "      <th>Property_Area</th>\n",
       "      <th>Loan_Status</th>\n",
       "    </tr>\n",
       "  </thead>\n",
       "  <tbody>\n",
       "    <tr>\n",
       "      <th>0</th>\n",
       "      <td>LP001002</td>\n",
       "      <td>Male</td>\n",
       "      <td>No</td>\n",
       "      <td>0</td>\n",
       "      <td>Graduate</td>\n",
       "      <td>No</td>\n",
       "      <td>5849</td>\n",
       "      <td>0.0</td>\n",
       "      <td>NaN</td>\n",
       "      <td>360.0</td>\n",
       "      <td>1.0</td>\n",
       "      <td>Urban</td>\n",
       "      <td>Y</td>\n",
       "    </tr>\n",
       "    <tr>\n",
       "      <th>1</th>\n",
       "      <td>LP001003</td>\n",
       "      <td>Male</td>\n",
       "      <td>Yes</td>\n",
       "      <td>1</td>\n",
       "      <td>Graduate</td>\n",
       "      <td>No</td>\n",
       "      <td>4583</td>\n",
       "      <td>1508.0</td>\n",
       "      <td>128.0</td>\n",
       "      <td>360.0</td>\n",
       "      <td>1.0</td>\n",
       "      <td>Rural</td>\n",
       "      <td>N</td>\n",
       "    </tr>\n",
       "    <tr>\n",
       "      <th>2</th>\n",
       "      <td>LP001005</td>\n",
       "      <td>Male</td>\n",
       "      <td>Yes</td>\n",
       "      <td>0</td>\n",
       "      <td>Graduate</td>\n",
       "      <td>Yes</td>\n",
       "      <td>3000</td>\n",
       "      <td>0.0</td>\n",
       "      <td>66.0</td>\n",
       "      <td>360.0</td>\n",
       "      <td>1.0</td>\n",
       "      <td>Urban</td>\n",
       "      <td>Y</td>\n",
       "    </tr>\n",
       "    <tr>\n",
       "      <th>3</th>\n",
       "      <td>LP001006</td>\n",
       "      <td>Male</td>\n",
       "      <td>Yes</td>\n",
       "      <td>0</td>\n",
       "      <td>Not Graduate</td>\n",
       "      <td>No</td>\n",
       "      <td>2583</td>\n",
       "      <td>2358.0</td>\n",
       "      <td>120.0</td>\n",
       "      <td>360.0</td>\n",
       "      <td>1.0</td>\n",
       "      <td>Urban</td>\n",
       "      <td>Y</td>\n",
       "    </tr>\n",
       "    <tr>\n",
       "      <th>4</th>\n",
       "      <td>LP001008</td>\n",
       "      <td>Male</td>\n",
       "      <td>No</td>\n",
       "      <td>0</td>\n",
       "      <td>Graduate</td>\n",
       "      <td>No</td>\n",
       "      <td>6000</td>\n",
       "      <td>0.0</td>\n",
       "      <td>141.0</td>\n",
       "      <td>360.0</td>\n",
       "      <td>1.0</td>\n",
       "      <td>Urban</td>\n",
       "      <td>Y</td>\n",
       "    </tr>\n",
       "  </tbody>\n",
       "</table>\n",
       "</div>"
      ],
      "text/plain": [
       "    Loan_ID Gender Married Dependents     Education Self_Employed  \\\n",
       "0  LP001002   Male      No          0      Graduate            No   \n",
       "1  LP001003   Male     Yes          1      Graduate            No   \n",
       "2  LP001005   Male     Yes          0      Graduate           Yes   \n",
       "3  LP001006   Male     Yes          0  Not Graduate            No   \n",
       "4  LP001008   Male      No          0      Graduate            No   \n",
       "\n",
       "   ApplicantIncome  CoapplicantIncome  LoanAmount  Loan_Amount_Term  \\\n",
       "0             5849                0.0         NaN             360.0   \n",
       "1             4583             1508.0       128.0             360.0   \n",
       "2             3000                0.0        66.0             360.0   \n",
       "3             2583             2358.0       120.0             360.0   \n",
       "4             6000                0.0       141.0             360.0   \n",
       "\n",
       "   Credit_History Property_Area Loan_Status  \n",
       "0             1.0         Urban           Y  \n",
       "1             1.0         Rural           N  \n",
       "2             1.0         Urban           Y  \n",
       "3             1.0         Urban           Y  \n",
       "4             1.0         Urban           Y  "
      ]
     },
     "execution_count": 279,
     "metadata": {},
     "output_type": "execute_result"
    }
   ],
   "source": [
    "#Loading the Dataset:\n",
    "df=pd.read_csv('Loan Application Prediction.csv')\n",
    "df.head()"
   ]
  },
  {
   "cell_type": "code",
   "execution_count": 280,
   "metadata": {},
   "outputs": [],
   "source": [
    "#diplay all the rows from the df\n",
    "pd.set_option('display.max_rows',None)"
   ]
  },
  {
   "cell_type": "code",
   "execution_count": 221,
   "metadata": {},
   "outputs": [
    {
     "data": {
      "text/plain": [
       "(614, 13)"
      ]
     },
     "execution_count": 221,
     "metadata": {},
     "output_type": "execute_result"
    }
   ],
   "source": [
    "df.shape\n",
    "#there is 614 rows and 13 columns is availble in the data"
   ]
  },
  {
   "cell_type": "code",
   "execution_count": 222,
   "metadata": {},
   "outputs": [
    {
     "name": "stdout",
     "output_type": "stream",
     "text": [
      "<class 'pandas.core.frame.DataFrame'>\n",
      "RangeIndex: 614 entries, 0 to 613\n",
      "Data columns (total 13 columns):\n",
      " #   Column             Non-Null Count  Dtype  \n",
      "---  ------             --------------  -----  \n",
      " 0   Loan_ID            614 non-null    object \n",
      " 1   Gender             601 non-null    object \n",
      " 2   Married            611 non-null    object \n",
      " 3   Dependents         599 non-null    object \n",
      " 4   Education          614 non-null    object \n",
      " 5   Self_Employed      582 non-null    object \n",
      " 6   ApplicantIncome    614 non-null    int64  \n",
      " 7   CoapplicantIncome  614 non-null    float64\n",
      " 8   LoanAmount         592 non-null    float64\n",
      " 9   Loan_Amount_Term   600 non-null    float64\n",
      " 10  Credit_History     564 non-null    float64\n",
      " 11  Property_Area      614 non-null    object \n",
      " 12  Loan_Status        614 non-null    object \n",
      "dtypes: float64(4), int64(1), object(8)\n",
      "memory usage: 62.5+ KB\n"
     ]
    }
   ],
   "source": [
    "df.info()\n",
    "#the dataframe having the object,int and float datatypes"
   ]
  },
  {
   "cell_type": "code",
   "execution_count": 100,
   "metadata": {},
   "outputs": [
    {
     "data": {
      "text/plain": [
       "Loan_ID               0\n",
       "Gender               13\n",
       "Married               3\n",
       "Dependents           15\n",
       "Education             0\n",
       "Self_Employed        32\n",
       "ApplicantIncome       0\n",
       "CoapplicantIncome     0\n",
       "LoanAmount           22\n",
       "Loan_Amount_Term     14\n",
       "Credit_History       50\n",
       "Property_Area         0\n",
       "Loan_Status           0\n",
       "dtype: int64"
      ]
     },
     "execution_count": 100,
     "metadata": {},
     "output_type": "execute_result"
    }
   ],
   "source": [
    "#checking null value from the dataframe\n",
    "df.isnull().sum()"
   ]
  },
  {
   "cell_type": "code",
   "execution_count": null,
   "metadata": {},
   "outputs": [],
   "source": [
    "#there are multiple features which having the null values\n",
    "#Gender(Mode),Married(Mode),Dependents(mode),Self_Employed(Mode),LoanAmount(Midean),Loan_Amount_Term(median),Credit_History(mode)              "
   ]
  },
  {
   "cell_type": "code",
   "execution_count": 281,
   "metadata": {},
   "outputs": [],
   "source": [
    "#Fillinf the null values:\n",
    "df['Gender']=df['Gender'].fillna(df['Gender'].mode()[0])\n",
    "df['Married']=df['Married'].fillna(df['Married'].mode()[0])\n",
    "df['Dependents']=df['Dependents'].fillna(df['Dependents'].mode()[0])\n",
    "df['Self_Employed']=df['Self_Employed'].fillna(df['Self_Employed'].mode()[0])\n",
    "df['Credit_History']=df['Credit_History'].fillna(df['Credit_History'].mode()[0])\n",
    "\n",
    "df['LoanAmount']=df['LoanAmount'].fillna(df['LoanAmount'].median())\n",
    "df['Loan_Amount_Term']=df['Loan_Amount_Term'].fillna(df['Loan_Amount_Term'].median())"
   ]
  },
  {
   "cell_type": "code",
   "execution_count": 282,
   "metadata": {},
   "outputs": [
    {
     "data": {
      "text/plain": [
       "0     360\n",
       "1     102\n",
       "2     101\n",
       "3+     51\n",
       "Name: Dependents, dtype: int64"
      ]
     },
     "execution_count": 282,
     "metadata": {},
     "output_type": "execute_result"
    }
   ],
   "source": [
    "df['Dependents'].value_counts()"
   ]
  },
  {
   "cell_type": "code",
   "execution_count": 283,
   "metadata": {},
   "outputs": [],
   "source": [
    "#Replacing the 3+ with most common value as it will create the conversion error.\n",
    "df['Dependents']=df['Dependents'].replace('3+','0')"
   ]
  },
  {
   "cell_type": "code",
   "execution_count": 284,
   "metadata": {},
   "outputs": [
    {
     "data": {
      "text/plain": [
       "0    411\n",
       "1    102\n",
       "2    101\n",
       "Name: Dependents, dtype: int64"
      ]
     },
     "execution_count": 284,
     "metadata": {},
     "output_type": "execute_result"
    }
   ],
   "source": [
    "df['Dependents'].value_counts()"
   ]
  },
  {
   "cell_type": "code",
   "execution_count": 285,
   "metadata": {},
   "outputs": [
    {
     "data": {
      "text/plain": [
       "Loan_ID              0\n",
       "Gender               0\n",
       "Married              0\n",
       "Dependents           0\n",
       "Education            0\n",
       "Self_Employed        0\n",
       "ApplicantIncome      0\n",
       "CoapplicantIncome    0\n",
       "LoanAmount           0\n",
       "Loan_Amount_Term     0\n",
       "Credit_History       0\n",
       "Property_Area        0\n",
       "Loan_Status          0\n",
       "dtype: int64"
      ]
     },
     "execution_count": 285,
     "metadata": {},
     "output_type": "execute_result"
    }
   ],
   "source": [
    "#checking null value again from the dataframe\n",
    "df.isnull().sum()"
   ]
  },
  {
   "cell_type": "code",
   "execution_count": 286,
   "metadata": {},
   "outputs": [
    {
     "data": {
      "image/png": "[encoded data removed]",
      "text/plain": [
       "<Figure size 1080x720 with 2 Axes>"
      ]
     },
     "metadata": {
      "needs_background": "light"
     },
     "output_type": "display_data"
    }
   ],
   "source": [
    "#there is no null value available in the dataframe.cross checking the same with the heatmap.\n",
    "plt.figure(figsize=(15,10))\n",
    "sns.heatmap(df.isna())\n",
    "plt.show()"
   ]
  },
  {
   "cell_type": "code",
   "execution_count": 66,
   "metadata": {},
   "outputs": [
    {
     "data": {
      "text/html": [
       "<div>\n",
       "<style scoped>\n",
       "    .dataframe tbody tr th:only-of-type {\n",
       "        vertical-align: middle;\n",
       "    }\n",
       "\n",
       "    .dataframe tbody tr th {\n",
       "        vertical-align: top;\n",
       "    }\n",
       "\n",
       "    .dataframe thead th {\n",
       "        text-align: right;\n",
       "    }\n",
       "</style>\n",
       "<table border=\"1\" class=\"dataframe\">\n",
       "  <thead>\n",
       "    <tr style=\"text-align: right;\">\n",
       "      <th></th>\n",
       "      <th>ApplicantIncome</th>\n",
       "      <th>CoapplicantIncome</th>\n",
       "      <th>LoanAmount</th>\n",
       "      <th>Loan_Amount_Term</th>\n",
       "      <th>Credit_History</th>\n",
       "    </tr>\n",
       "  </thead>\n",
       "  <tbody>\n",
       "    <tr>\n",
       "      <th>count</th>\n",
       "      <td>614.000000</td>\n",
       "      <td>614.000000</td>\n",
       "      <td>614.000000</td>\n",
       "      <td>614.000000</td>\n",
       "      <td>614.000000</td>\n",
       "    </tr>\n",
       "    <tr>\n",
       "      <th>mean</th>\n",
       "      <td>5403.459283</td>\n",
       "      <td>1621.245798</td>\n",
       "      <td>145.752443</td>\n",
       "      <td>342.410423</td>\n",
       "      <td>0.855049</td>\n",
       "    </tr>\n",
       "    <tr>\n",
       "      <th>std</th>\n",
       "      <td>6109.041673</td>\n",
       "      <td>2926.248369</td>\n",
       "      <td>84.107233</td>\n",
       "      <td>64.428629</td>\n",
       "      <td>0.352339</td>\n",
       "    </tr>\n",
       "    <tr>\n",
       "      <th>min</th>\n",
       "      <td>150.000000</td>\n",
       "      <td>0.000000</td>\n",
       "      <td>9.000000</td>\n",
       "      <td>12.000000</td>\n",
       "      <td>0.000000</td>\n",
       "    </tr>\n",
       "    <tr>\n",
       "      <th>25%</th>\n",
       "      <td>2877.500000</td>\n",
       "      <td>0.000000</td>\n",
       "      <td>100.250000</td>\n",
       "      <td>360.000000</td>\n",
       "      <td>1.000000</td>\n",
       "    </tr>\n",
       "    <tr>\n",
       "      <th>50%</th>\n",
       "      <td>3812.500000</td>\n",
       "      <td>1188.500000</td>\n",
       "      <td>128.000000</td>\n",
       "      <td>360.000000</td>\n",
       "      <td>1.000000</td>\n",
       "    </tr>\n",
       "    <tr>\n",
       "      <th>75%</th>\n",
       "      <td>5795.000000</td>\n",
       "      <td>2297.250000</td>\n",
       "      <td>164.750000</td>\n",
       "      <td>360.000000</td>\n",
       "      <td>1.000000</td>\n",
       "    </tr>\n",
       "    <tr>\n",
       "      <th>max</th>\n",
       "      <td>81000.000000</td>\n",
       "      <td>41667.000000</td>\n",
       "      <td>700.000000</td>\n",
       "      <td>480.000000</td>\n",
       "      <td>1.000000</td>\n",
       "    </tr>\n",
       "  </tbody>\n",
       "</table>\n",
       "</div>"
      ],
      "text/plain": [
       "       ApplicantIncome  CoapplicantIncome  LoanAmount  Loan_Amount_Term  \\\n",
       "count       614.000000         614.000000  614.000000        614.000000   \n",
       "mean       5403.459283        1621.245798  145.752443        342.410423   \n",
       "std        6109.041673        2926.248369   84.107233         64.428629   \n",
       "min         150.000000           0.000000    9.000000         12.000000   \n",
       "25%        2877.500000           0.000000  100.250000        360.000000   \n",
       "50%        3812.500000        1188.500000  128.000000        360.000000   \n",
       "75%        5795.000000        2297.250000  164.750000        360.000000   \n",
       "max       81000.000000       41667.000000  700.000000        480.000000   \n",
       "\n",
       "       Credit_History  \n",
       "count      614.000000  \n",
       "mean         0.855049  \n",
       "std          0.352339  \n",
       "min          0.000000  \n",
       "25%          1.000000  \n",
       "50%          1.000000  \n",
       "75%          1.000000  \n",
       "max          1.000000  "
      ]
     },
     "execution_count": 66,
     "metadata": {},
     "output_type": "execute_result"
    }
   ],
   "source": [
    "#Discribing the dataframe\n",
    "df.describe()"
   ]
  },
  {
   "cell_type": "code",
   "execution_count": null,
   "metadata": {},
   "outputs": [],
   "source": [
    "#from the discribe we can see that there is diffrence between mean and median(50%) so there is outliers are available in dataset.\n",
    "#the standerd daviation is also looks abnormal here."
   ]
  },
  {
   "cell_type": "code",
   "execution_count": 287,
   "metadata": {},
   "outputs": [],
   "source": [
    "#using label transfrom to convert catagorical data in to binary data\n",
    "lb=LabelEncoder()\n",
    "cat_var=['Gender','Married','Education','Self_Employed','Property_Area','Loan_Status']\n",
    "\n",
    "for i in cat_var:\n",
    "    df[i]=lb.fit_transform(df[i])"
   ]
  },
  {
   "cell_type": "code",
   "execution_count": 288,
   "metadata": {},
   "outputs": [
    {
     "data": {
      "text/html": [
       "<div>\n",
       "<style scoped>\n",
       "    .dataframe tbody tr th:only-of-type {\n",
       "        vertical-align: middle;\n",
       "    }\n",
       "\n",
       "    .dataframe tbody tr th {\n",
       "        vertical-align: top;\n",
       "    }\n",
       "\n",
       "    .dataframe thead th {\n",
       "        text-align: right;\n",
       "    }\n",
       "</style>\n",
       "<table border=\"1\" class=\"dataframe\">\n",
       "  <thead>\n",
       "    <tr style=\"text-align: right;\">\n",
       "      <th></th>\n",
       "      <th>Loan_ID</th>\n",
       "      <th>Gender</th>\n",
       "      <th>Married</th>\n",
       "      <th>Dependents</th>\n",
       "      <th>Education</th>\n",
       "      <th>Self_Employed</th>\n",
       "      <th>ApplicantIncome</th>\n",
       "      <th>CoapplicantIncome</th>\n",
       "      <th>LoanAmount</th>\n",
       "      <th>Loan_Amount_Term</th>\n",
       "      <th>Credit_History</th>\n",
       "      <th>Property_Area</th>\n",
       "      <th>Loan_Status</th>\n",
       "    </tr>\n",
       "  </thead>\n",
       "  <tbody>\n",
       "    <tr>\n",
       "      <th>0</th>\n",
       "      <td>LP001002</td>\n",
       "      <td>1</td>\n",
       "      <td>0</td>\n",
       "      <td>0</td>\n",
       "      <td>0</td>\n",
       "      <td>0</td>\n",
       "      <td>5849</td>\n",
       "      <td>0.0</td>\n",
       "      <td>128.0</td>\n",
       "      <td>360.0</td>\n",
       "      <td>1.0</td>\n",
       "      <td>2</td>\n",
       "      <td>1</td>\n",
       "    </tr>\n",
       "    <tr>\n",
       "      <th>1</th>\n",
       "      <td>LP001003</td>\n",
       "      <td>1</td>\n",
       "      <td>1</td>\n",
       "      <td>1</td>\n",
       "      <td>0</td>\n",
       "      <td>0</td>\n",
       "      <td>4583</td>\n",
       "      <td>1508.0</td>\n",
       "      <td>128.0</td>\n",
       "      <td>360.0</td>\n",
       "      <td>1.0</td>\n",
       "      <td>0</td>\n",
       "      <td>0</td>\n",
       "    </tr>\n",
       "    <tr>\n",
       "      <th>2</th>\n",
       "      <td>LP001005</td>\n",
       "      <td>1</td>\n",
       "      <td>1</td>\n",
       "      <td>0</td>\n",
       "      <td>0</td>\n",
       "      <td>1</td>\n",
       "      <td>3000</td>\n",
       "      <td>0.0</td>\n",
       "      <td>66.0</td>\n",
       "      <td>360.0</td>\n",
       "      <td>1.0</td>\n",
       "      <td>2</td>\n",
       "      <td>1</td>\n",
       "    </tr>\n",
       "    <tr>\n",
       "      <th>3</th>\n",
       "      <td>LP001006</td>\n",
       "      <td>1</td>\n",
       "      <td>1</td>\n",
       "      <td>0</td>\n",
       "      <td>1</td>\n",
       "      <td>0</td>\n",
       "      <td>2583</td>\n",
       "      <td>2358.0</td>\n",
       "      <td>120.0</td>\n",
       "      <td>360.0</td>\n",
       "      <td>1.0</td>\n",
       "      <td>2</td>\n",
       "      <td>1</td>\n",
       "    </tr>\n",
       "    <tr>\n",
       "      <th>4</th>\n",
       "      <td>LP001008</td>\n",
       "      <td>1</td>\n",
       "      <td>0</td>\n",
       "      <td>0</td>\n",
       "      <td>0</td>\n",
       "      <td>0</td>\n",
       "      <td>6000</td>\n",
       "      <td>0.0</td>\n",
       "      <td>141.0</td>\n",
       "      <td>360.0</td>\n",
       "      <td>1.0</td>\n",
       "      <td>2</td>\n",
       "      <td>1</td>\n",
       "    </tr>\n",
       "  </tbody>\n",
       "</table>\n",
       "</div>"
      ],
      "text/plain": [
       "    Loan_ID  Gender  Married Dependents  Education  Self_Employed  \\\n",
       "0  LP001002       1        0          0          0              0   \n",
       "1  LP001003       1        1          1          0              0   \n",
       "2  LP001005       1        1          0          0              1   \n",
       "3  LP001006       1        1          0          1              0   \n",
       "4  LP001008       1        0          0          0              0   \n",
       "\n",
       "   ApplicantIncome  CoapplicantIncome  LoanAmount  Loan_Amount_Term  \\\n",
       "0             5849                0.0       128.0             360.0   \n",
       "1             4583             1508.0       128.0             360.0   \n",
       "2             3000                0.0        66.0             360.0   \n",
       "3             2583             2358.0       120.0             360.0   \n",
       "4             6000                0.0       141.0             360.0   \n",
       "\n",
       "   Credit_History  Property_Area  Loan_Status  \n",
       "0             1.0              2            1  \n",
       "1             1.0              0            0  \n",
       "2             1.0              2            1  \n",
       "3             1.0              2            1  \n",
       "4             1.0              2            1  "
      ]
     },
     "execution_count": 288,
     "metadata": {},
     "output_type": "execute_result"
    }
   ],
   "source": [
    "df.head()"
   ]
  },
  {
   "cell_type": "code",
   "execution_count": 289,
   "metadata": {},
   "outputs": [
    {
     "data": {
      "text/plain": [
       "LP002983    1\n",
       "LP002959    1\n",
       "LP001743    1\n",
       "LP002606    1\n",
       "LP001404    1\n",
       "LP001473    1\n",
       "LP002788    1\n",
       "LP002626    1\n",
       "LP002116    1\n",
       "LP002948    1\n",
       "LP001657    1\n",
       "LP002137    1\n",
       "LP001776    1\n",
       "LP001883    1\n",
       "LP002067    1\n",
       "LP002892    1\n",
       "LP001715    1\n",
       "LP002784    1\n",
       "LP002106    1\n",
       "LP002300    1\n",
       "LP002898    1\n",
       "LP001488    1\n",
       "LP002624    1\n",
       "LP002178    1\n",
       "LP001726    1\n",
       "LP001964    1\n",
       "LP002112    1\n",
       "LP001003    1\n",
       "LP002101    1\n",
       "LP002794    1\n",
       "LP002035    1\n",
       "LP002422    1\n",
       "LP001594    1\n",
       "LP002297    1\n",
       "LP001579    1\n",
       "LP001716    1\n",
       "LP001841    1\n",
       "LP002625    1\n",
       "LP001945    1\n",
       "LP001316    1\n",
       "LP002190    1\n",
       "LP001225    1\n",
       "LP001508    1\n",
       "LP001528    1\n",
       "LP001870    1\n",
       "LP001938    1\n",
       "LP001401    1\n",
       "LP002408    1\n",
       "LP002739    1\n",
       "LP002478    1\n",
       "LP002524    1\n",
       "LP001155    1\n",
       "LP001720    1\n",
       "LP001024    1\n",
       "LP001922    1\n",
       "LP002732    1\n",
       "LP002767    1\n",
       "LP002640    1\n",
       "LP002582    1\n",
       "LP002449    1\n",
       "LP002234    1\n",
       "LP002140    1\n",
       "LP002729    1\n",
       "LP001734    1\n",
       "LP001888    1\n",
       "LP001993    1\n",
       "LP002689    1\n",
       "LP001682    1\n",
       "LP002370    1\n",
       "LP001640    1\n",
       "LP001688    1\n",
       "LP001581    1\n",
       "LP001465    1\n",
       "LP001439    1\n",
       "LP001265    1\n",
       "LP002024    1\n",
       "LP001806    1\n",
       "LP002149    1\n",
       "LP001671    1\n",
       "LP001972    1\n",
       "LP002151    1\n",
       "LP002237    1\n",
       "LP001392    1\n",
       "LP002534    1\n",
       "LP001504    1\n",
       "LP001087    1\n",
       "LP001577    1\n",
       "LP002390    1\n",
       "LP001391    1\n",
       "LP002250    1\n",
       "LP002874    1\n",
       "LP001255    1\n",
       "LP001243    1\n",
       "LP001677    1\n",
       "LP001585    1\n",
       "LP002659    1\n",
       "LP002832    1\n",
       "LP002082    1\n",
       "LP002585    1\n",
       "LP002265    1\n",
       "LP002926    1\n",
       "LP001732    1\n",
       "LP001825    1\n",
       "LP002239    1\n",
       "LP001097    1\n",
       "LP001792    1\n",
       "LP001784    1\n",
       "LP001136    1\n",
       "LP001894    1\n",
       "LP001669    1\n",
       "LP002377    1\n",
       "LP002288    1\n",
       "LP001926    1\n",
       "LP002798    1\n",
       "LP002407    1\n",
       "LP002143    1\n",
       "LP002467    1\n",
       "LP001917    1\n",
       "LP002517    1\n",
       "LP002305    1\n",
       "LP002792    1\n",
       "LP002741    1\n",
       "LP002586    1\n",
       "LP001552    1\n",
       "LP001322    1\n",
       "LP001736    1\n",
       "LP002776    1\n",
       "LP002941    1\n",
       "LP002115    1\n",
       "LP002984    1\n",
       "LP002053    1\n",
       "LP002789    1\n",
       "LP001953    1\n",
       "LP001637    1\n",
       "LP002537    1\n",
       "LP001020    1\n",
       "LP001318    1\n",
       "LP001005    1\n",
       "LP001892    1\n",
       "LP002341    1\n",
       "LP002266    1\n",
       "LP001047    1\n",
       "LP002813    1\n",
       "LP002281    1\n",
       "LP002243    1\n",
       "LP001836    1\n",
       "LP002031    1\n",
       "LP001164    1\n",
       "LP001998    1\n",
       "LP002424    1\n",
       "LP001947    1\n",
       "LP001256    1\n",
       "LP001011    1\n",
       "LP001151    1\n",
       "LP001760    1\n",
       "LP002328    1\n",
       "LP002619    1\n",
       "LP002434    1\n",
       "LP002841    1\n",
       "LP001518    1\n",
       "LP001186    1\n",
       "LP002110    1\n",
       "LP002560    1\n",
       "LP001006    1\n",
       "LP002945    1\n",
       "LP001194    1\n",
       "LP002126    1\n",
       "LP001482    1\n",
       "LP001844    1\n",
       "LP001493    1\n",
       "LP001560    1\n",
       "LP002175    1\n",
       "LP002940    1\n",
       "LP002836    1\n",
       "LP002158    1\n",
       "LP002319    1\n",
       "LP002272    1\n",
       "LP001238    1\n",
       "LP001073    1\n",
       "LP001541    1\n",
       "LP001955    1\n",
       "LP002978    1\n",
       "LP001859    1\n",
       "LP002545    1\n",
       "LP002443    1\n",
       "LP002637    1\n",
       "LP001325    1\n",
       "LP002180    1\n",
       "LP002347    1\n",
       "LP002501    1\n",
       "LP002738    1\n",
       "LP001179    1\n",
       "LP002142    1\n",
       "LP001854    1\n",
       "LP002224    1\n",
       "LP002974    1\n",
       "LP002231    1\n",
       "LP001565    1\n",
       "LP001449    1\n",
       "LP002500    1\n",
       "LP001002    1\n",
       "LP002051    1\n",
       "LP002446    1\n",
       "LP001935    1\n",
       "LP001275    1\n",
       "LP002925    1\n",
       "LP001123    1\n",
       "LP002262    1\n",
       "LP001749    1\n",
       "LP002706    1\n",
       "LP002778    1\n",
       "LP001041    1\n",
       "LP001487    1\n",
       "LP002533    1\n",
       "LP001691    1\n",
       "LP002314    1\n",
       "LP002755    1\n",
       "LP001273    1\n",
       "LP001213    1\n",
       "LP001616    1\n",
       "LP002652    1\n",
       "LP001603    1\n",
       "LP001647    1\n",
       "LP002113    1\n",
       "LP002197    1\n",
       "LP001562    1\n",
       "LP001882    1\n",
       "LP002002    1\n",
       "LP001519    1\n",
       "LP001520    1\n",
       "LP002368    1\n",
       "LP001574    1\n",
       "LP002318    1\n",
       "LP001032    1\n",
       "LP001813    1\n",
       "LP002131    1\n",
       "LP002777    1\n",
       "LP001807    1\n",
       "LP001195    1\n",
       "LP002103    1\n",
       "LP001666    1\n",
       "LP001653    1\n",
       "LP002643    1\n",
       "LP001531    1\n",
       "LP002403    1\n",
       "LP002201    1\n",
       "LP002855    1\n",
       "LP001936    1\n",
       "LP002244    1\n",
       "LP002448    1\n",
       "LP001095    1\n",
       "LP001116    1\n",
       "LP001570    1\n",
       "LP002670    1\n",
       "LP001030    1\n",
       "LP001698    1\n",
       "LP001326    1\n",
       "LP002055    1\n",
       "LP002484    1\n",
       "LP002936    1\n",
       "LP002877    1\n",
       "LP002530    1\n",
       "LP002387    1\n",
       "LP002447    1\n",
       "LP002603    1\n",
       "LP002893    1\n",
       "LP002615    1\n",
       "LP002562    1\n",
       "LP001814    1\n",
       "LP001398    1\n",
       "LP002317    1\n",
       "LP001205    1\n",
       "LP001068    1\n",
       "LP001489    1\n",
       "LP002690    1\n",
       "LP001046    1\n",
       "LP001350    1\n",
       "LP001949    1\n",
       "LP001915    1\n",
       "LP002004    1\n",
       "LP001535    1\n",
       "LP001198    1\n",
       "LP002979    1\n",
       "LP002409    1\n",
       "LP001369    1\n",
       "LP002757    1\n",
       "LP001849    1\n",
       "LP002065    1\n",
       "LP001900    1\n",
       "LP002160    1\n",
       "LP002863    1\n",
       "LP002768    1\n",
       "LP001310    1\n",
       "LP002361    1\n",
       "LP001875    1\n",
       "LP001963    1\n",
       "LP002068    1\n",
       "LP001586    1\n",
       "LP001264    1\n",
       "LP002401    1\n",
       "LP002717    1\n",
       "LP002723    1\n",
       "LP001639    1\n",
       "LP002181    1\n",
       "LP002138    1\n",
       "LP001722    1\n",
       "LP001266    1\n",
       "LP001713    1\n",
       "LP002916    1\n",
       "LP002536    1\n",
       "LP001343    1\n",
       "LP002223    1\n",
       "LP002602    1\n",
       "LP001066    1\n",
       "LP001431    1\n",
       "LP001868    1\n",
       "LP002743    1\n",
       "LP002527    1\n",
       "LP002894    1\n",
       "LP002191    1\n",
       "LP001996    1\n",
       "LP002367    1\n",
       "LP001891    1\n",
       "LP001014    1\n",
       "LP001924    1\n",
       "LP001744    1\n",
       "LP002943    1\n",
       "LP001478    1\n",
       "LP002862    1\n",
       "LP001384    1\n",
       "LP001109    1\n",
       "LP002345    1\n",
       "LP001994    1\n",
       "LP002519    1\n",
       "LP002211    1\n",
       "LP002600    1\n",
       "LP001327    1\n",
       "LP002170    1\n",
       "LP001543    1\n",
       "LP002821    1\n",
       "LP001674    1\n",
       "LP001448    1\n",
       "LP001334    1\n",
       "LP002547    1\n",
       "LP002571    1\n",
       "LP002705    1\n",
       "LP001641    1\n",
       "LP002225    1\n",
       "LP001405    1\n",
       "LP002622    1\n",
       "LP002795    1\n",
       "LP001138    1\n",
       "LP002144    1\n",
       "LP002398    1\n",
       "LP001788    1\n",
       "LP001120    1\n",
       "LP002161    1\n",
       "LP002139    1\n",
       "LP001319    1\n",
       "LP002938    1\n",
       "LP001644    1\n",
       "LP002493    1\n",
       "LP002332    1\n",
       "LP002129    1\n",
       "LP001280    1\n",
       "LP002961    1\n",
       "LP002301    1\n",
       "LP001018    1\n",
       "LP002364    1\n",
       "LP001112    1\n",
       "LP002634    1\n",
       "LP001422    1\n",
       "LP002494    1\n",
       "LP001910    1\n",
       "LP001385    1\n",
       "LP002683    1\n",
       "LP001884    1\n",
       "LP002219    1\n",
       "LP002229    1\n",
       "LP002684    1\n",
       "LP001761    1\n",
       "LP001940    1\n",
       "LP001656    1\n",
       "LP002840    1\n",
       "LP002847    1\n",
       "LP002682    1\n",
       "LP002008    1\n",
       "LP001692    1\n",
       "LP001673    1\n",
       "LP001708    1\n",
       "LP002556    1\n",
       "LP001027    1\n",
       "LP001241    1\n",
       "LP002429    1\n",
       "LP001786    1\n",
       "LP001846    1\n",
       "LP002541    1\n",
       "LP001835    1\n",
       "LP002693    1\n",
       "LP002444    1\n",
       "LP002804    1\n",
       "LP001865    1\n",
       "LP001925    1\n",
       "LP001199    1\n",
       "LP002357    1\n",
       "LP002369    1\n",
       "LP001693    1\n",
       "LP001146    1\n",
       "LP002119    1\n",
       "LP002911    1\n",
       "LP002716    1\n",
       "LP001267    1\n",
       "LP001974    1\n",
       "LP001978    1\n",
       "LP002917    1\n",
       "LP001421    1\n",
       "LP002949    1\n",
       "LP001250    1\n",
       "LP002335    1\n",
       "LP002734    1\n",
       "LP001114    1\n",
       "LP002236    1\n",
       "LP002188    1\n",
       "LP002731    1\n",
       "LP002699    1\n",
       "LP002692    1\n",
       "LP002888    1\n",
       "LP001754    1\n",
       "LP001013    1\n",
       "LP002418    1\n",
       "LP002933    1\n",
       "LP001608    1\n",
       "LP002205    1\n",
       "LP001954    1\n",
       "LP001658    1\n",
       "LP001469    1\n",
       "LP002141    1\n",
       "LP002953    1\n",
       "LP002277    1\n",
       "LP001443    1\n",
       "LP001100    1\n",
       "LP001507    1\n",
       "LP002287    1\n",
       "LP001572    1\n",
       "LP001908    1\n",
       "LP002990    1\n",
       "LP001811    1\n",
       "LP002618    1\n",
       "LP001819    1\n",
       "LP002958    1\n",
       "LP002362    1\n",
       "LP001578    1\n",
       "LP002714    1\n",
       "LP001665    1\n",
       "LP002473    1\n",
       "LP001367    1\n",
       "LP001370    1\n",
       "LP001052    1\n",
       "LP001333    1\n",
       "LP001768    1\n",
       "LP001379    1\n",
       "LP001633    1\n",
       "LP001798    1\n",
       "LP002006    1\n",
       "LP001778    1\n",
       "LP002697    1\n",
       "LP001086    1\n",
       "LP002114    1\n",
       "LP001430    1\n",
       "LP001532    1\n",
       "LP002054    1\n",
       "LP002807    1\n",
       "LP001426    1\n",
       "LP001497    1\n",
       "LP002379    1\n",
       "LP001357    1\n",
       "LP002337    1\n",
       "LP002648    1\n",
       "LP002522    1\n",
       "LP001903    1\n",
       "LP001643    1\n",
       "LP001606    1\n",
       "LP001036    1\n",
       "LP001144    1\n",
       "LP001137    1\n",
       "LP001259    1\n",
       "LP002284    1\n",
       "LP001228    1\n",
       "LP002720    1\n",
       "LP001157    1\n",
       "LP001664    1\n",
       "LP001098    1\n",
       "LP002753    1\n",
       "LP001907    1\n",
       "LP001750    1\n",
       "LP001233    1\n",
       "LP001580    1\n",
       "LP001034    1\n",
       "LP002587    1\n",
       "LP001356    1\n",
       "LP002296    1\n",
       "LP002308    1\n",
       "LP002366    1\n",
       "LP001990    1\n",
       "LP002833    1\n",
       "LP001872    1\n",
       "LP002453    1\n",
       "LP001914    1\n",
       "LP001008    1\n",
       "LP002086    1\n",
       "LP001253    1\n",
       "LP001877    1\n",
       "LP002505    1\n",
       "LP002194    1\n",
       "LP001824    1\n",
       "LP001610    1\n",
       "LP001843    1\n",
       "LP002209    1\n",
       "LP001630    1\n",
       "LP001119    1\n",
       "LP002487    1\n",
       "LP002459    1\n",
       "LP001758    1\n",
       "LP002226    1\n",
       "LP001491    1\n",
       "LP002502    1\n",
       "LP002386    1\n",
       "LP002087    1\n",
       "LP001800    1\n",
       "LP001498    1\n",
       "LP001207    1\n",
       "LP001206    1\n",
       "LP002543    1\n",
       "LP002515    1\n",
       "LP002036    1\n",
       "LP002531    1\n",
       "LP002315    1\n",
       "LP001263    1\n",
       "LP001514    1\n",
       "LP002529    1\n",
       "LP002588    1\n",
       "LP001751    1\n",
       "LP001432    1\n",
       "LP001516    1\n",
       "LP001345    1\n",
       "LP002100    1\n",
       "LP002912    1\n",
       "LP001536    1\n",
       "LP002472    1\n",
       "LP002342    1\n",
       "LP001029    1\n",
       "LP002098    1\n",
       "LP001904    1\n",
       "LP001282    1\n",
       "LP002043    1\n",
       "LP002130    1\n",
       "LP001699    1\n",
       "LP001977    1\n",
       "LP002950    1\n",
       "LP001871    1\n",
       "LP001043    1\n",
       "LP001248    1\n",
       "LP002393    1\n",
       "LP002187    1\n",
       "LP001864    1\n",
       "LP001770    1\n",
       "LP002837    1\n",
       "LP002740    1\n",
       "LP002435    1\n",
       "LP002842    1\n",
       "LP002872    1\n",
       "LP001634    1\n",
       "LP001711    1\n",
       "LP001131    1\n",
       "LP002489    1\n",
       "LP001931    1\n",
       "LP002050    1\n",
       "LP002555    1\n",
       "LP002964    1\n",
       "LP002931    1\n",
       "LP001279    1\n",
       "LP001546    1\n",
       "LP001529    1\n",
       "LP002263    1\n",
       "LP001790    1\n",
       "LP002820    1\n",
       "LP001896    1\n",
       "LP001245    1\n",
       "LP002928    1\n",
       "LP001028    1\n",
       "LP002255    1\n",
       "LP002348    1\n",
       "LP002772    1\n",
       "LP001636    1\n",
       "LP002785    1\n",
       "LP001765    1\n",
       "LP002455    1\n",
       "LP001387    1\n",
       "LP001050    1\n",
       "LP001038    1\n",
       "LP002544    1\n",
       "LP001451    1\n",
       "LP002097    1\n",
       "LP001091    1\n",
       "LP002868    1\n",
       "LP002128    1\n",
       "LP002960    1\n",
       "LP001197    1\n",
       "LP001349    1\n",
       "LP001222    1\n",
       "LP001702    1\n",
       "LP001289    1\n",
       "LP001492    1\n",
       "LP001106    1\n",
       "Name: Loan_ID, dtype: int64"
      ]
     },
     "execution_count": 289,
     "metadata": {},
     "output_type": "execute_result"
    }
   ],
   "source": [
    "df['Loan_ID'].value_counts()"
   ]
  },
  {
   "cell_type": "code",
   "execution_count": 290,
   "metadata": {},
   "outputs": [],
   "source": [
    "#Dropping the feature Loan_ID as checked with the feature also but there is no effect on accuracy and the columns is also incressed to 628. \n",
    "df=df.drop(columns=['Loan_ID'],axis=1)"
   ]
  },
  {
   "cell_type": "code",
   "execution_count": 291,
   "metadata": {},
   "outputs": [],
   "source": [
    "#using get dummies method to perform the encoding.\n",
    "df=pd.get_dummies(df,columns=['Property_Area'])"
   ]
  },
  {
   "cell_type": "code",
   "execution_count": 292,
   "metadata": {},
   "outputs": [
    {
     "data": {
      "text/html": [
       "<div>\n",
       "<style scoped>\n",
       "    .dataframe tbody tr th:only-of-type {\n",
       "        vertical-align: middle;\n",
       "    }\n",
       "\n",
       "    .dataframe tbody tr th {\n",
       "        vertical-align: top;\n",
       "    }\n",
       "\n",
       "    .dataframe thead th {\n",
       "        text-align: right;\n",
       "    }\n",
       "</style>\n",
       "<table border=\"1\" class=\"dataframe\">\n",
       "  <thead>\n",
       "    <tr style=\"text-align: right;\">\n",
       "      <th></th>\n",
       "      <th>Gender</th>\n",
       "      <th>Married</th>\n",
       "      <th>Dependents</th>\n",
       "      <th>Education</th>\n",
       "      <th>Self_Employed</th>\n",
       "      <th>ApplicantIncome</th>\n",
       "      <th>CoapplicantIncome</th>\n",
       "      <th>LoanAmount</th>\n",
       "      <th>Loan_Amount_Term</th>\n",
       "      <th>Credit_History</th>\n",
       "      <th>Loan_Status</th>\n",
       "      <th>Property_Area_0</th>\n",
       "      <th>Property_Area_1</th>\n",
       "      <th>Property_Area_2</th>\n",
       "    </tr>\n",
       "  </thead>\n",
       "  <tbody>\n",
       "    <tr>\n",
       "      <th>0</th>\n",
       "      <td>1</td>\n",
       "      <td>0</td>\n",
       "      <td>0</td>\n",
       "      <td>0</td>\n",
       "      <td>0</td>\n",
       "      <td>5849</td>\n",
       "      <td>0.0</td>\n",
       "      <td>128.0</td>\n",
       "      <td>360.0</td>\n",
       "      <td>1.0</td>\n",
       "      <td>1</td>\n",
       "      <td>0</td>\n",
       "      <td>0</td>\n",
       "      <td>1</td>\n",
       "    </tr>\n",
       "    <tr>\n",
       "      <th>1</th>\n",
       "      <td>1</td>\n",
       "      <td>1</td>\n",
       "      <td>1</td>\n",
       "      <td>0</td>\n",
       "      <td>0</td>\n",
       "      <td>4583</td>\n",
       "      <td>1508.0</td>\n",
       "      <td>128.0</td>\n",
       "      <td>360.0</td>\n",
       "      <td>1.0</td>\n",
       "      <td>0</td>\n",
       "      <td>1</td>\n",
       "      <td>0</td>\n",
       "      <td>0</td>\n",
       "    </tr>\n",
       "    <tr>\n",
       "      <th>2</th>\n",
       "      <td>1</td>\n",
       "      <td>1</td>\n",
       "      <td>0</td>\n",
       "      <td>0</td>\n",
       "      <td>1</td>\n",
       "      <td>3000</td>\n",
       "      <td>0.0</td>\n",
       "      <td>66.0</td>\n",
       "      <td>360.0</td>\n",
       "      <td>1.0</td>\n",
       "      <td>1</td>\n",
       "      <td>0</td>\n",
       "      <td>0</td>\n",
       "      <td>1</td>\n",
       "    </tr>\n",
       "    <tr>\n",
       "      <th>3</th>\n",
       "      <td>1</td>\n",
       "      <td>1</td>\n",
       "      <td>0</td>\n",
       "      <td>1</td>\n",
       "      <td>0</td>\n",
       "      <td>2583</td>\n",
       "      <td>2358.0</td>\n",
       "      <td>120.0</td>\n",
       "      <td>360.0</td>\n",
       "      <td>1.0</td>\n",
       "      <td>1</td>\n",
       "      <td>0</td>\n",
       "      <td>0</td>\n",
       "      <td>1</td>\n",
       "    </tr>\n",
       "    <tr>\n",
       "      <th>4</th>\n",
       "      <td>1</td>\n",
       "      <td>0</td>\n",
       "      <td>0</td>\n",
       "      <td>0</td>\n",
       "      <td>0</td>\n",
       "      <td>6000</td>\n",
       "      <td>0.0</td>\n",
       "      <td>141.0</td>\n",
       "      <td>360.0</td>\n",
       "      <td>1.0</td>\n",
       "      <td>1</td>\n",
       "      <td>0</td>\n",
       "      <td>0</td>\n",
       "      <td>1</td>\n",
       "    </tr>\n",
       "  </tbody>\n",
       "</table>\n",
       "</div>"
      ],
      "text/plain": [
       "   Gender  Married Dependents  Education  Self_Employed  ApplicantIncome  \\\n",
       "0       1        0          0          0              0             5849   \n",
       "1       1        1          1          0              0             4583   \n",
       "2       1        1          0          0              1             3000   \n",
       "3       1        1          0          1              0             2583   \n",
       "4       1        0          0          0              0             6000   \n",
       "\n",
       "   CoapplicantIncome  LoanAmount  Loan_Amount_Term  Credit_History  \\\n",
       "0                0.0       128.0             360.0             1.0   \n",
       "1             1508.0       128.0             360.0             1.0   \n",
       "2                0.0        66.0             360.0             1.0   \n",
       "3             2358.0       120.0             360.0             1.0   \n",
       "4                0.0       141.0             360.0             1.0   \n",
       "\n",
       "   Loan_Status  Property_Area_0  Property_Area_1  Property_Area_2  \n",
       "0            1                0                0                1  \n",
       "1            0                1                0                0  \n",
       "2            1                0                0                1  \n",
       "3            1                0                0                1  \n",
       "4            1                0                0                1  "
      ]
     },
     "execution_count": 292,
     "metadata": {},
     "output_type": "execute_result"
    }
   ],
   "source": [
    "df.head()"
   ]
  },
  {
   "cell_type": "code",
   "execution_count": 278,
   "metadata": {},
   "outputs": [
    {
     "data": {
      "text/plain": [
       "(577, 14)"
      ]
     },
     "execution_count": 278,
     "metadata": {},
     "output_type": "execute_result"
    }
   ],
   "source": [
    "#checking the new shape\n",
    "df.shape\n",
    "#the new shape is 614 rows and 14 columns"
   ]
  },
  {
   "cell_type": "code",
   "execution_count": 206,
   "metadata": {},
   "outputs": [
    {
     "data": {
      "image/png": "[encoded data removed]",
      "text/plain": [
       "<Figure size 1800x1440 with 5 Axes>"
      ]
     },
     "metadata": {},
     "output_type": "display_data"
    }
   ],
   "source": [
    "#checking the data distrubution using the distribution plot.\n",
    "plt.figure(figsize=(25,20),facecolor='white')\n",
    "pltnum=1\n",
    "\n",
    "for column in df.iloc[:,[5,6,7,8,9]]:\n",
    "    if pltnum <= 12:\n",
    "        plt.subplot(4,3,pltnum)\n",
    "        sns.distplot(df[column])\n",
    "        plt.xlabel(column,fontsize=12)\n",
    "        \n",
    "    pltnum +=1\n",
    "plt.show()    "
   ]
  },
  {
   "cell_type": "code",
   "execution_count": 293,
   "metadata": {},
   "outputs": [
    {
     "data": {
      "image/png": "[encoded data removed]",
      "text/plain": [
       "<Figure size 1800x1440 with 5 Axes>"
      ]
     },
     "metadata": {},
     "output_type": "display_data"
    }
   ],
   "source": [
    "#checking the data distrubution using the Strip plot.\n",
    "plt.figure(figsize=(25,20),facecolor='white')\n",
    "pltnum=1\n",
    "\n",
    "for column in df.iloc[:,[5,6,7,8,9]]:\n",
    "    if pltnum <= 12:\n",
    "        plt.subplot(4,3,pltnum)\n",
    "        sns.stripplot(df[column])\n",
    "        plt.xlabel(column,fontsize=12)\n",
    "        \n",
    "    pltnum +=1\n",
    "plt.show()    "
   ]
  },
  {
   "cell_type": "code",
   "execution_count": 22,
   "metadata": {},
   "outputs": [],
   "source": [
    "#there is outliers present in all the features.\n",
    "#using the box plot to check the outliers."
   ]
  },
  {
   "cell_type": "code",
   "execution_count": 207,
   "metadata": {},
   "outputs": [
    {
     "data": {
      "image/png": "[encoded data removed]",
      "text/plain": [
       "<Figure size 1800x1440 with 5 Axes>"
      ]
     },
     "metadata": {},
     "output_type": "display_data"
    }
   ],
   "source": [
    "#using box plot to check the outliers in the feature.\n",
    "plt.figure(figsize=(25,20),facecolor='white')\n",
    "pltnum=1\n",
    "\n",
    "for column in df.iloc[:,[5,6,7,8,9]]:\n",
    "    if pltnum <= 12:\n",
    "        plt.subplot(4,3,pltnum)\n",
    "        sns.boxplot(df[column])\n",
    "        plt.xlabel(column,fontsize=12)\n",
    "        \n",
    "    pltnum +=1\n",
    "plt.show()    "
   ]
  },
  {
   "cell_type": "code",
   "execution_count": null,
   "metadata": {},
   "outputs": [],
   "source": [
    "#There is outliers present in all the features."
   ]
  },
  {
   "cell_type": "code",
   "execution_count": 295,
   "metadata": {},
   "outputs": [],
   "source": [
    "#using the z-score to check the outliers.\n",
    "z=np.abs(stats.zscore(df.iloc[:,[5,6,7,8,9]]))\n",
    "index=np.where(z>3)[0]"
   ]
  },
  {
   "cell_type": "code",
   "execution_count": 296,
   "metadata": {},
   "outputs": [
    {
     "data": {
      "text/plain": [
       "41"
      ]
     },
     "execution_count": 296,
     "metadata": {},
     "output_type": "execute_result"
    }
   ],
   "source": [
    "len(index)"
   ]
  },
  {
   "cell_type": "code",
   "execution_count": 297,
   "metadata": {},
   "outputs": [],
   "source": [
    "#dropping the outlier index\n",
    "df=df.drop(df.index[index])"
   ]
  },
  {
   "cell_type": "code",
   "execution_count": 298,
   "metadata": {},
   "outputs": [
    {
     "data": {
      "text/plain": [
       "(577, 14)"
      ]
     },
     "execution_count": 298,
     "metadata": {},
     "output_type": "execute_result"
    }
   ],
   "source": [
    "#checking the new shape\n",
    "df.shape"
   ]
  },
  {
   "cell_type": "code",
   "execution_count": 299,
   "metadata": {},
   "outputs": [
    {
     "name": "stdout",
     "output_type": "stream",
     "text": [
      "6.026058631921824\n"
     ]
    }
   ],
   "source": [
    "#Data Loss\n",
    "loss_percentage=(614-577)/614*100\n",
    "print(loss_percentage)"
   ]
  },
  {
   "cell_type": "code",
   "execution_count": null,
   "metadata": {},
   "outputs": [],
   "source": [
    "#the data loss is only 6.02 so it is ok as data loss in less then 7%"
   ]
  },
  {
   "cell_type": "code",
   "execution_count": 161,
   "metadata": {},
   "outputs": [],
   "source": [
    "#q1=df.iloc[:,[5,6,7,8,9]].quantile(0.25)\n",
    "#q3=df.iloc[:,[5,6,7,8,9]].quantile(0.75)\n",
    "#iqr=q3-q1"
   ]
  },
  {
   "cell_type": "code",
   "execution_count": 162,
   "metadata": {},
   "outputs": [],
   "source": [
    "#for column in df.iloc[:,[5,6,7]]:\n",
    "#    index1=np.where(df[column] > (q3[column] + (1.5 * iqr[column])))\n",
    "    \n",
    "#for column in df.iloc[:,[8,9]]:\n",
    "#    index1=np.where(df[column] < (q3[column] - (1.5 * iqr[column])))    "
   ]
  },
  {
   "cell_type": "code",
   "execution_count": 294,
   "metadata": {},
   "outputs": [],
   "source": [
    "#index1"
   ]
  },
  {
   "cell_type": "code",
   "execution_count": 164,
   "metadata": {},
   "outputs": [],
   "source": [
    "#dropping the outlier index\n",
    "#df=df.drop(df.index[index1])"
   ]
  },
  {
   "cell_type": "code",
   "execution_count": 300,
   "metadata": {},
   "outputs": [],
   "source": [
    "#checking the new shape\n",
    "#df.shape"
   ]
  },
  {
   "cell_type": "code",
   "execution_count": 301,
   "metadata": {},
   "outputs": [],
   "source": [
    "#Data Loss\n",
    "#loss_percentage=(614-525)/614*100\n",
    "#print(loss_percentage)"
   ]
  },
  {
   "cell_type": "code",
   "execution_count": 302,
   "metadata": {},
   "outputs": [
    {
     "data": {
      "image/png": "[encoded data removed]",
      "text/plain": [
       "<Figure size 1800x1440 with 5 Axes>"
      ]
     },
     "metadata": {},
     "output_type": "display_data"
    }
   ],
   "source": [
    "#using box plot to check the outliers in the feature.\n",
    "plt.figure(figsize=(25,20),facecolor='white')\n",
    "pltnum=1\n",
    "\n",
    "for column in df.iloc[:,[5,6,7,8,9]]:\n",
    "    if pltnum <= 12:\n",
    "        plt.subplot(4,3,pltnum)\n",
    "        sns.boxplot(df[column])\n",
    "        plt.xlabel(column,fontsize=12)\n",
    "        \n",
    "    pltnum +=1\n",
    "plt.show()    "
   ]
  },
  {
   "cell_type": "code",
   "execution_count": 303,
   "metadata": {},
   "outputs": [
    {
     "data": {
      "text/plain": [
       "Loan_Status          1.000000\n",
       "Credit_History       0.560936\n",
       "CoapplicantIncome    0.045009\n",
       "ApplicantIncome     -0.005003\n",
       "Loan_Amount_Term    -0.020291\n",
       "LoanAmount          -0.030169\n",
       "Name: Loan_Status, dtype: float64"
      ]
     },
     "execution_count": 303,
     "metadata": {},
     "output_type": "execute_result"
    }
   ],
   "source": [
    "#checking the skewness and correlation between the featues and labels\n",
    "df_corr=df.iloc[:,[5,6,7,8,9,10]].corr()\n",
    "df_corr['Loan_Status'].sort_values(ascending=False)"
   ]
  },
  {
   "cell_type": "code",
   "execution_count": null,
   "metadata": {},
   "outputs": [],
   "source": [
    "#the is skweness available in the featues Credit_History.so using the power transformation to remove the skweness from the features."
   ]
  },
  {
   "cell_type": "code",
   "execution_count": 304,
   "metadata": {},
   "outputs": [],
   "source": [
    "#saving the Credit_History features\n",
    "df_val=['Credit_History']\n",
    "feature=df[df_val]"
   ]
  },
  {
   "cell_type": "code",
   "execution_count": 305,
   "metadata": {},
   "outputs": [],
   "source": [
    "#performing the powertransformation to remove skweness from the column\n",
    "from sklearn.preprocessing import PowerTransformer\n",
    "scaler = PowerTransformer(method = 'yeo-johnson')"
   ]
  },
  {
   "cell_type": "code",
   "execution_count": 306,
   "metadata": {},
   "outputs": [
    {
     "data": {
      "text/html": [
       "<div>\n",
       "<style scoped>\n",
       "    .dataframe tbody tr th:only-of-type {\n",
       "        vertical-align: middle;\n",
       "    }\n",
       "\n",
       "    .dataframe tbody tr th {\n",
       "        vertical-align: top;\n",
       "    }\n",
       "\n",
       "    .dataframe thead th {\n",
       "        text-align: right;\n",
       "    }\n",
       "</style>\n",
       "<table border=\"1\" class=\"dataframe\">\n",
       "  <thead>\n",
       "    <tr style=\"text-align: right;\">\n",
       "      <th></th>\n",
       "      <th>Gender</th>\n",
       "      <th>Married</th>\n",
       "      <th>Dependents</th>\n",
       "      <th>Education</th>\n",
       "      <th>Self_Employed</th>\n",
       "      <th>ApplicantIncome</th>\n",
       "      <th>CoapplicantIncome</th>\n",
       "      <th>LoanAmount</th>\n",
       "      <th>Loan_Amount_Term</th>\n",
       "      <th>Credit_History</th>\n",
       "      <th>Loan_Status</th>\n",
       "      <th>Property_Area_0</th>\n",
       "      <th>Property_Area_1</th>\n",
       "      <th>Property_Area_2</th>\n",
       "    </tr>\n",
       "  </thead>\n",
       "  <tbody>\n",
       "    <tr>\n",
       "      <th>0</th>\n",
       "      <td>1</td>\n",
       "      <td>0</td>\n",
       "      <td>0</td>\n",
       "      <td>0</td>\n",
       "      <td>0</td>\n",
       "      <td>5849</td>\n",
       "      <td>0.0</td>\n",
       "      <td>128.0</td>\n",
       "      <td>360.0</td>\n",
       "      <td>0.418513</td>\n",
       "      <td>1</td>\n",
       "      <td>0</td>\n",
       "      <td>0</td>\n",
       "      <td>1</td>\n",
       "    </tr>\n",
       "    <tr>\n",
       "      <th>1</th>\n",
       "      <td>1</td>\n",
       "      <td>1</td>\n",
       "      <td>1</td>\n",
       "      <td>0</td>\n",
       "      <td>0</td>\n",
       "      <td>4583</td>\n",
       "      <td>1508.0</td>\n",
       "      <td>128.0</td>\n",
       "      <td>360.0</td>\n",
       "      <td>0.418513</td>\n",
       "      <td>0</td>\n",
       "      <td>1</td>\n",
       "      <td>0</td>\n",
       "      <td>0</td>\n",
       "    </tr>\n",
       "    <tr>\n",
       "      <th>2</th>\n",
       "      <td>1</td>\n",
       "      <td>1</td>\n",
       "      <td>0</td>\n",
       "      <td>0</td>\n",
       "      <td>1</td>\n",
       "      <td>3000</td>\n",
       "      <td>0.0</td>\n",
       "      <td>66.0</td>\n",
       "      <td>360.0</td>\n",
       "      <td>0.418513</td>\n",
       "      <td>1</td>\n",
       "      <td>0</td>\n",
       "      <td>0</td>\n",
       "      <td>1</td>\n",
       "    </tr>\n",
       "    <tr>\n",
       "      <th>3</th>\n",
       "      <td>1</td>\n",
       "      <td>1</td>\n",
       "      <td>0</td>\n",
       "      <td>1</td>\n",
       "      <td>0</td>\n",
       "      <td>2583</td>\n",
       "      <td>2358.0</td>\n",
       "      <td>120.0</td>\n",
       "      <td>360.0</td>\n",
       "      <td>0.418513</td>\n",
       "      <td>1</td>\n",
       "      <td>0</td>\n",
       "      <td>0</td>\n",
       "      <td>1</td>\n",
       "    </tr>\n",
       "    <tr>\n",
       "      <th>4</th>\n",
       "      <td>1</td>\n",
       "      <td>0</td>\n",
       "      <td>0</td>\n",
       "      <td>0</td>\n",
       "      <td>0</td>\n",
       "      <td>6000</td>\n",
       "      <td>0.0</td>\n",
       "      <td>141.0</td>\n",
       "      <td>360.0</td>\n",
       "      <td>0.418513</td>\n",
       "      <td>1</td>\n",
       "      <td>0</td>\n",
       "      <td>0</td>\n",
       "      <td>1</td>\n",
       "    </tr>\n",
       "  </tbody>\n",
       "</table>\n",
       "</div>"
      ],
      "text/plain": [
       "   Gender  Married Dependents  Education  Self_Employed  ApplicantIncome  \\\n",
       "0       1        0          0          0              0             5849   \n",
       "1       1        1          1          0              0             4583   \n",
       "2       1        1          0          0              1             3000   \n",
       "3       1        1          0          1              0             2583   \n",
       "4       1        0          0          0              0             6000   \n",
       "\n",
       "   CoapplicantIncome  LoanAmount  Loan_Amount_Term  Credit_History  \\\n",
       "0                0.0       128.0             360.0        0.418513   \n",
       "1             1508.0       128.0             360.0        0.418513   \n",
       "2                0.0        66.0             360.0        0.418513   \n",
       "3             2358.0       120.0             360.0        0.418513   \n",
       "4                0.0       141.0             360.0        0.418513   \n",
       "\n",
       "   Loan_Status  Property_Area_0  Property_Area_1  Property_Area_2  \n",
       "0            1                0                0                1  \n",
       "1            0                1                0                0  \n",
       "2            1                0                0                1  \n",
       "3            1                0                0                1  \n",
       "4            1                0                0                1  "
      ]
     },
     "execution_count": 306,
     "metadata": {},
     "output_type": "execute_result"
    }
   ],
   "source": [
    "#replacing the Credit_History value with the power transformed value\n",
    "df['Credit_History'] = scaler.fit_transform(feature.values)\n",
    "df.head()"
   ]
  },
  {
   "cell_type": "code",
   "execution_count": 307,
   "metadata": {},
   "outputs": [
    {
     "data": {
      "image/png": "[encoded data removed]",
      "text/plain": [
       "<Figure size 1584x1152 with 2 Axes>"
      ]
     },
     "metadata": {
      "needs_background": "light"
     },
     "output_type": "display_data"
    }
   ],
   "source": [
    "#using the heatmap to check the correlation between features.\n",
    "corr_matrix=df1.iloc[:,[5,6,7,8,9]].abs().corr()\n",
    "\n",
    "plt.figure(figsize=(22,16))\n",
    "\n",
    "sns.heatmap(corr_matrix,vmin=-1,vmax=1,center=True,annot=True, fmt='.2g',linewidths=0.1)\n",
    "plt.show()\n",
    "\n",
    "#as we can see in heatmap there is no correlation between the features and labels"
   ]
  },
  {
   "cell_type": "code",
   "execution_count": null,
   "metadata": {},
   "outputs": [],
   "source": [
    "#from the heatmap,there is no multicollinearity issue betwenn the features.\n",
    "#cross check the same with the VIF."
   ]
  },
  {
   "cell_type": "code",
   "execution_count": 308,
   "metadata": {},
   "outputs": [],
   "source": [
    "data_var=['ApplicantIncome','CoapplicantIncome','LoanAmount','Loan_Amount_Term','Credit_History']\n",
    "features=df[data_var]"
   ]
  },
  {
   "cell_type": "code",
   "execution_count": 309,
   "metadata": {},
   "outputs": [],
   "source": [
    "#using the standerd scalar for scaling the data\n",
    "scalar=StandardScaler()\n",
    "x_data=scalar.fit_transform(features.values)"
   ]
  },
  {
   "cell_type": "code",
   "execution_count": 310,
   "metadata": {},
   "outputs": [],
   "source": [
    "#assigning the  scaled data to features\n",
    "df[['ApplicantIncome','CoapplicantIncome','LoanAmount','Loan_Amount_Term','Credit_History']]=x_data"
   ]
  },
  {
   "cell_type": "code",
   "execution_count": 311,
   "metadata": {},
   "outputs": [
    {
     "data": {
      "text/html": [
       "<div>\n",
       "<style scoped>\n",
       "    .dataframe tbody tr th:only-of-type {\n",
       "        vertical-align: middle;\n",
       "    }\n",
       "\n",
       "    .dataframe tbody tr th {\n",
       "        vertical-align: top;\n",
       "    }\n",
       "\n",
       "    .dataframe thead th {\n",
       "        text-align: right;\n",
       "    }\n",
       "</style>\n",
       "<table border=\"1\" class=\"dataframe\">\n",
       "  <thead>\n",
       "    <tr style=\"text-align: right;\">\n",
       "      <th></th>\n",
       "      <th>Gender</th>\n",
       "      <th>Married</th>\n",
       "      <th>Dependents</th>\n",
       "      <th>Education</th>\n",
       "      <th>Self_Employed</th>\n",
       "      <th>ApplicantIncome</th>\n",
       "      <th>CoapplicantIncome</th>\n",
       "      <th>LoanAmount</th>\n",
       "      <th>Loan_Amount_Term</th>\n",
       "      <th>Credit_History</th>\n",
       "      <th>Loan_Status</th>\n",
       "      <th>Property_Area_0</th>\n",
       "      <th>Property_Area_1</th>\n",
       "      <th>Property_Area_2</th>\n",
       "    </tr>\n",
       "  </thead>\n",
       "  <tbody>\n",
       "    <tr>\n",
       "      <th>0</th>\n",
       "      <td>1</td>\n",
       "      <td>0</td>\n",
       "      <td>0</td>\n",
       "      <td>0</td>\n",
       "      <td>0</td>\n",
       "      <td>0.399266</td>\n",
       "      <td>-0.861036</td>\n",
       "      <td>-0.130895</td>\n",
       "      <td>0.230853</td>\n",
       "      <td>0.418513</td>\n",
       "      <td>1</td>\n",
       "      <td>0</td>\n",
       "      <td>0</td>\n",
       "      <td>1</td>\n",
       "    </tr>\n",
       "    <tr>\n",
       "      <th>1</th>\n",
       "      <td>1</td>\n",
       "      <td>1</td>\n",
       "      <td>1</td>\n",
       "      <td>0</td>\n",
       "      <td>0</td>\n",
       "      <td>-0.028020</td>\n",
       "      <td>0.052840</td>\n",
       "      <td>-0.130895</td>\n",
       "      <td>0.230853</td>\n",
       "      <td>0.418513</td>\n",
       "      <td>0</td>\n",
       "      <td>1</td>\n",
       "      <td>0</td>\n",
       "      <td>0</td>\n",
       "    </tr>\n",
       "    <tr>\n",
       "      <th>2</th>\n",
       "      <td>1</td>\n",
       "      <td>1</td>\n",
       "      <td>0</td>\n",
       "      <td>0</td>\n",
       "      <td>1</td>\n",
       "      <td>-0.562297</td>\n",
       "      <td>-0.861036</td>\n",
       "      <td>-1.235554</td>\n",
       "      <td>0.230853</td>\n",
       "      <td>0.418513</td>\n",
       "      <td>1</td>\n",
       "      <td>0</td>\n",
       "      <td>0</td>\n",
       "      <td>1</td>\n",
       "    </tr>\n",
       "    <tr>\n",
       "      <th>3</th>\n",
       "      <td>1</td>\n",
       "      <td>1</td>\n",
       "      <td>0</td>\n",
       "      <td>1</td>\n",
       "      <td>0</td>\n",
       "      <td>-0.703039</td>\n",
       "      <td>0.567956</td>\n",
       "      <td>-0.273432</td>\n",
       "      <td>0.230853</td>\n",
       "      <td>0.418513</td>\n",
       "      <td>1</td>\n",
       "      <td>0</td>\n",
       "      <td>0</td>\n",
       "      <td>1</td>\n",
       "    </tr>\n",
       "    <tr>\n",
       "      <th>4</th>\n",
       "      <td>1</td>\n",
       "      <td>0</td>\n",
       "      <td>0</td>\n",
       "      <td>0</td>\n",
       "      <td>0</td>\n",
       "      <td>0.450230</td>\n",
       "      <td>-0.861036</td>\n",
       "      <td>0.100727</td>\n",
       "      <td>0.230853</td>\n",
       "      <td>0.418513</td>\n",
       "      <td>1</td>\n",
       "      <td>0</td>\n",
       "      <td>0</td>\n",
       "      <td>1</td>\n",
       "    </tr>\n",
       "  </tbody>\n",
       "</table>\n",
       "</div>"
      ],
      "text/plain": [
       "   Gender  Married Dependents  Education  Self_Employed  ApplicantIncome  \\\n",
       "0       1        0          0          0              0         0.399266   \n",
       "1       1        1          1          0              0        -0.028020   \n",
       "2       1        1          0          0              1        -0.562297   \n",
       "3       1        1          0          1              0        -0.703039   \n",
       "4       1        0          0          0              0         0.450230   \n",
       "\n",
       "   CoapplicantIncome  LoanAmount  Loan_Amount_Term  Credit_History  \\\n",
       "0          -0.861036   -0.130895          0.230853        0.418513   \n",
       "1           0.052840   -0.130895          0.230853        0.418513   \n",
       "2          -0.861036   -1.235554          0.230853        0.418513   \n",
       "3           0.567956   -0.273432          0.230853        0.418513   \n",
       "4          -0.861036    0.100727          0.230853        0.418513   \n",
       "\n",
       "   Loan_Status  Property_Area_0  Property_Area_1  Property_Area_2  \n",
       "0            1                0                0                1  \n",
       "1            0                1                0                0  \n",
       "2            1                0                0                1  \n",
       "3            1                0                0                1  \n",
       "4            1                0                0                1  "
      ]
     },
     "execution_count": 311,
     "metadata": {},
     "output_type": "execute_result"
    }
   ],
   "source": [
    "df.head()"
   ]
  },
  {
   "cell_type": "code",
   "execution_count": 312,
   "metadata": {},
   "outputs": [
    {
     "data": {
      "text/html": [
       "<div>\n",
       "<style scoped>\n",
       "    .dataframe tbody tr th:only-of-type {\n",
       "        vertical-align: middle;\n",
       "    }\n",
       "\n",
       "    .dataframe tbody tr th {\n",
       "        vertical-align: top;\n",
       "    }\n",
       "\n",
       "    .dataframe thead th {\n",
       "        text-align: right;\n",
       "    }\n",
       "</style>\n",
       "<table border=\"1\" class=\"dataframe\">\n",
       "  <thead>\n",
       "    <tr style=\"text-align: right;\">\n",
       "      <th></th>\n",
       "      <th>ApplicantIncome</th>\n",
       "      <th>CoapplicantIncome</th>\n",
       "      <th>LoanAmount</th>\n",
       "      <th>Loan_Amount_Term</th>\n",
       "      <th>Credit_History</th>\n",
       "    </tr>\n",
       "  </thead>\n",
       "  <tbody>\n",
       "    <tr>\n",
       "      <th>0</th>\n",
       "      <td>0.399266</td>\n",
       "      <td>-0.861036</td>\n",
       "      <td>-0.130895</td>\n",
       "      <td>0.230853</td>\n",
       "      <td>0.418513</td>\n",
       "    </tr>\n",
       "    <tr>\n",
       "      <th>1</th>\n",
       "      <td>-0.028020</td>\n",
       "      <td>0.052840</td>\n",
       "      <td>-0.130895</td>\n",
       "      <td>0.230853</td>\n",
       "      <td>0.418513</td>\n",
       "    </tr>\n",
       "    <tr>\n",
       "      <th>2</th>\n",
       "      <td>-0.562297</td>\n",
       "      <td>-0.861036</td>\n",
       "      <td>-1.235554</td>\n",
       "      <td>0.230853</td>\n",
       "      <td>0.418513</td>\n",
       "    </tr>\n",
       "    <tr>\n",
       "      <th>3</th>\n",
       "      <td>-0.703039</td>\n",
       "      <td>0.567956</td>\n",
       "      <td>-0.273432</td>\n",
       "      <td>0.230853</td>\n",
       "      <td>0.418513</td>\n",
       "    </tr>\n",
       "    <tr>\n",
       "      <th>4</th>\n",
       "      <td>0.450230</td>\n",
       "      <td>-0.861036</td>\n",
       "      <td>0.100727</td>\n",
       "      <td>0.230853</td>\n",
       "      <td>0.418513</td>\n",
       "    </tr>\n",
       "  </tbody>\n",
       "</table>\n",
       "</div>"
      ],
      "text/plain": [
       "   ApplicantIncome  CoapplicantIncome  LoanAmount  Loan_Amount_Term  \\\n",
       "0         0.399266          -0.861036   -0.130895          0.230853   \n",
       "1        -0.028020           0.052840   -0.130895          0.230853   \n",
       "2        -0.562297          -0.861036   -1.235554          0.230853   \n",
       "3        -0.703039           0.567956   -0.273432          0.230853   \n",
       "4         0.450230          -0.861036    0.100727          0.230853   \n",
       "\n",
       "   Credit_History  \n",
       "0        0.418513  \n",
       "1        0.418513  \n",
       "2        0.418513  \n",
       "3        0.418513  \n",
       "4        0.418513  "
      ]
     },
     "execution_count": 312,
     "metadata": {},
     "output_type": "execute_result"
    }
   ],
   "source": [
    "df1=df.iloc[:,[5,6,7,8,9]]\n",
    "df1.head()"
   ]
  },
  {
   "cell_type": "code",
   "execution_count": 313,
   "metadata": {},
   "outputs": [
    {
     "data": {
      "text/html": [
       "<div>\n",
       "<style scoped>\n",
       "    .dataframe tbody tr th:only-of-type {\n",
       "        vertical-align: middle;\n",
       "    }\n",
       "\n",
       "    .dataframe tbody tr th {\n",
       "        vertical-align: top;\n",
       "    }\n",
       "\n",
       "    .dataframe thead th {\n",
       "        text-align: right;\n",
       "    }\n",
       "</style>\n",
       "<table border=\"1\" class=\"dataframe\">\n",
       "  <thead>\n",
       "    <tr style=\"text-align: right;\">\n",
       "      <th></th>\n",
       "      <th>features</th>\n",
       "      <th>vif score</th>\n",
       "    </tr>\n",
       "  </thead>\n",
       "  <tbody>\n",
       "    <tr>\n",
       "      <th>0</th>\n",
       "      <td>ApplicantIncome</td>\n",
       "      <td>1.528906</td>\n",
       "    </tr>\n",
       "    <tr>\n",
       "      <th>1</th>\n",
       "      <td>CoapplicantIncome</td>\n",
       "      <td>1.364665</td>\n",
       "    </tr>\n",
       "    <tr>\n",
       "      <th>2</th>\n",
       "      <td>LoanAmount</td>\n",
       "      <td>1.608426</td>\n",
       "    </tr>\n",
       "    <tr>\n",
       "      <th>3</th>\n",
       "      <td>Loan_Amount_Term</td>\n",
       "      <td>1.022980</td>\n",
       "    </tr>\n",
       "    <tr>\n",
       "      <th>4</th>\n",
       "      <td>Credit_History</td>\n",
       "      <td>1.002311</td>\n",
       "    </tr>\n",
       "  </tbody>\n",
       "</table>\n",
       "</div>"
      ],
      "text/plain": [
       "            features  vif score\n",
       "0    ApplicantIncome   1.528906\n",
       "1  CoapplicantIncome   1.364665\n",
       "2         LoanAmount   1.608426\n",
       "3   Loan_Amount_Term   1.022980\n",
       "4     Credit_History   1.002311"
      ]
     },
     "execution_count": 313,
     "metadata": {},
     "output_type": "execute_result"
    }
   ],
   "source": [
    "#checking feature colliniarity using VIF\n",
    "vif=pd.DataFrame()\n",
    "vif['features']=df1.columns\n",
    "vif['vif score']=[variance_inflation_factor(x_data,i) for i in range(x_data.shape[1])]\n",
    "vif"
   ]
  },
  {
   "cell_type": "code",
   "execution_count": null,
   "metadata": {},
   "outputs": [],
   "source": [
    "#as we can see that there is no multicolliniarity issue between the features as the vif score is below 5."
   ]
  },
  {
   "cell_type": "code",
   "execution_count": 314,
   "metadata": {},
   "outputs": [],
   "source": [
    "#now sepraating the independent features and target\n",
    "x=df.drop(columns='Loan_Status',axis=1)\n",
    "y=df['Loan_Status']"
   ]
  },
  {
   "cell_type": "code",
   "execution_count": 315,
   "metadata": {},
   "outputs": [
    {
     "data": {
      "text/plain": [
       "1    398\n",
       "0    179\n",
       "Name: Loan_Status, dtype: int64"
      ]
     },
     "execution_count": 315,
     "metadata": {},
     "output_type": "execute_result"
    }
   ],
   "source": [
    "#now checking the imbalanced problem of the target column.\n",
    "y.value_counts()"
   ]
  },
  {
   "cell_type": "code",
   "execution_count": 316,
   "metadata": {},
   "outputs": [
    {
     "data": {
      "image/png": "[encoded data removed]",
      "text/plain": [
       "<Figure size 432x288 with 1 Axes>"
      ]
     },
     "metadata": {
      "needs_background": "light"
     },
     "output_type": "display_data"
    }
   ],
   "source": [
    "#plotting the count plot on target data\n",
    "sns.countplot(x='Loan_Status',data=df)\n",
    "plt.show()"
   ]
  },
  {
   "cell_type": "code",
   "execution_count": null,
   "metadata": {},
   "outputs": [],
   "source": [
    "#here issue of class imbalanced problem is present as 0 has 179 count and 1 has only 398 count."
   ]
  },
  {
   "cell_type": "code",
   "execution_count": 317,
   "metadata": {},
   "outputs": [],
   "source": [
    "#handling class imbalanced problem by oversampling the minority class using SMOTE:\n",
    "from imblearn.over_sampling import SMOTE"
   ]
  },
  {
   "cell_type": "code",
   "execution_count": 318,
   "metadata": {
    "scrolled": true
   },
   "outputs": [],
   "source": [
    "#using the SMOTE to solve the imbalanced problem\n",
    "SM=SMOTE()\n",
    "x_fit,y_fit=SM.fit_resample(x,y)"
   ]
  },
  {
   "cell_type": "code",
   "execution_count": 319,
   "metadata": {},
   "outputs": [
    {
     "data": {
      "text/plain": [
       "1    398\n",
       "0    398\n",
       "Name: Loan_Status, dtype: int64"
      ]
     },
     "execution_count": 319,
     "metadata": {},
     "output_type": "execute_result"
    }
   ],
   "source": [
    "#new the issue of class imbalanced problem has been solved.\n",
    "y_fit.value_counts()"
   ]
  },
  {
   "cell_type": "code",
   "execution_count": 320,
   "metadata": {},
   "outputs": [
    {
     "name": "stdout",
     "output_type": "stream",
     "text": [
      "Best Accuracy is : 83.42%\n",
      "The Best Random State is : 68\n"
     ]
    }
   ],
   "source": [
    "#Finding best Random State:\n",
    "maxAcc=0\n",
    "maxRs=0\n",
    "\n",
    "for i in range(1,200):\n",
    "    x_train,x_test,y_train,y_test=train_test_split(x_fit,y_fit,test_size=0.25,random_state=i)\n",
    "    dt=LogisticRegression()\n",
    "    dt.fit(x_train,y_train)\n",
    "    y_pred=dt.predict(x_test)\n",
    "    acc_s=accuracy_score(y_test,y_pred)\n",
    "    if acc_s > maxAcc:\n",
    "        maxAcc=acc_s\n",
    "        maxRs=i\n",
    "        \n",
    "print(f\"Best Accuracy is : {maxAcc* 100:.2f}%\")\n",
    "print(\"The Best Random State is :\",maxRs)"
   ]
  },
  {
   "cell_type": "code",
   "execution_count": 321,
   "metadata": {},
   "outputs": [],
   "source": [
    "#seprating the train and test datasets with the best find random state\n",
    "x_train,x_test,y_train,y_test=train_test_split(x_fit,y_fit,test_size=0.25,random_state=68)"
   ]
  },
  {
   "cell_type": "code",
   "execution_count": 322,
   "metadata": {},
   "outputs": [
    {
     "name": "stdout",
     "output_type": "stream",
     "text": [
      "\n",
      "==========Outputs of Logistics Reggression===========\n",
      "\n",
      "==========Accuracy Score===========\n",
      "Accuracy Score is : 83.42%\n",
      "\n",
      "======Classification Report=============\n",
      "              precision    recall  f1-score   support\n",
      "\n",
      "           0       0.86      0.70      0.78        81\n",
      "           1       0.82      0.92      0.87       118\n",
      "\n",
      "    accuracy                           0.83       199\n",
      "   macro avg       0.84      0.81      0.82       199\n",
      "weighted avg       0.84      0.83      0.83       199\n",
      " \n",
      "\n",
      "=========Confusion Matrix============\n",
      "[[ 57  24]\n",
      " [  9 109]]\n"
     ]
    }
   ],
   "source": [
    "#Using the DecisionTreeClassifier algorithm to check the accuray score,DecisionTreeClassifier and Confusion Matrix:\n",
    "lr=LogisticRegression()\n",
    "lr.fit(x_train,y_train)\n",
    "y_predlr=lr.predict(x_test)\n",
    "\n",
    "print('\\n==========Outputs of Logistics Reggression===========')\n",
    "\n",
    "print('\\n==========Accuracy Score===========')\n",
    "print(f\"Accuracy Score is : {accuracy_score(y_test,y_predlr)* 100:.2f}%\\n\")\n",
    "\n",
    "print('======Classification Report=============')\n",
    "print(classification_report(y_test,y_predlr,digits=2),'\\n')\n",
    "\n",
    "print('=========Confusion Matrix============')\n",
    "print(confusion_matrix(y_test,y_predlr))"
   ]
  },
  {
   "cell_type": "code",
   "execution_count": 323,
   "metadata": {},
   "outputs": [
    {
     "name": "stdout",
     "output_type": "stream",
     "text": [
      "\n",
      "==========Outputs of DT===========\n",
      "\n",
      "==========Accuracy Score===========\n",
      "Accuracy Score is : 78.39%\n",
      "\n",
      "======Classification Report=============\n",
      "              precision    recall  f1-score   support\n",
      "\n",
      "           0       0.72      0.77      0.74        81\n",
      "           1       0.83      0.80      0.81       118\n",
      "\n",
      "    accuracy                           0.78       199\n",
      "   macro avg       0.78      0.78      0.78       199\n",
      "weighted avg       0.79      0.78      0.78       199\n",
      " \n",
      "\n",
      "=========Confusion Matrix============\n",
      "[[62 19]\n",
      " [24 94]]\n"
     ]
    }
   ],
   "source": [
    "#Using the DecisionTreeClassifier algorithm to check the accuray score,DecisionTreeClassifier and Confusion Matrix:\n",
    "dt=DecisionTreeClassifier()\n",
    "dt.fit(x_train,y_train)\n",
    "y_preddt=dt.predict(x_test)\n",
    "\n",
    "print('\\n==========Outputs of DT===========')\n",
    "\n",
    "print('\\n==========Accuracy Score===========')\n",
    "print(f\"Accuracy Score is : {accuracy_score(y_test,y_preddt)* 100:.2f}%\\n\")\n",
    "\n",
    "print('======Classification Report=============')\n",
    "print(classification_report(y_test,y_preddt,digits=2),'\\n')\n",
    "\n",
    "print('=========Confusion Matrix============')\n",
    "print(confusion_matrix(y_test,y_preddt))"
   ]
  },
  {
   "cell_type": "code",
   "execution_count": 324,
   "metadata": {},
   "outputs": [
    {
     "name": "stdout",
     "output_type": "stream",
     "text": [
      "\n",
      "==========Outputs of ADA Boost===========\n",
      "\n",
      "==========Accuracy Score===========\n",
      "Accuracy Score is : 78.89%\n",
      "\n",
      "======Classification Report=============\n",
      "              precision    recall  f1-score   support\n",
      "\n",
      "           0       0.76      0.70      0.73        81\n",
      "           1       0.81      0.85      0.83       118\n",
      "\n",
      "    accuracy                           0.79       199\n",
      "   macro avg       0.78      0.78      0.78       199\n",
      "weighted avg       0.79      0.79      0.79       199\n",
      " \n",
      "\n",
      "=========Confusion Matrix============\n",
      "[[ 57  24]\n",
      " [ 18 100]]\n"
     ]
    }
   ],
   "source": [
    "#Using the AdaBoostClassifier algorithm to check the accuray score,DecisionTreeClassifier and Confusion Matrix:\n",
    "abc=AdaBoostClassifier()\n",
    "abc.fit(x_train,y_train)\n",
    "y_predabc=abc.predict(x_test)\n",
    "\n",
    "print('\\n==========Outputs of ADA Boost===========')\n",
    "\n",
    "print('\\n==========Accuracy Score===========')\n",
    "print(f\"Accuracy Score is : {accuracy_score(y_test,y_predabc)* 100:.2f}%\\n\")\n",
    "\n",
    "print('======Classification Report=============')\n",
    "print(classification_report(y_test,y_predabc,digits=2),'\\n')\n",
    "\n",
    "print('=========Confusion Matrix============')\n",
    "print(confusion_matrix(y_test,y_predabc))"
   ]
  },
  {
   "cell_type": "code",
   "execution_count": 325,
   "metadata": {},
   "outputs": [
    {
     "name": "stdout",
     "output_type": "stream",
     "text": [
      "\n",
      "==========Outputs of Random Forest Classifier===========\n",
      "\n",
      "==========Accuracy Score===========\n",
      "Accuracy Score is : 88.44%\n",
      "\n",
      "======Classification Report=============\n",
      "              precision    recall  f1-score   support\n",
      "\n",
      "           0       0.87      0.84      0.86        81\n",
      "           1       0.89      0.92      0.90       118\n",
      "\n",
      "    accuracy                           0.88       199\n",
      "   macro avg       0.88      0.88      0.88       199\n",
      "weighted avg       0.88      0.88      0.88       199\n",
      " \n",
      "\n",
      "=========Confusion Matrix============\n",
      "[[ 68  13]\n",
      " [ 10 108]]\n"
     ]
    }
   ],
   "source": [
    "#Using the RandomForestClassifier algorithm to check the accuray score,DecisionTreeClassifier and Confusion Matrix:\n",
    "\n",
    "rfc=RandomForestClassifier()\n",
    "rfc.fit(x_train,y_train)\n",
    "y_predrfc=rfc.predict(x_test)\n",
    "\n",
    "print('\\n==========Outputs of Random Forest Classifier===========')\n",
    "\n",
    "print('\\n==========Accuracy Score===========')\n",
    "print(f\"Accuracy Score is : {accuracy_score(y_test,y_predrfc)* 100:.2f}%\\n\")\n",
    "\n",
    "print('======Classification Report=============')\n",
    "print(classification_report(y_test,y_predrfc,digits=2),'\\n')\n",
    "\n",
    "print('=========Confusion Matrix============')\n",
    "print(confusion_matrix(y_test,y_predrfc))"
   ]
  },
  {
   "cell_type": "code",
   "execution_count": 326,
   "metadata": {},
   "outputs": [
    {
     "name": "stdout",
     "output_type": "stream",
     "text": [
      "\n",
      "==========Outputs of KNeighborsClassifier===========\n",
      "\n",
      "==========Accuracy Score===========\n",
      "Accuracy Score is : 81.91%\n",
      "\n",
      "======Classification Report=============\n",
      "              precision    recall  f1-score   support\n",
      "\n",
      "           0       0.76      0.81      0.79        81\n",
      "           1       0.87      0.82      0.84       118\n",
      "\n",
      "    accuracy                           0.82       199\n",
      "   macro avg       0.81      0.82      0.81       199\n",
      "weighted avg       0.82      0.82      0.82       199\n",
      " \n",
      "\n",
      "=========Confusion Matrix============\n",
      "[[66 15]\n",
      " [21 97]]\n"
     ]
    }
   ],
   "source": [
    "#Using the KNeighborsClassifier algorithm to check the accuray score,DecisionTreeClassifier and Confusion Matrix:\n",
    "\n",
    "knn=KNeighborsClassifier()\n",
    "knn.fit(x_train,y_train)\n",
    "y_predknn=knn.predict(x_test)\n",
    "\n",
    "print('\\n==========Outputs of KNeighborsClassifier===========')\n",
    "\n",
    "print('\\n==========Accuracy Score===========')\n",
    "print(f\"Accuracy Score is : {accuracy_score(y_test,y_predknn)* 100:.2f}%\\n\")\n",
    "\n",
    "print('======Classification Report=============')\n",
    "print(classification_report(y_test,y_predknn,digits=2),'\\n')\n",
    "\n",
    "print('=========Confusion Matrix============')\n",
    "print(confusion_matrix(y_test,y_predknn))"
   ]
  },
  {
   "cell_type": "code",
   "execution_count": 327,
   "metadata": {},
   "outputs": [
    {
     "name": "stdout",
     "output_type": "stream",
     "text": [
      "\n",
      "==========Outputs of SVC===========\n",
      "\n",
      "==========Accuracy Score===========\n",
      "Accuracy Score is : 83.42%\n",
      "\n",
      "======Classification Report=============\n",
      "              precision    recall  f1-score   support\n",
      "\n",
      "           0       0.84      0.73      0.78        81\n",
      "           1       0.83      0.91      0.87       118\n",
      "\n",
      "    accuracy                           0.83       199\n",
      "   macro avg       0.84      0.82      0.82       199\n",
      "weighted avg       0.83      0.83      0.83       199\n",
      " \n",
      "\n",
      "=========Confusion Matrix============\n",
      "[[ 59  22]\n",
      " [ 11 107]]\n"
     ]
    }
   ],
   "source": [
    "#Using the SVC algorithm to check the accuray score,DecisionTreeClassifier and Confusion Matrix:\n",
    "\n",
    "#svc=SVC(probability=True)\n",
    "svc=SVC()\n",
    "svc.fit(x_train,y_train)\n",
    "y_predsvc=svc.predict(x_test)\n",
    "\n",
    "print('\\n==========Outputs of SVC===========')\n",
    "\n",
    "print('\\n==========Accuracy Score===========')\n",
    "print(f\"Accuracy Score is : {accuracy_score(y_test,y_predsvc)* 100:.2f}%\\n\")\n",
    "\n",
    "print('======Classification Report=============')\n",
    "print(classification_report(y_test,y_predsvc,digits=2),'\\n')\n",
    "\n",
    "print('=========Confusion Matrix============')\n",
    "print(confusion_matrix(y_test,y_predsvc))"
   ]
  },
  {
   "cell_type": "code",
   "execution_count": 328,
   "metadata": {},
   "outputs": [
    {
     "name": "stdout",
     "output_type": "stream",
     "text": [
      "\n",
      "==========Cross Validation Score of Logistices Classifier===========\n",
      "Cross validation for the Logistices Classifier is: 75.26%\n",
      "\n",
      "\n",
      "==========Cross Validation Score of Random Forest Classifier===========\n",
      "Cross validation for the Random Forest Classifier is: 82.05%\n",
      "\n",
      "\n",
      "=============Cross Validation Score of Decision Tree====================\n",
      "Cross validation for the Decision Tree is: 74.50%\n",
      "\n",
      "\n",
      "=============Cross Validation Score of AdaBoost Classifier==============\n",
      "Cross validation for the AdaBoost Classifier is: 74.25%\n",
      "\n",
      "\n",
      "===================Cross Validation Score of KNN========================\n",
      "Cross validation for the KNN Classifier is: 77.39%\n",
      "\n",
      "\n",
      "===================Cross Validation Score of SVC========================\n",
      "Cross validation for the SVC Classifier is: 74.25%\n",
      "\n"
     ]
    }
   ],
   "source": [
    "print('\\n==========Cross Validation Score of Logistices Classifier===========')\n",
    "cvs_lr=cross_val_score(lr,x_fit,y_fit,cv=5)\n",
    "print(f\"Cross validation for the Logistices Classifier is: {cvs_lr.mean()*100:.2f}%\\n\")\n",
    "\n",
    "print('\\n==========Cross Validation Score of Random Forest Classifier===========')\n",
    "cvs_rfc=cross_val_score(rfc,x_fit,y_fit,cv=5)\n",
    "print(f\"Cross validation for the Random Forest Classifier is: {cvs_rfc.mean()*100:.2f}%\\n\")\n",
    "\n",
    "print('\\n=============Cross Validation Score of Decision Tree====================')\n",
    "cvs_dt=cross_val_score(dt,x_fit,y_fit,cv=5)\n",
    "print(f\"Cross validation for the Decision Tree is: {cvs_dt.mean()*100:.2f}%\\n\")\n",
    "\n",
    "print('\\n=============Cross Validation Score of AdaBoost Classifier==============')\n",
    "cvs_abc=cross_val_score(abc,x_fit,y_fit,cv=5)\n",
    "print(f\"Cross validation for the AdaBoost Classifier is: {cvs_abc.mean()*100:.2f}%\\n\")\n",
    "\n",
    "print('\\n===================Cross Validation Score of KNN========================')\n",
    "cvs_knn=cross_val_score(knn,x_fit,y_fit,cv=5)\n",
    "print(f\"Cross validation for the KNN Classifier is: {cvs_knn.mean()*100:.2f}%\\n\")\n",
    "\n",
    "print('\\n===================Cross Validation Score of SVC========================')\n",
    "cvs_svc=cross_val_score(svc,x_fit,y_fit,cv=5)\n",
    "print(f\"Cross validation for the SVC Classifier is: {cvs_svc.mean()*100:.2f}%\\n\")"
   ]
  },
  {
   "cell_type": "code",
   "execution_count": 329,
   "metadata": {},
   "outputs": [
    {
     "data": {
      "image/png": "[encoded data removed]",
      "text/plain": [
       "<Figure size 432x288 with 1 Axes>"
      ]
     },
     "metadata": {
      "needs_background": "light"
     },
     "output_type": "display_data"
    }
   ],
   "source": [
    "#Using the roc_auc_plot to the same.\n",
    "dist=plot_roc_curve(lr,x_test,y_test)\n",
    "plot_roc_curve(rfc,x_test,y_test,ax=dist.ax_)#abc svc, \n",
    "plot_roc_curve(dt,x_test,y_test,ax=dist.ax_)\n",
    "plot_roc_curve(abc,x_test,y_test,ax=dist.ax_)\n",
    "plot_roc_curve(svc,x_test,y_test,ax=dist.ax_)\n",
    "plot_roc_curve(knn,x_test,y_test,ax=dist.ax_)\n",
    "\n",
    "plt.legend(prop={'size':11},loc='lower right')\n",
    "plt.show()"
   ]
  },
  {
   "cell_type": "code",
   "execution_count": null,
   "metadata": {},
   "outputs": [],
   "source": [
    "#we select the Random Forest Regressor after comaparing all the models accuracy with the cross validation score.\n",
    "#LR: Accuracy:83.42   cross validation score:75.26  Diffrence:8.16\n",
    "#DT: Accuracy:78.39   cross validation score:74.50  Diffrence:3.89\n",
    "#ADA: Accuracy:78.89   cross validation score:74.25  Diffrence:4.64\n",
    "#RFC: Accuracy:88.44   cross validation score:82.05  Diffrence:6.39\n",
    "#KNN: Accuracy:81.91   cross validation score:77.39  Diffrence:4.52\n",
    "#SVC: Accuracy:83.42   cross validation score:74.25  Diffrence:9.17\n",
    "\n",
    "#As we can see the Decision Tree has  least differnece so we can select it for hyper parameter tuing."
   ]
  },
  {
   "cell_type": "code",
   "execution_count": 337,
   "metadata": {},
   "outputs": [],
   "source": [
    "#Now Appling the gridsearchcv beofore building the model to check the best parameter.\n",
    "best_param={'criterion':['gini','entropy'],\n",
    "           'max_depth':[10,12,15,20,25,30],\n",
    "           'min_samples_split':[2,3,5,7,9,11],\n",
    "           'min_samples_leaf':[2,4,6,8,10,12]}"
   ]
  },
  {
   "cell_type": "code",
   "execution_count": 338,
   "metadata": {},
   "outputs": [],
   "source": [
    "gridcv=GridSearchCV(dt,param_grid=best_param)"
   ]
  },
  {
   "cell_type": "code",
   "execution_count": 339,
   "metadata": {},
   "outputs": [
    {
     "data": {
      "text/plain": [
       "GridSearchCV(estimator=DecisionTreeClassifier(),\n",
       "             param_grid={'criterion': ['gini', 'entropy'],\n",
       "                         'max_depth': [10, 12, 15, 20, 25, 30],\n",
       "                         'min_samples_leaf': [2, 4, 6, 8, 10, 12],\n",
       "                         'min_samples_split': [2, 3, 5, 7, 9, 11]})"
      ]
     },
     "execution_count": 339,
     "metadata": {},
     "output_type": "execute_result"
    }
   ],
   "source": [
    "gridcv.fit(x_train,y_train)"
   ]
  },
  {
   "cell_type": "code",
   "execution_count": 340,
   "metadata": {},
   "outputs": [
    {
     "data": {
      "text/plain": [
       "{'criterion': 'gini',\n",
       " 'max_depth': 12,\n",
       " 'min_samples_leaf': 6,\n",
       " 'min_samples_split': 2}"
      ]
     },
     "execution_count": 340,
     "metadata": {},
     "output_type": "execute_result"
    }
   ],
   "source": [
    "gridcv.best_params_"
   ]
  },
  {
   "cell_type": "code",
   "execution_count": 353,
   "metadata": {},
   "outputs": [
    {
     "name": "stdout",
     "output_type": "stream",
     "text": [
      "\n",
      "==========Outputs of DT===========\n",
      "\n",
      "==========Accuracy Score===========\n",
      "Accuracy Score is : 82.41%\n",
      "\n",
      "======Classification Report=============\n",
      "              precision    recall  f1-score   support\n",
      "\n",
      "           0       0.76      0.84      0.80        81\n",
      "           1       0.88      0.81      0.85       118\n",
      "\n",
      "    accuracy                           0.82       199\n",
      "   macro avg       0.82      0.83      0.82       199\n",
      "weighted avg       0.83      0.82      0.83       199\n",
      " \n",
      "\n",
      "=========Confusion Matrix============\n",
      "[[68 13]\n",
      " [22 96]]\n"
     ]
    }
   ],
   "source": [
    "#Using the DecisionTreeClassifier algorithm to check the accuray score,DecisionTreeClassifier and Confusion Matrix:\n",
    "dt=DecisionTreeClassifier(criterion='gini',max_depth=12,min_samples_leaf=6,min_samples_split=6)\n",
    "dt.fit(x_train,y_train)\n",
    "y_preddt=dt.predict(x_test)\n",
    "\n",
    "print('\\n==========Outputs of DT===========')\n",
    "\n",
    "print('\\n==========Accuracy Score===========')\n",
    "print(f\"Accuracy Score is : {accuracy_score(y_test,y_preddt)* 100:.2f}%\\n\")\n",
    "\n",
    "print('======Classification Report=============')\n",
    "print(classification_report(y_test,y_preddt,digits=2),'\\n')\n",
    "\n",
    "print('=========Confusion Matrix============')\n",
    "print(confusion_matrix(y_test,y_preddt))"
   ]
  },
  {
   "cell_type": "code",
   "execution_count": null,
   "metadata": {},
   "outputs": [],
   "source": [
    "#the accuracy has been incressed to 82.41% so we are saving the model."
   ]
  },
  {
   "cell_type": "code",
   "execution_count": null,
   "metadata": {},
   "outputs": [],
   "source": [
    "#Saving the Decision Tree claasifier as the final model."
   ]
  },
  {
   "cell_type": "code",
   "execution_count": 354,
   "metadata": {},
   "outputs": [
    {
     "data": {
      "text/plain": [
       "['Loan_Application_Model.pkl']"
      ]
     },
     "execution_count": 354,
     "metadata": {},
     "output_type": "execute_result"
    }
   ],
   "source": [
    "#Saving the model\n",
    "import joblib\n",
    "joblib.dump(dt,'Loan_Application_Model.pkl')"
   ]
  },
  {
   "cell_type": "code",
   "execution_count": null,
   "metadata": {},
   "outputs": [],
   "source": [
    "#This will complete the model building."
   ]
  }
 ],
 "metadata": {
  "kernelspec": {
   "display_name": "Python 3",
   "language": "python",
   "name": "python3"
  },
  "language_info": {
   "codemirror_mode": {
    "name": "ipython",
    "version": 3
   },
   "file_extension": ".py",
   "mimetype": "text/x-python",
   "name": "python",
   "nbconvert_exporter": "python",
   "pygments_lexer": "ipython3",
   "version": "3.8.5"
  }
 },
 "nbformat": 4,
 "nbformat_minor": 4
}
