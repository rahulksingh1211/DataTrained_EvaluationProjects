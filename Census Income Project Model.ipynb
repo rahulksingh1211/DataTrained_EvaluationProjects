{
 "cells": [
  {
   "cell_type": "markdown",
   "metadata": {},
   "source": [
    "Census Income Project\n",
    "Problem Statement:\n",
    "\n",
    "\n",
    "This data was extracted from the 1994 Census bureau database by Ronny Kohavi and Barry Becker (Data Mining and Visualization, Silicon Graphics). A set of reasonably clean records was extracted using the following conditions: ((AAGE>16) && (AGI>100) && (AFNLWGT>1) && (HRSWK>0)). The prediction task is to determine whether a person makes over $50K a year.\n",
    "\n",
    "Description of fnlwgt (final weight)\n",
    "The weights on the Current Population Survey (CPS) files are controlled to independent estimates of the civilian non-institutional population of the US. These are prepared monthly for us by Population Division here at the Census Bureau. We use 3 sets of controls. These are:\n",
    "\n",
    "A single cell estimate of the population 16+ for each state.\n",
    "\n",
    "Controls for Hispanic Origin by age and sex.\n",
    "\n",
    "Controls by Race, age and sex.\n",
    "\n",
    "We use all three sets of controls in our weighting program and \"rake\" through them 6 times so that by the end we come back to all the controls we used. \n",
    "The term estimate refers to population totals derived from CPS by creating \"weighted tallies\" of any specified socio-economic characteristics of the population. People with similar demographic characteristics should have similar weights. \n",
    "There is one important caveat to remember about this statement. That is that since the CPS sample is actually a collection of 51 state samples, each with its own probability of selection, the statement only applies within state.\n"
   ]
  },
  {
   "cell_type": "code",
   "execution_count": 1,
   "metadata": {},
   "outputs": [],
   "source": [
    "#Imoporting neccecory Libraries:\n",
    "\n",
    "#common lib\n",
    "import numpy as np\n",
    "import pandas as pd\n",
    "import matplotlib.pyplot as plt\n",
    "import seaborn as sns\n",
    "%matplotlib inline\n",
    "\n",
    "#preprocessing lib:\n",
    "from sklearn.preprocessing import StandardScaler,MinMaxScaler\n",
    "from sklearn.model_selection import train_test_split\n",
    "from sklearn.preprocessing import OneHotEncoder,LabelEncoder\n",
    "\n",
    "#outliers lib:\n",
    "from scipy import stats\n",
    "\n",
    "#multicolliniarity lib:\n",
    "from sklearn.feature_selection import SelectKBest,f_classif\n",
    "from statsmodels.stats.outliers_influence import variance_inflation_factor\n",
    "from sklearn.model_selection import train_test_split\n",
    "\n",
    "#Model building lib \n",
    "from sklearn.linear_model import LogisticRegression\n",
    "from sklearn.tree import DecisionTreeClassifier\n",
    "from sklearn.neighbors import KNeighborsClassifier\n",
    "from sklearn.ensemble import RandomForestClassifier,AdaBoostClassifier,GradientBoostingClassifier\n",
    "from sklearn.svm import SVC\n",
    "\n",
    "#model evaluation lib:\n",
    "from sklearn.metrics import classification_report,roc_auc_score,accuracy_score,confusion_matrix,plot_roc_curve\n",
    "\n",
    "#model hyper parameter tuning lib:\n",
    "from sklearn.model_selection import GridSearchCV,RandomizedSearchCV\n",
    "\n",
    "import warnings\n",
    "warnings.filterwarnings('ignore')"
   ]
  },
  {
   "cell_type": "code",
   "execution_count": 54,
   "metadata": {},
   "outputs": [
    {
     "data": {
      "text/html": [
       "<div>\n",
       "<style scoped>\n",
       "    .dataframe tbody tr th:only-of-type {\n",
       "        vertical-align: middle;\n",
       "    }\n",
       "\n",
       "    .dataframe tbody tr th {\n",
       "        vertical-align: top;\n",
       "    }\n",
       "\n",
       "    .dataframe thead th {\n",
       "        text-align: right;\n",
       "    }\n",
       "</style>\n",
       "<table border=\"1\" class=\"dataframe\">\n",
       "  <thead>\n",
       "    <tr style=\"text-align: right;\">\n",
       "      <th></th>\n",
       "      <th>Age</th>\n",
       "      <th>Workclass</th>\n",
       "      <th>Fnlwgt</th>\n",
       "      <th>Education</th>\n",
       "      <th>Education_num</th>\n",
       "      <th>Marital_status</th>\n",
       "      <th>Occupation</th>\n",
       "      <th>Relationship</th>\n",
       "      <th>Race</th>\n",
       "      <th>Sex</th>\n",
       "      <th>Capital_gain</th>\n",
       "      <th>Capital_loss</th>\n",
       "      <th>Hours_per_week</th>\n",
       "      <th>Native_country</th>\n",
       "      <th>Income</th>\n",
       "    </tr>\n",
       "  </thead>\n",
       "  <tbody>\n",
       "    <tr>\n",
       "      <th>0</th>\n",
       "      <td>50</td>\n",
       "      <td>Self-emp-not-inc</td>\n",
       "      <td>83311</td>\n",
       "      <td>Bachelors</td>\n",
       "      <td>13</td>\n",
       "      <td>Married-civ-spouse</td>\n",
       "      <td>Exec-managerial</td>\n",
       "      <td>Husband</td>\n",
       "      <td>White</td>\n",
       "      <td>Male</td>\n",
       "      <td>0</td>\n",
       "      <td>0</td>\n",
       "      <td>13</td>\n",
       "      <td>United-States</td>\n",
       "      <td>&lt;=50K</td>\n",
       "    </tr>\n",
       "    <tr>\n",
       "      <th>1</th>\n",
       "      <td>38</td>\n",
       "      <td>Private</td>\n",
       "      <td>215646</td>\n",
       "      <td>HS-grad</td>\n",
       "      <td>9</td>\n",
       "      <td>Divorced</td>\n",
       "      <td>Handlers-cleaners</td>\n",
       "      <td>Not-in-family</td>\n",
       "      <td>White</td>\n",
       "      <td>Male</td>\n",
       "      <td>0</td>\n",
       "      <td>0</td>\n",
       "      <td>40</td>\n",
       "      <td>United-States</td>\n",
       "      <td>&lt;=50K</td>\n",
       "    </tr>\n",
       "    <tr>\n",
       "      <th>2</th>\n",
       "      <td>53</td>\n",
       "      <td>Private</td>\n",
       "      <td>234721</td>\n",
       "      <td>11th</td>\n",
       "      <td>7</td>\n",
       "      <td>Married-civ-spouse</td>\n",
       "      <td>Handlers-cleaners</td>\n",
       "      <td>Husband</td>\n",
       "      <td>Black</td>\n",
       "      <td>Male</td>\n",
       "      <td>0</td>\n",
       "      <td>0</td>\n",
       "      <td>40</td>\n",
       "      <td>United-States</td>\n",
       "      <td>&lt;=50K</td>\n",
       "    </tr>\n",
       "    <tr>\n",
       "      <th>3</th>\n",
       "      <td>28</td>\n",
       "      <td>Private</td>\n",
       "      <td>338409</td>\n",
       "      <td>Bachelors</td>\n",
       "      <td>13</td>\n",
       "      <td>Married-civ-spouse</td>\n",
       "      <td>Prof-specialty</td>\n",
       "      <td>Wife</td>\n",
       "      <td>Black</td>\n",
       "      <td>Female</td>\n",
       "      <td>0</td>\n",
       "      <td>0</td>\n",
       "      <td>40</td>\n",
       "      <td>Cuba</td>\n",
       "      <td>&lt;=50K</td>\n",
       "    </tr>\n",
       "    <tr>\n",
       "      <th>4</th>\n",
       "      <td>37</td>\n",
       "      <td>Private</td>\n",
       "      <td>284582</td>\n",
       "      <td>Masters</td>\n",
       "      <td>14</td>\n",
       "      <td>Married-civ-spouse</td>\n",
       "      <td>Exec-managerial</td>\n",
       "      <td>Wife</td>\n",
       "      <td>White</td>\n",
       "      <td>Female</td>\n",
       "      <td>0</td>\n",
       "      <td>0</td>\n",
       "      <td>40</td>\n",
       "      <td>United-States</td>\n",
       "      <td>&lt;=50K</td>\n",
       "    </tr>\n",
       "  </tbody>\n",
       "</table>\n",
       "</div>"
      ],
      "text/plain": [
       "   Age          Workclass  Fnlwgt   Education  Education_num  \\\n",
       "0   50   Self-emp-not-inc   83311   Bachelors             13   \n",
       "1   38            Private  215646     HS-grad              9   \n",
       "2   53            Private  234721        11th              7   \n",
       "3   28            Private  338409   Bachelors             13   \n",
       "4   37            Private  284582     Masters             14   \n",
       "\n",
       "        Marital_status          Occupation    Relationship    Race      Sex  \\\n",
       "0   Married-civ-spouse     Exec-managerial         Husband   White     Male   \n",
       "1             Divorced   Handlers-cleaners   Not-in-family   White     Male   \n",
       "2   Married-civ-spouse   Handlers-cleaners         Husband   Black     Male   \n",
       "3   Married-civ-spouse      Prof-specialty            Wife   Black   Female   \n",
       "4   Married-civ-spouse     Exec-managerial            Wife   White   Female   \n",
       "\n",
       "   Capital_gain  Capital_loss  Hours_per_week  Native_country  Income  \n",
       "0             0             0              13   United-States   <=50K  \n",
       "1             0             0              40   United-States   <=50K  \n",
       "2             0             0              40   United-States   <=50K  \n",
       "3             0             0              40            Cuba   <=50K  \n",
       "4             0             0              40   United-States   <=50K  "
      ]
     },
     "execution_count": 54,
     "metadata": {},
     "output_type": "execute_result"
    }
   ],
   "source": [
    "#Loading the Dataset:\n",
    "df=pd.read_csv('Census Income Project.csv')\n",
    "df.head()"
   ]
  },
  {
   "cell_type": "code",
   "execution_count": 3,
   "metadata": {},
   "outputs": [],
   "source": [
    "pd.set_option('display.max_rows',None)"
   ]
  },
  {
   "cell_type": "code",
   "execution_count": 4,
   "metadata": {},
   "outputs": [
    {
     "data": {
      "text/plain": [
       "(32560, 15)"
      ]
     },
     "execution_count": 4,
     "metadata": {},
     "output_type": "execute_result"
    }
   ],
   "source": [
    "df.shape\n",
    "#there is 32560 rows and 15 columns is availble in the data"
   ]
  },
  {
   "cell_type": "code",
   "execution_count": 5,
   "metadata": {},
   "outputs": [
    {
     "name": "stdout",
     "output_type": "stream",
     "text": [
      "<class 'pandas.core.frame.DataFrame'>\n",
      "RangeIndex: 32560 entries, 0 to 32559\n",
      "Data columns (total 15 columns):\n",
      " #   Column          Non-Null Count  Dtype \n",
      "---  ------          --------------  ----- \n",
      " 0   Age             32560 non-null  int64 \n",
      " 1   Workclass       32560 non-null  object\n",
      " 2   Fnlwgt          32560 non-null  int64 \n",
      " 3   Education       32560 non-null  object\n",
      " 4   Education_num   32560 non-null  int64 \n",
      " 5   Marital_status  32560 non-null  object\n",
      " 6   Occupation      32560 non-null  object\n",
      " 7   Relationship    32560 non-null  object\n",
      " 8   Race            32560 non-null  object\n",
      " 9   Sex             32560 non-null  object\n",
      " 10  Capital_gain    32560 non-null  int64 \n",
      " 11  Capital_loss    32560 non-null  int64 \n",
      " 12  Hours_per_week  32560 non-null  int64 \n",
      " 13  Native_country  32560 non-null  object\n",
      " 14  Income          32560 non-null  object\n",
      "dtypes: int64(6), object(9)\n",
      "memory usage: 3.7+ MB\n"
     ]
    }
   ],
   "source": [
    "df.info()\n",
    "#here the object types are int and object"
   ]
  },
  {
   "cell_type": "code",
   "execution_count": 6,
   "metadata": {},
   "outputs": [
    {
     "data": {
      "text/plain": [
       "Age               0\n",
       "Workclass         0\n",
       "Fnlwgt            0\n",
       "Education         0\n",
       "Education_num     0\n",
       "Marital_status    0\n",
       "Occupation        0\n",
       "Relationship      0\n",
       "Race              0\n",
       "Sex               0\n",
       "Capital_gain      0\n",
       "Capital_loss      0\n",
       "Hours_per_week    0\n",
       "Native_country    0\n",
       "Income            0\n",
       "dtype: int64"
      ]
     },
     "execution_count": 6,
     "metadata": {},
     "output_type": "execute_result"
    }
   ],
   "source": [
    "#checking null value from the dataframe\n",
    "df.isnull().sum()"
   ]
  },
  {
   "cell_type": "code",
   "execution_count": null,
   "metadata": {},
   "outputs": [],
   "source": [
    "#there is no null available in the features and label"
   ]
  },
  {
   "cell_type": "code",
   "execution_count": 7,
   "metadata": {},
   "outputs": [
    {
     "data": {
      "image/png": "[encoded data removed]",
      "text/plain": [
       "<Figure size 1080x720 with 2 Axes>"
      ]
     },
     "metadata": {
      "needs_background": "light"
     },
     "output_type": "display_data"
    }
   ],
   "source": [
    "#there is no null value available in the dataframe.cross checking the same with the heatmap.\n",
    "plt.figure(figsize=(15,10))\n",
    "sns.heatmap(df.isna())\n",
    "plt.show()"
   ]
  },
  {
   "cell_type": "code",
   "execution_count": 8,
   "metadata": {},
   "outputs": [
    {
     "data": {
      "text/plain": [
       " Private             22696\n",
       " Self-emp-not-inc     2541\n",
       " Local-gov            2093\n",
       " ?                    1836\n",
       " State-gov            1297\n",
       " Self-emp-inc         1116\n",
       " Federal-gov           960\n",
       " Without-pay            14\n",
       " Never-worked            7\n",
       "Name: Workclass, dtype: int64"
      ]
     },
     "execution_count": 8,
     "metadata": {},
     "output_type": "execute_result"
    }
   ],
   "source": [
    "df['Workclass'].value_counts()"
   ]
  },
  {
   "cell_type": "code",
   "execution_count": 55,
   "metadata": {},
   "outputs": [],
   "source": [
    "#Saving catagorial data into list for the binary encoding\n",
    "dt_value=['int8','int16','int32','int64','float16','float32','float64']\n",
    "cat_data=[]\n",
    "feature_type=df.columns.values.tolist()\n",
    "\n",
    "\n",
    "for column in feature_type:\n",
    "    if df[column].dtype in dt_value:\n",
    "        continue\n",
    "    cat_data.append(column)        "
   ]
  },
  {
   "cell_type": "code",
   "execution_count": 56,
   "metadata": {},
   "outputs": [
    {
     "data": {
      "text/plain": [
       "['Workclass',\n",
       " 'Education',\n",
       " 'Marital_status',\n",
       " 'Occupation',\n",
       " 'Relationship',\n",
       " 'Race',\n",
       " 'Sex',\n",
       " 'Native_country',\n",
       " 'Income']"
      ]
     },
     "execution_count": 56,
     "metadata": {},
     "output_type": "execute_result"
    }
   ],
   "source": [
    "cat_data"
   ]
  },
  {
   "cell_type": "code",
   "execution_count": 57,
   "metadata": {},
   "outputs": [
    {
     "data": {
      "text/plain": [
       " <=50K    24719\n",
       " >50K      7841\n",
       "Name: Income, dtype: int64"
      ]
     },
     "execution_count": 57,
     "metadata": {},
     "output_type": "execute_result"
    }
   ],
   "source": [
    "df['Income'].value_counts()"
   ]
  },
  {
   "cell_type": "code",
   "execution_count": 58,
   "metadata": {},
   "outputs": [],
   "source": [
    "char_value=['Workclass','Education','Marital_status','Occupation','Relationship','Race','Sex','Native_country','Income']\n",
    "lb=LabelEncoder()\n",
    "\n",
    "for i in char_value:\n",
    "    df[i]=lb.fit_transform(df[i])"
   ]
  },
  {
   "cell_type": "code",
   "execution_count": 33,
   "metadata": {},
   "outputs": [
    {
     "data": {
      "text/plain": [
       "0    24719\n",
       "1     7841\n",
       "Name: Income, dtype: int64"
      ]
     },
     "execution_count": 33,
     "metadata": {},
     "output_type": "execute_result"
    }
   ],
   "source": [
    "df['Income'].value_counts()"
   ]
  },
  {
   "cell_type": "code",
   "execution_count": 59,
   "metadata": {},
   "outputs": [
    {
     "data": {
      "text/html": [
       "<div>\n",
       "<style scoped>\n",
       "    .dataframe tbody tr th:only-of-type {\n",
       "        vertical-align: middle;\n",
       "    }\n",
       "\n",
       "    .dataframe tbody tr th {\n",
       "        vertical-align: top;\n",
       "    }\n",
       "\n",
       "    .dataframe thead th {\n",
       "        text-align: right;\n",
       "    }\n",
       "</style>\n",
       "<table border=\"1\" class=\"dataframe\">\n",
       "  <thead>\n",
       "    <tr style=\"text-align: right;\">\n",
       "      <th></th>\n",
       "      <th>Age</th>\n",
       "      <th>Workclass</th>\n",
       "      <th>Fnlwgt</th>\n",
       "      <th>Education</th>\n",
       "      <th>Education_num</th>\n",
       "      <th>Marital_status</th>\n",
       "      <th>Occupation</th>\n",
       "      <th>Relationship</th>\n",
       "      <th>Race</th>\n",
       "      <th>Sex</th>\n",
       "      <th>Capital_gain</th>\n",
       "      <th>Capital_loss</th>\n",
       "      <th>Hours_per_week</th>\n",
       "      <th>Native_country</th>\n",
       "      <th>Income</th>\n",
       "    </tr>\n",
       "  </thead>\n",
       "  <tbody>\n",
       "    <tr>\n",
       "      <th>0</th>\n",
       "      <td>50</td>\n",
       "      <td>6</td>\n",
       "      <td>83311</td>\n",
       "      <td>9</td>\n",
       "      <td>13</td>\n",
       "      <td>2</td>\n",
       "      <td>4</td>\n",
       "      <td>0</td>\n",
       "      <td>4</td>\n",
       "      <td>1</td>\n",
       "      <td>0</td>\n",
       "      <td>0</td>\n",
       "      <td>13</td>\n",
       "      <td>39</td>\n",
       "      <td>0</td>\n",
       "    </tr>\n",
       "    <tr>\n",
       "      <th>1</th>\n",
       "      <td>38</td>\n",
       "      <td>4</td>\n",
       "      <td>215646</td>\n",
       "      <td>11</td>\n",
       "      <td>9</td>\n",
       "      <td>0</td>\n",
       "      <td>6</td>\n",
       "      <td>1</td>\n",
       "      <td>4</td>\n",
       "      <td>1</td>\n",
       "      <td>0</td>\n",
       "      <td>0</td>\n",
       "      <td>40</td>\n",
       "      <td>39</td>\n",
       "      <td>0</td>\n",
       "    </tr>\n",
       "    <tr>\n",
       "      <th>2</th>\n",
       "      <td>53</td>\n",
       "      <td>4</td>\n",
       "      <td>234721</td>\n",
       "      <td>1</td>\n",
       "      <td>7</td>\n",
       "      <td>2</td>\n",
       "      <td>6</td>\n",
       "      <td>0</td>\n",
       "      <td>2</td>\n",
       "      <td>1</td>\n",
       "      <td>0</td>\n",
       "      <td>0</td>\n",
       "      <td>40</td>\n",
       "      <td>39</td>\n",
       "      <td>0</td>\n",
       "    </tr>\n",
       "    <tr>\n",
       "      <th>3</th>\n",
       "      <td>28</td>\n",
       "      <td>4</td>\n",
       "      <td>338409</td>\n",
       "      <td>9</td>\n",
       "      <td>13</td>\n",
       "      <td>2</td>\n",
       "      <td>10</td>\n",
       "      <td>5</td>\n",
       "      <td>2</td>\n",
       "      <td>0</td>\n",
       "      <td>0</td>\n",
       "      <td>0</td>\n",
       "      <td>40</td>\n",
       "      <td>5</td>\n",
       "      <td>0</td>\n",
       "    </tr>\n",
       "    <tr>\n",
       "      <th>4</th>\n",
       "      <td>37</td>\n",
       "      <td>4</td>\n",
       "      <td>284582</td>\n",
       "      <td>12</td>\n",
       "      <td>14</td>\n",
       "      <td>2</td>\n",
       "      <td>4</td>\n",
       "      <td>5</td>\n",
       "      <td>4</td>\n",
       "      <td>0</td>\n",
       "      <td>0</td>\n",
       "      <td>0</td>\n",
       "      <td>40</td>\n",
       "      <td>39</td>\n",
       "      <td>0</td>\n",
       "    </tr>\n",
       "  </tbody>\n",
       "</table>\n",
       "</div>"
      ],
      "text/plain": [
       "   Age  Workclass  Fnlwgt  Education  Education_num  Marital_status  \\\n",
       "0   50          6   83311          9             13               2   \n",
       "1   38          4  215646         11              9               0   \n",
       "2   53          4  234721          1              7               2   \n",
       "3   28          4  338409          9             13               2   \n",
       "4   37          4  284582         12             14               2   \n",
       "\n",
       "   Occupation  Relationship  Race  Sex  Capital_gain  Capital_loss  \\\n",
       "0           4             0     4    1             0             0   \n",
       "1           6             1     4    1             0             0   \n",
       "2           6             0     2    1             0             0   \n",
       "3          10             5     2    0             0             0   \n",
       "4           4             5     4    0             0             0   \n",
       "\n",
       "   Hours_per_week  Native_country  Income  \n",
       "0              13              39       0  \n",
       "1              40              39       0  \n",
       "2              40              39       0  \n",
       "3              40               5       0  \n",
       "4              40              39       0  "
      ]
     },
     "execution_count": 59,
     "metadata": {},
     "output_type": "execute_result"
    }
   ],
   "source": [
    "df.head()"
   ]
  },
  {
   "cell_type": "code",
   "execution_count": 61,
   "metadata": {},
   "outputs": [],
   "source": [
    "#performing the get_dummies to encode the data\n",
    "df=pd.get_dummies(df,columns=['Workclass','Education','Marital_status','Occupation','Relationship','Race','Native_country'])"
   ]
  },
  {
   "cell_type": "code",
   "execution_count": 62,
   "metadata": {},
   "outputs": [
    {
     "data": {
      "text/html": [
       "<div>\n",
       "<style scoped>\n",
       "    .dataframe tbody tr th:only-of-type {\n",
       "        vertical-align: middle;\n",
       "    }\n",
       "\n",
       "    .dataframe tbody tr th {\n",
       "        vertical-align: top;\n",
       "    }\n",
       "\n",
       "    .dataframe thead th {\n",
       "        text-align: right;\n",
       "    }\n",
       "</style>\n",
       "<table border=\"1\" class=\"dataframe\">\n",
       "  <thead>\n",
       "    <tr style=\"text-align: right;\">\n",
       "      <th></th>\n",
       "      <th>Age</th>\n",
       "      <th>Fnlwgt</th>\n",
       "      <th>Education_num</th>\n",
       "      <th>Sex</th>\n",
       "      <th>Capital_gain</th>\n",
       "      <th>Capital_loss</th>\n",
       "      <th>Hours_per_week</th>\n",
       "      <th>Income</th>\n",
       "      <th>Workclass_0</th>\n",
       "      <th>Workclass_1</th>\n",
       "      <th>...</th>\n",
       "      <th>Native_country_32</th>\n",
       "      <th>Native_country_33</th>\n",
       "      <th>Native_country_34</th>\n",
       "      <th>Native_country_35</th>\n",
       "      <th>Native_country_36</th>\n",
       "      <th>Native_country_37</th>\n",
       "      <th>Native_country_38</th>\n",
       "      <th>Native_country_39</th>\n",
       "      <th>Native_country_40</th>\n",
       "      <th>Native_country_41</th>\n",
       "    </tr>\n",
       "  </thead>\n",
       "  <tbody>\n",
       "    <tr>\n",
       "      <th>0</th>\n",
       "      <td>50</td>\n",
       "      <td>83311</td>\n",
       "      <td>13</td>\n",
       "      <td>1</td>\n",
       "      <td>0</td>\n",
       "      <td>0</td>\n",
       "      <td>13</td>\n",
       "      <td>0</td>\n",
       "      <td>0</td>\n",
       "      <td>0</td>\n",
       "      <td>...</td>\n",
       "      <td>0</td>\n",
       "      <td>0</td>\n",
       "      <td>0</td>\n",
       "      <td>0</td>\n",
       "      <td>0</td>\n",
       "      <td>0</td>\n",
       "      <td>0</td>\n",
       "      <td>1</td>\n",
       "      <td>0</td>\n",
       "      <td>0</td>\n",
       "    </tr>\n",
       "    <tr>\n",
       "      <th>1</th>\n",
       "      <td>38</td>\n",
       "      <td>215646</td>\n",
       "      <td>9</td>\n",
       "      <td>1</td>\n",
       "      <td>0</td>\n",
       "      <td>0</td>\n",
       "      <td>40</td>\n",
       "      <td>0</td>\n",
       "      <td>0</td>\n",
       "      <td>0</td>\n",
       "      <td>...</td>\n",
       "      <td>0</td>\n",
       "      <td>0</td>\n",
       "      <td>0</td>\n",
       "      <td>0</td>\n",
       "      <td>0</td>\n",
       "      <td>0</td>\n",
       "      <td>0</td>\n",
       "      <td>1</td>\n",
       "      <td>0</td>\n",
       "      <td>0</td>\n",
       "    </tr>\n",
       "    <tr>\n",
       "      <th>2</th>\n",
       "      <td>53</td>\n",
       "      <td>234721</td>\n",
       "      <td>7</td>\n",
       "      <td>1</td>\n",
       "      <td>0</td>\n",
       "      <td>0</td>\n",
       "      <td>40</td>\n",
       "      <td>0</td>\n",
       "      <td>0</td>\n",
       "      <td>0</td>\n",
       "      <td>...</td>\n",
       "      <td>0</td>\n",
       "      <td>0</td>\n",
       "      <td>0</td>\n",
       "      <td>0</td>\n",
       "      <td>0</td>\n",
       "      <td>0</td>\n",
       "      <td>0</td>\n",
       "      <td>1</td>\n",
       "      <td>0</td>\n",
       "      <td>0</td>\n",
       "    </tr>\n",
       "    <tr>\n",
       "      <th>3</th>\n",
       "      <td>28</td>\n",
       "      <td>338409</td>\n",
       "      <td>13</td>\n",
       "      <td>0</td>\n",
       "      <td>0</td>\n",
       "      <td>0</td>\n",
       "      <td>40</td>\n",
       "      <td>0</td>\n",
       "      <td>0</td>\n",
       "      <td>0</td>\n",
       "      <td>...</td>\n",
       "      <td>0</td>\n",
       "      <td>0</td>\n",
       "      <td>0</td>\n",
       "      <td>0</td>\n",
       "      <td>0</td>\n",
       "      <td>0</td>\n",
       "      <td>0</td>\n",
       "      <td>0</td>\n",
       "      <td>0</td>\n",
       "      <td>0</td>\n",
       "    </tr>\n",
       "    <tr>\n",
       "      <th>4</th>\n",
       "      <td>37</td>\n",
       "      <td>284582</td>\n",
       "      <td>14</td>\n",
       "      <td>0</td>\n",
       "      <td>0</td>\n",
       "      <td>0</td>\n",
       "      <td>40</td>\n",
       "      <td>0</td>\n",
       "      <td>0</td>\n",
       "      <td>0</td>\n",
       "      <td>...</td>\n",
       "      <td>0</td>\n",
       "      <td>0</td>\n",
       "      <td>0</td>\n",
       "      <td>0</td>\n",
       "      <td>0</td>\n",
       "      <td>0</td>\n",
       "      <td>0</td>\n",
       "      <td>1</td>\n",
       "      <td>0</td>\n",
       "      <td>0</td>\n",
       "    </tr>\n",
       "  </tbody>\n",
       "</table>\n",
       "<p>5 rows × 108 columns</p>\n",
       "</div>"
      ],
      "text/plain": [
       "   Age  Fnlwgt  Education_num  Sex  Capital_gain  Capital_loss  \\\n",
       "0   50   83311             13    1             0             0   \n",
       "1   38  215646              9    1             0             0   \n",
       "2   53  234721              7    1             0             0   \n",
       "3   28  338409             13    0             0             0   \n",
       "4   37  284582             14    0             0             0   \n",
       "\n",
       "   Hours_per_week  Income  Workclass_0  Workclass_1  ...  Native_country_32  \\\n",
       "0              13       0            0            0  ...                  0   \n",
       "1              40       0            0            0  ...                  0   \n",
       "2              40       0            0            0  ...                  0   \n",
       "3              40       0            0            0  ...                  0   \n",
       "4              40       0            0            0  ...                  0   \n",
       "\n",
       "   Native_country_33  Native_country_34  Native_country_35  Native_country_36  \\\n",
       "0                  0                  0                  0                  0   \n",
       "1                  0                  0                  0                  0   \n",
       "2                  0                  0                  0                  0   \n",
       "3                  0                  0                  0                  0   \n",
       "4                  0                  0                  0                  0   \n",
       "\n",
       "   Native_country_37  Native_country_38  Native_country_39  Native_country_40  \\\n",
       "0                  0                  0                  1                  0   \n",
       "1                  0                  0                  1                  0   \n",
       "2                  0                  0                  1                  0   \n",
       "3                  0                  0                  0                  0   \n",
       "4                  0                  0                  1                  0   \n",
       "\n",
       "   Native_country_41  \n",
       "0                  0  \n",
       "1                  0  \n",
       "2                  0  \n",
       "3                  0  \n",
       "4                  0  \n",
       "\n",
       "[5 rows x 108 columns]"
      ]
     },
     "execution_count": 62,
     "metadata": {},
     "output_type": "execute_result"
    }
   ],
   "source": [
    "df.head()"
   ]
  },
  {
   "cell_type": "code",
   "execution_count": 63,
   "metadata": {},
   "outputs": [
    {
     "data": {
      "text/plain": [
       "(32560, 108)"
      ]
     },
     "execution_count": 63,
     "metadata": {},
     "output_type": "execute_result"
    }
   ],
   "source": [
    "df.shape\n",
    "#the new shape is 32560 rows and 108 columns is availble in the data"
   ]
  },
  {
   "cell_type": "code",
   "execution_count": 39,
   "metadata": {},
   "outputs": [
    {
     "data": {
      "text/html": [
       "<div>\n",
       "<style scoped>\n",
       "    .dataframe tbody tr th:only-of-type {\n",
       "        vertical-align: middle;\n",
       "    }\n",
       "\n",
       "    .dataframe tbody tr th {\n",
       "        vertical-align: top;\n",
       "    }\n",
       "\n",
       "    .dataframe thead th {\n",
       "        text-align: right;\n",
       "    }\n",
       "</style>\n",
       "<table border=\"1\" class=\"dataframe\">\n",
       "  <thead>\n",
       "    <tr style=\"text-align: right;\">\n",
       "      <th></th>\n",
       "      <th>Age</th>\n",
       "      <th>Fnlwgt</th>\n",
       "      <th>Education_num</th>\n",
       "      <th>Sex</th>\n",
       "      <th>Capital_gain</th>\n",
       "      <th>Capital_loss</th>\n",
       "      <th>Hours_per_week</th>\n",
       "    </tr>\n",
       "  </thead>\n",
       "  <tbody>\n",
       "    <tr>\n",
       "      <th>count</th>\n",
       "      <td>32560.000000</td>\n",
       "      <td>3.256000e+04</td>\n",
       "      <td>32560.000000</td>\n",
       "      <td>32560.000000</td>\n",
       "      <td>32560.000000</td>\n",
       "      <td>32560.000000</td>\n",
       "      <td>32560.000000</td>\n",
       "    </tr>\n",
       "    <tr>\n",
       "      <th>mean</th>\n",
       "      <td>38.581634</td>\n",
       "      <td>1.897818e+05</td>\n",
       "      <td>10.080590</td>\n",
       "      <td>0.669195</td>\n",
       "      <td>1077.615172</td>\n",
       "      <td>87.306511</td>\n",
       "      <td>40.437469</td>\n",
       "    </tr>\n",
       "    <tr>\n",
       "      <th>std</th>\n",
       "      <td>13.640642</td>\n",
       "      <td>1.055498e+05</td>\n",
       "      <td>2.572709</td>\n",
       "      <td>0.470510</td>\n",
       "      <td>7385.402999</td>\n",
       "      <td>402.966116</td>\n",
       "      <td>12.347618</td>\n",
       "    </tr>\n",
       "    <tr>\n",
       "      <th>min</th>\n",
       "      <td>17.000000</td>\n",
       "      <td>1.228500e+04</td>\n",
       "      <td>1.000000</td>\n",
       "      <td>0.000000</td>\n",
       "      <td>0.000000</td>\n",
       "      <td>0.000000</td>\n",
       "      <td>1.000000</td>\n",
       "    </tr>\n",
       "    <tr>\n",
       "      <th>25%</th>\n",
       "      <td>28.000000</td>\n",
       "      <td>1.178315e+05</td>\n",
       "      <td>9.000000</td>\n",
       "      <td>0.000000</td>\n",
       "      <td>0.000000</td>\n",
       "      <td>0.000000</td>\n",
       "      <td>40.000000</td>\n",
       "    </tr>\n",
       "    <tr>\n",
       "      <th>50%</th>\n",
       "      <td>37.000000</td>\n",
       "      <td>1.783630e+05</td>\n",
       "      <td>10.000000</td>\n",
       "      <td>1.000000</td>\n",
       "      <td>0.000000</td>\n",
       "      <td>0.000000</td>\n",
       "      <td>40.000000</td>\n",
       "    </tr>\n",
       "    <tr>\n",
       "      <th>75%</th>\n",
       "      <td>48.000000</td>\n",
       "      <td>2.370545e+05</td>\n",
       "      <td>12.000000</td>\n",
       "      <td>1.000000</td>\n",
       "      <td>0.000000</td>\n",
       "      <td>0.000000</td>\n",
       "      <td>45.000000</td>\n",
       "    </tr>\n",
       "    <tr>\n",
       "      <th>max</th>\n",
       "      <td>90.000000</td>\n",
       "      <td>1.484705e+06</td>\n",
       "      <td>16.000000</td>\n",
       "      <td>1.000000</td>\n",
       "      <td>99999.000000</td>\n",
       "      <td>4356.000000</td>\n",
       "      <td>99.000000</td>\n",
       "    </tr>\n",
       "  </tbody>\n",
       "</table>\n",
       "</div>"
      ],
      "text/plain": [
       "                Age        Fnlwgt  Education_num           Sex  Capital_gain  \\\n",
       "count  32560.000000  3.256000e+04   32560.000000  32560.000000  32560.000000   \n",
       "mean      38.581634  1.897818e+05      10.080590      0.669195   1077.615172   \n",
       "std       13.640642  1.055498e+05       2.572709      0.470510   7385.402999   \n",
       "min       17.000000  1.228500e+04       1.000000      0.000000      0.000000   \n",
       "25%       28.000000  1.178315e+05       9.000000      0.000000      0.000000   \n",
       "50%       37.000000  1.783630e+05      10.000000      1.000000      0.000000   \n",
       "75%       48.000000  2.370545e+05      12.000000      1.000000      0.000000   \n",
       "max       90.000000  1.484705e+06      16.000000      1.000000  99999.000000   \n",
       "\n",
       "       Capital_loss  Hours_per_week  \n",
       "count  32560.000000    32560.000000  \n",
       "mean      87.306511       40.437469  \n",
       "std      402.966116       12.347618  \n",
       "min        0.000000        1.000000  \n",
       "25%        0.000000       40.000000  \n",
       "50%        0.000000       40.000000  \n",
       "75%        0.000000       45.000000  \n",
       "max     4356.000000       99.000000  "
      ]
     },
     "execution_count": 39,
     "metadata": {},
     "output_type": "execute_result"
    }
   ],
   "source": [
    "#describing the dataset using describe method.\n",
    "df.iloc[:,:7].describe()"
   ]
  },
  {
   "cell_type": "code",
   "execution_count": null,
   "metadata": {},
   "outputs": [],
   "source": [
    "#here standerd daviation looks abnormal and means and midian(50%) looks imbalanced means there is outlires present in the features,"
   ]
  },
  {
   "cell_type": "code",
   "execution_count": 64,
   "metadata": {},
   "outputs": [
    {
     "data": {
      "image/png": "[encoded data removed]",
      "text/plain": [
       "<Figure size 1440x1080 with 7 Axes>"
      ]
     },
     "metadata": {},
     "output_type": "display_data"
    }
   ],
   "source": [
    "#ploting the distribition plot to check the data distribution\n",
    "plt.figure(figsize=(20,15),facecolor='white')\n",
    "pltnum=1\n",
    "\n",
    "for column in df.iloc[:,:7]:\n",
    "    if pltnum <= 30:\n",
    "        plt.subplot(4,3,pltnum)\n",
    "        sns.distplot(df[column])\n",
    "        plt.xlabel(column,fontsize=10)\n",
    "        \n",
    "    pltnum +=1\n",
    "plt.show()    "
   ]
  },
  {
   "cell_type": "code",
   "execution_count": null,
   "metadata": {},
   "outputs": [],
   "source": [
    "#here the outliers are available in the many features.i.e. Fnlwgt,Education_num,Capital_gain,Capital_loss,Hours_per_week\n",
    "#for all this features having outliers avaliable"
   ]
  },
  {
   "cell_type": "code",
   "execution_count": 65,
   "metadata": {},
   "outputs": [
    {
     "data": {
      "image/png": "[encoded data removed]",
      "text/plain": [
       "<Figure size 1296x864 with 7 Axes>"
      ]
     },
     "metadata": {},
     "output_type": "display_data"
    }
   ],
   "source": [
    "#Checking the Ouliars using boxplot:\n",
    "plt.figure(figsize=(18,12),facecolor='white')\n",
    "pltnum=1\n",
    "\n",
    "for columns in df.iloc[:,:7]:\n",
    "    if pltnum <= 16:\n",
    "        plt.subplot(4,3,pltnum)\n",
    "        sns.boxplot(df[columns])\n",
    "        plt.xlabel(columns,fontsize=8)\n",
    "        \n",
    "    pltnum +=1\n",
    "plt.tight_layout()    "
   ]
  },
  {
   "cell_type": "code",
   "execution_count": null,
   "metadata": {},
   "outputs": [],
   "source": [
    "#here we can see that from boxplot the ouliers are present in max of the columns,\n",
    "#i.e Age,Fnlwgt,Education_num,Capital_gain,Capital_loss,Hours_per_week"
   ]
  },
  {
   "cell_type": "code",
   "execution_count": 66,
   "metadata": {},
   "outputs": [],
   "source": [
    "#using the IQR method to remove outliers\n",
    "q1=df.iloc[:,[0,1,2,4,5,6]].quantile(0.25)\n",
    "\n",
    "q3=df.iloc[:,[0,1,2,4,5,6]].quantile(0.75)\n",
    "\n",
    "iqr=q3-q1"
   ]
  },
  {
   "cell_type": "code",
   "execution_count": 67,
   "metadata": {},
   "outputs": [],
   "source": [
    "#checking the outliers and storing the index value\n",
    "for column in df.iloc[:,[0,1,4,5,6]]:\n",
    "    index=np.where(df[column] > (q3[column] + (1.5 * iqr[column])))\n",
    "    \n",
    "for column in df.iloc[:,[2,6]]:\n",
    "    index=np.where(df[column] < (q3[column] - (1.5 * iqr[column])))    "
   ]
  },
  {
   "cell_type": "code",
   "execution_count": 68,
   "metadata": {},
   "outputs": [
    {
     "data": {
      "text/plain": [
       "(array([    0,     5,    11, ..., 32544, 32552, 32558], dtype=int64),)"
      ]
     },
     "execution_count": 68,
     "metadata": {},
     "output_type": "execute_result"
    }
   ],
   "source": [
    "index"
   ]
  },
  {
   "cell_type": "code",
   "execution_count": 69,
   "metadata": {},
   "outputs": [],
   "source": [
    "#dropping the oultiers index\n",
    "df=df.drop(df.index[index])"
   ]
  },
  {
   "cell_type": "code",
   "execution_count": 70,
   "metadata": {},
   "outputs": [
    {
     "data": {
      "text/plain": [
       "(25311, 108)"
      ]
     },
     "execution_count": 70,
     "metadata": {},
     "output_type": "execute_result"
    }
   ],
   "source": [
    "#checking the new shape after deleting the outlers\n",
    "df.shape"
   ]
  },
  {
   "cell_type": "code",
   "execution_count": 71,
   "metadata": {},
   "outputs": [
    {
     "name": "stdout",
     "output_type": "stream",
     "text": [
      "22.263513513513512\n"
     ]
    }
   ],
   "source": [
    "#Data Loss\n",
    "loss_percentage=(32560-25311)/32560*100\n",
    "print(loss_percentage)"
   ]
  },
  {
   "cell_type": "code",
   "execution_count": 72,
   "metadata": {},
   "outputs": [
    {
     "data": {
      "image/png": "[encoded data removed]",
      "text/plain": [
       "<Figure size 1296x864 with 7 Axes>"
      ]
     },
     "metadata": {},
     "output_type": "display_data"
    }
   ],
   "source": [
    "#Checking the Ouliars using boxplot:\n",
    "plt.figure(figsize=(18,12),facecolor='white')\n",
    "pltnum=1\n",
    "\n",
    "for columns in df.iloc[:,:7]:\n",
    "    if pltnum <= 16:\n",
    "        plt.subplot(4,3,pltnum)\n",
    "        sns.boxplot(df[columns])\n",
    "        plt.xlabel(columns,fontsize=8)\n",
    "        \n",
    "    pltnum +=1\n",
    "plt.tight_layout()    "
   ]
  },
  {
   "cell_type": "code",
   "execution_count": null,
   "metadata": {},
   "outputs": [],
   "source": [
    "#the outlier has been removed after performing the IQR there are still some outliers are available."
   ]
  },
  {
   "cell_type": "code",
   "execution_count": 73,
   "metadata": {},
   "outputs": [
    {
     "data": {
      "text/plain": [
       "Income            1.000000\n",
       "Education_num     0.334881\n",
       "Age               0.243497\n",
       "Capital_gain      0.214956\n",
       "Sex               0.212392\n",
       "Hours_per_week    0.151466\n",
       "Capital_loss      0.146476\n",
       "Fnlwgt           -0.005444\n",
       "Name: Income, dtype: float64"
      ]
     },
     "execution_count": 73,
     "metadata": {},
     "output_type": "execute_result"
    }
   ],
   "source": [
    "#checking the skewness and correlation of target with features.\n",
    "df_corr=df.iloc[:,:8].abs().corr()\n",
    "df_corr['Income'].sort_values(ascending=False)"
   ]
  },
  {
   "cell_type": "code",
   "execution_count": null,
   "metadata": {},
   "outputs": [],
   "source": [
    "#there is no skweness available as the all the features range is between -0.5 to +0.5"
   ]
  },
  {
   "cell_type": "code",
   "execution_count": 74,
   "metadata": {},
   "outputs": [
    {
     "data": {
      "image/png": "[encoded data removed]",
      "text/plain": [
       "<Figure size 1584x1152 with 2 Axes>"
      ]
     },
     "metadata": {
      "needs_background": "light"
     },
     "output_type": "display_data"
    }
   ],
   "source": [
    "#using the heatmap to check the multicollinearity between features.\n",
    "corr_matrix=df.iloc[:,:7].abs().corr()\n",
    "\n",
    "plt.figure(figsize=(22,16))\n",
    "\n",
    "sns.heatmap(corr_matrix,vmin=-1,vmax=1,center=True,annot=True, fmt='.2g',linewidths=0.1)\n",
    "plt.show()\n",
    "\n",
    "#as we can see in heatmap there is no correlation between the features and labels"
   ]
  },
  {
   "cell_type": "code",
   "execution_count": null,
   "metadata": {},
   "outputs": [],
   "source": [
    "#there is no multicolliniarity issue looks between the features."
   ]
  },
  {
   "cell_type": "code",
   "execution_count": 85,
   "metadata": {},
   "outputs": [],
   "source": [
    "#Saving the features to perform the standerd scalar\n",
    "col_name=['Age','Fnlwgt','Education_num','Sex','Capital_gain','Capital_loss','Hours_per_week']\n",
    "features = df[col_name]"
   ]
  },
  {
   "cell_type": "code",
   "execution_count": 86,
   "metadata": {},
   "outputs": [],
   "source": [
    "scalar=StandardScaler()\n",
    "x_new=scalar.fit_transform(features.values)"
   ]
  },
  {
   "cell_type": "code",
   "execution_count": 88,
   "metadata": {},
   "outputs": [],
   "source": [
    "df[['Age','Fnlwgt','Education_num','Sex','Capital_gain','Capital_loss','Hours_per_week']]=x_new"
   ]
  },
  {
   "cell_type": "code",
   "execution_count": 89,
   "metadata": {},
   "outputs": [
    {
     "data": {
      "text/html": [
       "<div>\n",
       "<style scoped>\n",
       "    .dataframe tbody tr th:only-of-type {\n",
       "        vertical-align: middle;\n",
       "    }\n",
       "\n",
       "    .dataframe tbody tr th {\n",
       "        vertical-align: top;\n",
       "    }\n",
       "\n",
       "    .dataframe thead th {\n",
       "        text-align: right;\n",
       "    }\n",
       "</style>\n",
       "<table border=\"1\" class=\"dataframe\">\n",
       "  <thead>\n",
       "    <tr style=\"text-align: right;\">\n",
       "      <th></th>\n",
       "      <th>Age</th>\n",
       "      <th>Fnlwgt</th>\n",
       "      <th>Education_num</th>\n",
       "      <th>Sex</th>\n",
       "      <th>Capital_gain</th>\n",
       "      <th>Capital_loss</th>\n",
       "      <th>Hours_per_week</th>\n",
       "      <th>Income</th>\n",
       "      <th>Workclass_0</th>\n",
       "      <th>Workclass_1</th>\n",
       "      <th>...</th>\n",
       "      <th>Native_country_32</th>\n",
       "      <th>Native_country_33</th>\n",
       "      <th>Native_country_34</th>\n",
       "      <th>Native_country_35</th>\n",
       "      <th>Native_country_36</th>\n",
       "      <th>Native_country_37</th>\n",
       "      <th>Native_country_38</th>\n",
       "      <th>Native_country_39</th>\n",
       "      <th>Native_country_40</th>\n",
       "      <th>Native_country_41</th>\n",
       "    </tr>\n",
       "  </thead>\n",
       "  <tbody>\n",
       "    <tr>\n",
       "      <th>1</th>\n",
       "      <td>-0.096754</td>\n",
       "      <td>0.245332</td>\n",
       "      <td>-0.477479</td>\n",
       "      <td>0.615850</td>\n",
       "      <td>-0.155408</td>\n",
       "      <td>-0.228508</td>\n",
       "      <td>-0.562922</td>\n",
       "      <td>0</td>\n",
       "      <td>0</td>\n",
       "      <td>0</td>\n",
       "      <td>...</td>\n",
       "      <td>0</td>\n",
       "      <td>0</td>\n",
       "      <td>0</td>\n",
       "      <td>0</td>\n",
       "      <td>0</td>\n",
       "      <td>0</td>\n",
       "      <td>0</td>\n",
       "      <td>1</td>\n",
       "      <td>0</td>\n",
       "      <td>0</td>\n",
       "    </tr>\n",
       "    <tr>\n",
       "      <th>2</th>\n",
       "      <td>1.143551</td>\n",
       "      <td>0.426346</td>\n",
       "      <td>-1.256760</td>\n",
       "      <td>0.615850</td>\n",
       "      <td>-0.155408</td>\n",
       "      <td>-0.228508</td>\n",
       "      <td>-0.562922</td>\n",
       "      <td>0</td>\n",
       "      <td>0</td>\n",
       "      <td>0</td>\n",
       "      <td>...</td>\n",
       "      <td>0</td>\n",
       "      <td>0</td>\n",
       "      <td>0</td>\n",
       "      <td>0</td>\n",
       "      <td>0</td>\n",
       "      <td>0</td>\n",
       "      <td>0</td>\n",
       "      <td>1</td>\n",
       "      <td>0</td>\n",
       "      <td>0</td>\n",
       "    </tr>\n",
       "    <tr>\n",
       "      <th>3</th>\n",
       "      <td>-0.923624</td>\n",
       "      <td>1.410303</td>\n",
       "      <td>1.081082</td>\n",
       "      <td>-1.623773</td>\n",
       "      <td>-0.155408</td>\n",
       "      <td>-0.228508</td>\n",
       "      <td>-0.562922</td>\n",
       "      <td>0</td>\n",
       "      <td>0</td>\n",
       "      <td>0</td>\n",
       "      <td>...</td>\n",
       "      <td>0</td>\n",
       "      <td>0</td>\n",
       "      <td>0</td>\n",
       "      <td>0</td>\n",
       "      <td>0</td>\n",
       "      <td>0</td>\n",
       "      <td>0</td>\n",
       "      <td>0</td>\n",
       "      <td>0</td>\n",
       "      <td>0</td>\n",
       "    </tr>\n",
       "    <tr>\n",
       "      <th>4</th>\n",
       "      <td>-0.179441</td>\n",
       "      <td>0.899506</td>\n",
       "      <td>1.470722</td>\n",
       "      <td>-1.623773</td>\n",
       "      <td>-0.155408</td>\n",
       "      <td>-0.228508</td>\n",
       "      <td>-0.562922</td>\n",
       "      <td>0</td>\n",
       "      <td>0</td>\n",
       "      <td>0</td>\n",
       "      <td>...</td>\n",
       "      <td>0</td>\n",
       "      <td>0</td>\n",
       "      <td>0</td>\n",
       "      <td>0</td>\n",
       "      <td>0</td>\n",
       "      <td>0</td>\n",
       "      <td>0</td>\n",
       "      <td>1</td>\n",
       "      <td>0</td>\n",
       "      <td>0</td>\n",
       "    </tr>\n",
       "    <tr>\n",
       "      <th>6</th>\n",
       "      <td>1.060864</td>\n",
       "      <td>0.188356</td>\n",
       "      <td>-0.477479</td>\n",
       "      <td>0.615850</td>\n",
       "      <td>-0.155408</td>\n",
       "      <td>-0.228508</td>\n",
       "      <td>-0.000467</td>\n",
       "      <td>1</td>\n",
       "      <td>0</td>\n",
       "      <td>0</td>\n",
       "      <td>...</td>\n",
       "      <td>0</td>\n",
       "      <td>0</td>\n",
       "      <td>0</td>\n",
       "      <td>0</td>\n",
       "      <td>0</td>\n",
       "      <td>0</td>\n",
       "      <td>0</td>\n",
       "      <td>1</td>\n",
       "      <td>0</td>\n",
       "      <td>0</td>\n",
       "    </tr>\n",
       "  </tbody>\n",
       "</table>\n",
       "<p>5 rows × 108 columns</p>\n",
       "</div>"
      ],
      "text/plain": [
       "        Age    Fnlwgt  Education_num       Sex  Capital_gain  Capital_loss  \\\n",
       "1 -0.096754  0.245332      -0.477479  0.615850     -0.155408     -0.228508   \n",
       "2  1.143551  0.426346      -1.256760  0.615850     -0.155408     -0.228508   \n",
       "3 -0.923624  1.410303       1.081082 -1.623773     -0.155408     -0.228508   \n",
       "4 -0.179441  0.899506       1.470722 -1.623773     -0.155408     -0.228508   \n",
       "6  1.060864  0.188356      -0.477479  0.615850     -0.155408     -0.228508   \n",
       "\n",
       "   Hours_per_week  Income  Workclass_0  Workclass_1  ...  Native_country_32  \\\n",
       "1       -0.562922       0            0            0  ...                  0   \n",
       "2       -0.562922       0            0            0  ...                  0   \n",
       "3       -0.562922       0            0            0  ...                  0   \n",
       "4       -0.562922       0            0            0  ...                  0   \n",
       "6       -0.000467       1            0            0  ...                  0   \n",
       "\n",
       "   Native_country_33  Native_country_34  Native_country_35  Native_country_36  \\\n",
       "1                  0                  0                  0                  0   \n",
       "2                  0                  0                  0                  0   \n",
       "3                  0                  0                  0                  0   \n",
       "4                  0                  0                  0                  0   \n",
       "6                  0                  0                  0                  0   \n",
       "\n",
       "   Native_country_37  Native_country_38  Native_country_39  Native_country_40  \\\n",
       "1                  0                  0                  1                  0   \n",
       "2                  0                  0                  1                  0   \n",
       "3                  0                  0                  0                  0   \n",
       "4                  0                  0                  1                  0   \n",
       "6                  0                  0                  1                  0   \n",
       "\n",
       "   Native_country_41  \n",
       "1                  0  \n",
       "2                  0  \n",
       "3                  0  \n",
       "4                  0  \n",
       "6                  0  \n",
       "\n",
       "[5 rows x 108 columns]"
      ]
     },
     "execution_count": 89,
     "metadata": {},
     "output_type": "execute_result"
    }
   ],
   "source": [
    "df.head()"
   ]
  },
  {
   "cell_type": "code",
   "execution_count": 90,
   "metadata": {},
   "outputs": [
    {
     "data": {
      "text/html": [
       "<div>\n",
       "<style scoped>\n",
       "    .dataframe tbody tr th:only-of-type {\n",
       "        vertical-align: middle;\n",
       "    }\n",
       "\n",
       "    .dataframe tbody tr th {\n",
       "        vertical-align: top;\n",
       "    }\n",
       "\n",
       "    .dataframe thead th {\n",
       "        text-align: right;\n",
       "    }\n",
       "</style>\n",
       "<table border=\"1\" class=\"dataframe\">\n",
       "  <thead>\n",
       "    <tr style=\"text-align: right;\">\n",
       "      <th></th>\n",
       "      <th>Age</th>\n",
       "      <th>Fnlwgt</th>\n",
       "      <th>Education_num</th>\n",
       "      <th>Sex</th>\n",
       "      <th>Capital_gain</th>\n",
       "      <th>Capital_loss</th>\n",
       "      <th>Hours_per_week</th>\n",
       "    </tr>\n",
       "  </thead>\n",
       "  <tbody>\n",
       "    <tr>\n",
       "      <th>1</th>\n",
       "      <td>-0.096754</td>\n",
       "      <td>0.245332</td>\n",
       "      <td>-0.477479</td>\n",
       "      <td>0.615850</td>\n",
       "      <td>-0.155408</td>\n",
       "      <td>-0.228508</td>\n",
       "      <td>-0.562922</td>\n",
       "    </tr>\n",
       "    <tr>\n",
       "      <th>2</th>\n",
       "      <td>1.143551</td>\n",
       "      <td>0.426346</td>\n",
       "      <td>-1.256760</td>\n",
       "      <td>0.615850</td>\n",
       "      <td>-0.155408</td>\n",
       "      <td>-0.228508</td>\n",
       "      <td>-0.562922</td>\n",
       "    </tr>\n",
       "    <tr>\n",
       "      <th>3</th>\n",
       "      <td>-0.923624</td>\n",
       "      <td>1.410303</td>\n",
       "      <td>1.081082</td>\n",
       "      <td>-1.623773</td>\n",
       "      <td>-0.155408</td>\n",
       "      <td>-0.228508</td>\n",
       "      <td>-0.562922</td>\n",
       "    </tr>\n",
       "    <tr>\n",
       "      <th>4</th>\n",
       "      <td>-0.179441</td>\n",
       "      <td>0.899506</td>\n",
       "      <td>1.470722</td>\n",
       "      <td>-1.623773</td>\n",
       "      <td>-0.155408</td>\n",
       "      <td>-0.228508</td>\n",
       "      <td>-0.562922</td>\n",
       "    </tr>\n",
       "    <tr>\n",
       "      <th>6</th>\n",
       "      <td>1.060864</td>\n",
       "      <td>0.188356</td>\n",
       "      <td>-0.477479</td>\n",
       "      <td>0.615850</td>\n",
       "      <td>-0.155408</td>\n",
       "      <td>-0.228508</td>\n",
       "      <td>-0.000467</td>\n",
       "    </tr>\n",
       "  </tbody>\n",
       "</table>\n",
       "</div>"
      ],
      "text/plain": [
       "        Age    Fnlwgt  Education_num       Sex  Capital_gain  Capital_loss  \\\n",
       "1 -0.096754  0.245332      -0.477479  0.615850     -0.155408     -0.228508   \n",
       "2  1.143551  0.426346      -1.256760  0.615850     -0.155408     -0.228508   \n",
       "3 -0.923624  1.410303       1.081082 -1.623773     -0.155408     -0.228508   \n",
       "4 -0.179441  0.899506       1.470722 -1.623773     -0.155408     -0.228508   \n",
       "6  1.060864  0.188356      -0.477479  0.615850     -0.155408     -0.228508   \n",
       "\n",
       "   Hours_per_week  \n",
       "1       -0.562922  \n",
       "2       -0.562922  \n",
       "3       -0.562922  \n",
       "4       -0.562922  \n",
       "6       -0.000467  "
      ]
     },
     "execution_count": 90,
     "metadata": {},
     "output_type": "execute_result"
    }
   ],
   "source": [
    "x_dt=df.iloc[:,:7]\n",
    "x_dt.head()"
   ]
  },
  {
   "cell_type": "code",
   "execution_count": 91,
   "metadata": {},
   "outputs": [
    {
     "data": {
      "text/html": [
       "<div>\n",
       "<style scoped>\n",
       "    .dataframe tbody tr th:only-of-type {\n",
       "        vertical-align: middle;\n",
       "    }\n",
       "\n",
       "    .dataframe tbody tr th {\n",
       "        vertical-align: top;\n",
       "    }\n",
       "\n",
       "    .dataframe thead th {\n",
       "        text-align: right;\n",
       "    }\n",
       "</style>\n",
       "<table border=\"1\" class=\"dataframe\">\n",
       "  <thead>\n",
       "    <tr style=\"text-align: right;\">\n",
       "      <th></th>\n",
       "      <th>feature name</th>\n",
       "      <th>vif score</th>\n",
       "    </tr>\n",
       "  </thead>\n",
       "  <tbody>\n",
       "    <tr>\n",
       "      <th>0</th>\n",
       "      <td>Age</td>\n",
       "      <td>1.022772</td>\n",
       "    </tr>\n",
       "    <tr>\n",
       "      <th>1</th>\n",
       "      <td>Fnlwgt</td>\n",
       "      <td>1.010364</td>\n",
       "    </tr>\n",
       "    <tr>\n",
       "      <th>2</th>\n",
       "      <td>Education_num</td>\n",
       "      <td>1.038689</td>\n",
       "    </tr>\n",
       "    <tr>\n",
       "      <th>3</th>\n",
       "      <td>Sex</td>\n",
       "      <td>1.029930</td>\n",
       "    </tr>\n",
       "    <tr>\n",
       "      <th>4</th>\n",
       "      <td>Capital_gain</td>\n",
       "      <td>1.031196</td>\n",
       "    </tr>\n",
       "    <tr>\n",
       "      <th>5</th>\n",
       "      <td>Capital_loss</td>\n",
       "      <td>1.015598</td>\n",
       "    </tr>\n",
       "    <tr>\n",
       "      <th>6</th>\n",
       "      <td>Hours_per_week</td>\n",
       "      <td>1.044468</td>\n",
       "    </tr>\n",
       "  </tbody>\n",
       "</table>\n",
       "</div>"
      ],
      "text/plain": [
       "     feature name  vif score\n",
       "0             Age   1.022772\n",
       "1          Fnlwgt   1.010364\n",
       "2   Education_num   1.038689\n",
       "3             Sex   1.029930\n",
       "4    Capital_gain   1.031196\n",
       "5    Capital_loss   1.015598\n",
       "6  Hours_per_week   1.044468"
      ]
     },
     "execution_count": 91,
     "metadata": {},
     "output_type": "execute_result"
    }
   ],
   "source": [
    "#performing the variance infletion factor to check multicolliniarity between features\n",
    "vif=pd.DataFrame()\n",
    "vif['feature name']=x_dt.columns\n",
    "vif['vif score']=[variance_inflation_factor(x_new,i) for i in range(x_new.shape[1])]\n",
    "vif"
   ]
  },
  {
   "cell_type": "code",
   "execution_count": null,
   "metadata": {},
   "outputs": [],
   "source": [
    "#there is no multicolliniarty found between the features as all the vif score is below 5."
   ]
  },
  {
   "cell_type": "code",
   "execution_count": 92,
   "metadata": {},
   "outputs": [],
   "source": [
    "#seprating the x features and target from the dataset.\n",
    "x=df.drop(columns='Income')\n",
    "y=df['Income']"
   ]
  },
  {
   "cell_type": "code",
   "execution_count": 93,
   "metadata": {},
   "outputs": [
    {
     "data": {
      "text/plain": [
       "0    18115\n",
       "1     7196\n",
       "Name: Income, dtype: int64"
      ]
     },
     "execution_count": 93,
     "metadata": {},
     "output_type": "execute_result"
    }
   ],
   "source": [
    "#Checking the upsampling and downsampling(class imbalanced problem) for the target columns\n",
    "y.value_counts()"
   ]
  },
  {
   "cell_type": "code",
   "execution_count": 114,
   "metadata": {},
   "outputs": [
    {
     "data": {
      "image/png": "[encoded data removed]",
      "text/plain": [
       "<Figure size 432x288 with 1 Axes>"
      ]
     },
     "metadata": {
      "needs_background": "light"
     },
     "output_type": "display_data"
    }
   ],
   "source": [
    "#Plotting the count plot to check label data\n",
    "sns.countplot(x='Income',data=df)\n",
    "plt.show()"
   ]
  },
  {
   "cell_type": "code",
   "execution_count": null,
   "metadata": {},
   "outputs": [],
   "source": [
    "#here we can see the issue of class imbalanced problem as 0 has 18115 count and 1 has only 7196 count."
   ]
  },
  {
   "cell_type": "code",
   "execution_count": 94,
   "metadata": {},
   "outputs": [],
   "source": [
    "#handling class imbalanced problem by oversampling the minority class using SMOTE:\n",
    "from imblearn.over_sampling import SMOTE"
   ]
  },
  {
   "cell_type": "code",
   "execution_count": 95,
   "metadata": {},
   "outputs": [],
   "source": [
    "SM=SMOTE()\n",
    "x_fit,y_fit=SM.fit_resample(x,y)"
   ]
  },
  {
   "cell_type": "code",
   "execution_count": 96,
   "metadata": {},
   "outputs": [
    {
     "data": {
      "text/plain": [
       "1    18115\n",
       "0    18115\n",
       "Name: Income, dtype: int64"
      ]
     },
     "execution_count": 96,
     "metadata": {},
     "output_type": "execute_result"
    }
   ],
   "source": [
    "#new the issue of class imbalanced problem has been solved.\n",
    "y_fit.value_counts()"
   ]
  },
  {
   "cell_type": "code",
   "execution_count": 97,
   "metadata": {},
   "outputs": [
    {
     "name": "stdout",
     "output_type": "stream",
     "text": [
      "Best Accuracy is : 85.11%\n",
      "The Best Random State is : 190\n"
     ]
    }
   ],
   "source": [
    "#Finding best Random State:\n",
    "maxAcc=0\n",
    "maxRs=0\n",
    "\n",
    "for i in range(1,200):\n",
    "    x_train,x_test,y_train,y_test=train_test_split(x_fit,y_fit,test_size=0.25,random_state=i)\n",
    "    dt=LogisticRegression()\n",
    "    dt.fit(x_train,y_train)\n",
    "    y_pred=dt.predict(x_test)\n",
    "    acc_s=accuracy_score(y_test,y_pred)\n",
    "    if acc_s > maxAcc:\n",
    "        maxAcc=acc_s\n",
    "        maxRs=i\n",
    "        \n",
    "print(f\"Best Accuracy is : {maxAcc* 100:.2f}%\")\n",
    "print(\"The Best Random State is :\",maxRs)"
   ]
  },
  {
   "cell_type": "code",
   "execution_count": 98,
   "metadata": {},
   "outputs": [],
   "source": [
    "#seprating the train and test datasets with the best find random state\n",
    "x_train,x_test,y_train,y_test=train_test_split(x_fit,y_fit,test_size=0.25,random_state=190)"
   ]
  },
  {
   "cell_type": "code",
   "execution_count": 99,
   "metadata": {},
   "outputs": [
    {
     "name": "stdout",
     "output_type": "stream",
     "text": [
      "\n",
      "==========Outputs of Logistics Reggression===========\n",
      "\n",
      "==========Accuracy Score===========\n",
      "Accuracy Score is : 85.11%\n",
      "\n",
      "======Classification Report=============\n",
      "              precision    recall  f1-score   support\n",
      "\n",
      "           0       0.86      0.83      0.85      4498\n",
      "           1       0.84      0.87      0.85      4560\n",
      "\n",
      "    accuracy                           0.85      9058\n",
      "   macro avg       0.85      0.85      0.85      9058\n",
      "weighted avg       0.85      0.85      0.85      9058\n",
      " \n",
      "\n",
      "=========Confusion Matrix============\n",
      "[[3735  763]\n",
      " [ 586 3974]]\n"
     ]
    }
   ],
   "source": [
    "#Using the DecisionTreeClassifier algorithm to check the accuray score,DecisionTreeClassifier and Confusion Matrix:\n",
    "lr=LogisticRegression()\n",
    "lr.fit(x_train,y_train)\n",
    "y_predlr=lr.predict(x_test)\n",
    "\n",
    "print('\\n==========Outputs of Logistics Reggression===========')\n",
    "\n",
    "print('\\n==========Accuracy Score===========')\n",
    "print(f\"Accuracy Score is : {accuracy_score(y_test,y_predlr)* 100:.2f}%\\n\")\n",
    "\n",
    "print('======Classification Report=============')\n",
    "print(classification_report(y_test,y_predlr,digits=2),'\\n')\n",
    "\n",
    "print('=========Confusion Matrix============')\n",
    "print(confusion_matrix(y_test,y_predlr))"
   ]
  },
  {
   "cell_type": "code",
   "execution_count": 100,
   "metadata": {},
   "outputs": [
    {
     "name": "stdout",
     "output_type": "stream",
     "text": [
      "\n",
      "==========Outputs of DT===========\n",
      "\n",
      "==========Accuracy Score===========\n",
      "Accuracy Score is : 81.78%\n",
      "\n",
      "======Classification Report=============\n",
      "              precision    recall  f1-score   support\n",
      "\n",
      "           0       0.83      0.80      0.81      4498\n",
      "           1       0.81      0.83      0.82      4560\n",
      "\n",
      "    accuracy                           0.82      9058\n",
      "   macro avg       0.82      0.82      0.82      9058\n",
      "weighted avg       0.82      0.82      0.82      9058\n",
      " \n",
      "\n",
      "=========Confusion Matrix============\n",
      "[[3602  896]\n",
      " [ 754 3806]]\n"
     ]
    }
   ],
   "source": [
    "#Using the DecisionTreeClassifier algorithm to check the accuray score,DecisionTreeClassifier and Confusion Matrix:\n",
    "dt=DecisionTreeClassifier()\n",
    "dt.fit(x_train,y_train)\n",
    "y_preddt=dt.predict(x_test)\n",
    "\n",
    "print('\\n==========Outputs of DT===========')\n",
    "\n",
    "print('\\n==========Accuracy Score===========')\n",
    "print(f\"Accuracy Score is : {accuracy_score(y_test,y_preddt)* 100:.2f}%\\n\")\n",
    "\n",
    "print('======Classification Report=============')\n",
    "print(classification_report(y_test,y_preddt,digits=2),'\\n')\n",
    "\n",
    "print('=========Confusion Matrix============')\n",
    "print(confusion_matrix(y_test,y_preddt))"
   ]
  },
  {
   "cell_type": "code",
   "execution_count": 107,
   "metadata": {},
   "outputs": [
    {
     "name": "stdout",
     "output_type": "stream",
     "text": [
      "\n",
      "==========Outputs of ADA Boost===========\n",
      "\n",
      "==========Accuracy Score===========\n",
      "Accuracy Score is : 83.80%\n",
      "\n",
      "======Classification Report=============\n",
      "              precision    recall  f1-score   support\n",
      "\n",
      "           0       0.85      0.81      0.83      4498\n",
      "           1       0.82      0.86      0.84      4560\n",
      "\n",
      "    accuracy                           0.84      9058\n",
      "   macro avg       0.84      0.84      0.84      9058\n",
      "weighted avg       0.84      0.84      0.84      9058\n",
      " \n",
      "\n",
      "=========Confusion Matrix============\n",
      "[[3651  847]\n",
      " [ 620 3940]]\n"
     ]
    }
   ],
   "source": [
    "#Using the AdaBoostClassifier algorithm to check the accuray score,DecisionTreeClassifier and Confusion Matrix:\n",
    "abc=AdaBoostClassifier()\n",
    "abc.fit(x_train,y_train)\n",
    "y_predabc=abc.predict(x_test)\n",
    "\n",
    "print('\\n==========Outputs of ADA Boost===========')\n",
    "\n",
    "print('\\n==========Accuracy Score===========')\n",
    "print(f\"Accuracy Score is : {accuracy_score(y_test,y_predabc)* 100:.2f}%\\n\")\n",
    "\n",
    "print('======Classification Report=============')\n",
    "print(classification_report(y_test,y_predabc,digits=2),'\\n')\n",
    "\n",
    "print('=========Confusion Matrix============')\n",
    "print(confusion_matrix(y_test,y_predabc))"
   ]
  },
  {
   "cell_type": "code",
   "execution_count": 101,
   "metadata": {},
   "outputs": [
    {
     "name": "stdout",
     "output_type": "stream",
     "text": [
      "\n",
      "==========Outputs of SVC===========\n",
      "\n",
      "==========Accuracy Score===========\n",
      "Accuracy Score is : 85.71%\n",
      "\n",
      "======Classification Report=============\n",
      "              precision    recall  f1-score   support\n",
      "\n",
      "           0       0.90      0.81      0.85      4498\n",
      "           1       0.83      0.91      0.86      4560\n",
      "\n",
      "    accuracy                           0.86      9058\n",
      "   macro avg       0.86      0.86      0.86      9058\n",
      "weighted avg       0.86      0.86      0.86      9058\n",
      " \n",
      "\n",
      "=========Confusion Matrix============\n",
      "[[3624  874]\n",
      " [ 420 4140]]\n"
     ]
    }
   ],
   "source": [
    "#Using the SVC algorithm to check the accuray score,DecisionTreeClassifier and Confusion Matrix:\n",
    "\n",
    "svc=SVC(probability=True)\n",
    "svc.fit(x_train,y_train)\n",
    "y_predsvc=svc.predict(x_test)\n",
    "\n",
    "print('\\n==========Outputs of SVC===========')\n",
    "\n",
    "print('\\n==========Accuracy Score===========')\n",
    "print(f\"Accuracy Score is : {accuracy_score(y_test,y_predsvc)* 100:.2f}%\\n\")\n",
    "\n",
    "print('======Classification Report=============')\n",
    "print(classification_report(y_test,y_predsvc,digits=2),'\\n')\n",
    "\n",
    "print('=========Confusion Matrix============')\n",
    "print(confusion_matrix(y_test,y_predsvc))"
   ]
  },
  {
   "cell_type": "code",
   "execution_count": 102,
   "metadata": {},
   "outputs": [
    {
     "name": "stdout",
     "output_type": "stream",
     "text": [
      "\n",
      "==========Outputs of Random Forest Classifier===========\n",
      "\n",
      "==========Accuracy Score===========\n",
      "Accuracy Score is : 87.47%\n",
      "\n",
      "======Classification Report=============\n",
      "              precision    recall  f1-score   support\n",
      "\n",
      "           0       0.89      0.85      0.87      4498\n",
      "           1       0.86      0.90      0.88      4560\n",
      "\n",
      "    accuracy                           0.87      9058\n",
      "   macro avg       0.88      0.87      0.87      9058\n",
      "weighted avg       0.88      0.87      0.87      9058\n",
      " \n",
      "\n",
      "=========Confusion Matrix============\n",
      "[[3826  672]\n",
      " [ 463 4097]]\n"
     ]
    }
   ],
   "source": [
    "#Using the RandomForestClassifier algorithm to check the accuray score,DecisionTreeClassifier and Confusion Matrix:\n",
    "\n",
    "rfc=RandomForestClassifier()\n",
    "rfc.fit(x_train,y_train)\n",
    "y_predrfc=rfc.predict(x_test)\n",
    "\n",
    "print('\\n==========Outputs of Random Forest Classifier===========')\n",
    "\n",
    "print('\\n==========Accuracy Score===========')\n",
    "print(f\"Accuracy Score is : {accuracy_score(y_test,y_predrfc)* 100:.2f}%\\n\")\n",
    "\n",
    "print('======Classification Report=============')\n",
    "print(classification_report(y_test,y_predrfc,digits=2),'\\n')\n",
    "\n",
    "print('=========Confusion Matrix============')\n",
    "print(confusion_matrix(y_test,y_predrfc))"
   ]
  },
  {
   "cell_type": "code",
   "execution_count": 103,
   "metadata": {},
   "outputs": [
    {
     "name": "stdout",
     "output_type": "stream",
     "text": [
      "\n",
      "==========Outputs of KNeighborsClassifier===========\n",
      "\n",
      "==========Accuracy Score===========\n",
      "Accuracy Score is : 83.79%\n",
      "\n",
      "======Classification Report=============\n",
      "              precision    recall  f1-score   support\n",
      "\n",
      "           0       0.90      0.76      0.82      4498\n",
      "           1       0.79      0.92      0.85      4560\n",
      "\n",
      "    accuracy                           0.84      9058\n",
      "   macro avg       0.85      0.84      0.84      9058\n",
      "weighted avg       0.85      0.84      0.84      9058\n",
      " \n",
      "\n",
      "=========Confusion Matrix============\n",
      "[[3405 1093]\n",
      " [ 375 4185]]\n"
     ]
    }
   ],
   "source": [
    "#Using the KNeighborsClassifier algorithm to check the accuray score,DecisionTreeClassifier and Confusion Matrix:\n",
    "\n",
    "knn=KNeighborsClassifier()\n",
    "knn.fit(x_train,y_train)\n",
    "y_predknn=knn.predict(x_test)\n",
    "\n",
    "print('\\n==========Outputs of KNeighborsClassifier===========')\n",
    "\n",
    "print('\\n==========Accuracy Score===========')\n",
    "print(f\"Accuracy Score is : {accuracy_score(y_test,y_predknn)* 100:.2f}%\\n\")\n",
    "\n",
    "print('======Classification Report=============')\n",
    "print(classification_report(y_test,y_predknn,digits=2),'\\n')\n",
    "\n",
    "print('=========Confusion Matrix============')\n",
    "print(confusion_matrix(y_test,y_predknn))"
   ]
  },
  {
   "cell_type": "code",
   "execution_count": 105,
   "metadata": {},
   "outputs": [],
   "source": [
    "#Now checking the Overfitting of the all the models using cross_val_score.\n",
    "from sklearn.model_selection import cross_val_score"
   ]
  },
  {
   "cell_type": "code",
   "execution_count": 126,
   "metadata": {},
   "outputs": [
    {
     "name": "stdout",
     "output_type": "stream",
     "text": [
      "\n",
      "==========Cross Validation Score of Logistices Classifier===========\n",
      "Cross validation for the Logistices Classifier is: 83.87%\n",
      "\n",
      "\n",
      "==========Cross Validation Score of Random Forest Classifier===========\n",
      "Cross validation for the Random Forest Classifier is: 87.19%\n",
      "\n",
      "\n",
      "=============Cross Validation Score of Decision Tree====================\n",
      "Cross validation for the Decision Tree is: 81.91%\n",
      "\n",
      "\n",
      "=============Cross Validation Score of AdaBoost Classifier==============\n",
      "Cross validation for the AdaBoost Classifier is: 82.77%\n",
      "\n",
      "\n",
      "===================Cross Validation Score of KNN========================\n",
      "Cross validation for the KNN Classifier is: 83.88%\n",
      "\n"
     ]
    }
   ],
   "source": [
    "print('\\n==========Cross Validation Score of Logistices Classifier===========')\n",
    "cvs_lr=cross_val_score(lr,x_fit,y_fit,cv=5)\n",
    "print(f\"Cross validation for the Logistices Classifier is: {cvs_lr.mean()*100:.2f}%\\n\")\n",
    "\n",
    "print('\\n==========Cross Validation Score of Random Forest Classifier===========')\n",
    "cvs_rfc=cross_val_score(rfc,x_fit,y_fit,cv=5)\n",
    "print(f\"Cross validation for the Random Forest Classifier is: {cvs_rfc.mean()*100:.2f}%\\n\")\n",
    "\n",
    "print('\\n=============Cross Validation Score of Decision Tree====================')\n",
    "cvs_dt=cross_val_score(dt,x_fit,y_fit,cv=5)\n",
    "print(f\"Cross validation for the Decision Tree is: {cvs_dt.mean()*100:.2f}%\\n\")\n",
    "\n",
    "print('\\n=============Cross Validation Score of AdaBoost Classifier==============')\n",
    "cvs_abc=cross_val_score(abc,x_fit,y_fit,cv=5)\n",
    "print(f\"Cross validation for the AdaBoost Classifier is: {cvs_abc.mean()*100:.2f}%\\n\")\n",
    "\n",
    "print('\\n===================Cross Validation Score of KNN========================')\n",
    "cvs_knn=cross_val_score(knn,x_fit,y_fit,cv=5)\n",
    "print(f\"Cross validation for the KNN Classifier is: {cvs_knn.mean()*100:.2f}%\\n\")\n"
   ]
  },
  {
   "cell_type": "code",
   "execution_count": 111,
   "metadata": {},
   "outputs": [
    {
     "data": {
      "image/png": "[encoded data removed]",
      "text/plain": [
       "<Figure size 432x288 with 1 Axes>"
      ]
     },
     "metadata": {
      "needs_background": "light"
     },
     "output_type": "display_data"
    }
   ],
   "source": [
    "#using the roc_auc_curve \n",
    "dist=plot_roc_curve(lr,x_test,y_test)\n",
    "plot_roc_curve(rfc,x_test,y_test,ax=dist.ax_)#abc svc, \n",
    "plot_roc_curve(dt,x_test,y_test,ax=dist.ax_)\n",
    "plot_roc_curve(abc,x_test,y_test,ax=dist.ax_)\n",
    "plot_roc_curve(svc,x_test,y_test,ax=dist.ax_)\n",
    "plot_roc_curve(knn,x_test,y_test,ax=dist.ax_)\n",
    "\n",
    "plt.legend(prop={'size':11},loc='lower right')\n",
    "plt.show()"
   ]
  },
  {
   "cell_type": "code",
   "execution_count": null,
   "metadata": {},
   "outputs": [],
   "source": [
    "#we select the Random Forest Regressor after comaparing all the models accuracy with the cross validation score.\n",
    "#LR: Accuracy:85.11   cross validation score:83.87  Diffrence:1.24\n",
    "#DT: Accuracy:81.78   cross validation score:81.91  Diffrence:-0.13\n",
    "#ADA: Accuracy:83.80   cross validation score:82.77  Diffrence:1.03\n",
    "#RFC: Accuracy:87.47   cross validation score:87.31  Diffrence:0.16\n",
    "#KNN: Accuracy:83.79   cross validation score:83.88  Diffrence:-0.09\n",
    "\n",
    "#As we can see the Random Forest Regressor has highest accuracy and least differnece so we can select it for hyper parameter tuing."
   ]
  },
  {
   "cell_type": "code",
   "execution_count": 118,
   "metadata": {},
   "outputs": [],
   "source": [
    "#Now Appling the gridsearchcv beofore building the model to check the best parameter.\n",
    "best_param={'n_estimators':[80,90,100],\n",
    "           'criterion':['gini','entropy'],\n",
    "           'max_depth':[10,12,15],\n",
    "           'min_samples_split':[2,3,5],\n",
    "           'min_samples_leaf':[2,4,6]}"
   ]
  },
  {
   "cell_type": "code",
   "execution_count": 119,
   "metadata": {},
   "outputs": [],
   "source": [
    "gridcv=GridSearchCV(rfc,param_grid=best_param)"
   ]
  },
  {
   "cell_type": "code",
   "execution_count": 120,
   "metadata": {},
   "outputs": [
    {
     "data": {
      "text/plain": [
       "GridSearchCV(estimator=RandomForestClassifier(),\n",
       "             param_grid={'criterion': ['gini', 'entropy'],\n",
       "                         'max_depth': [10, 12, 15],\n",
       "                         'min_samples_leaf': [2, 4, 6],\n",
       "                         'min_samples_split': [2, 3, 5],\n",
       "                         'n_estimators': [80, 90, 100]})"
      ]
     },
     "execution_count": 120,
     "metadata": {},
     "output_type": "execute_result"
    }
   ],
   "source": [
    "gridcv.fit(x_train,y_train)"
   ]
  },
  {
   "cell_type": "code",
   "execution_count": 121,
   "metadata": {},
   "outputs": [
    {
     "data": {
      "text/plain": [
       "{'criterion': 'gini',\n",
       " 'max_depth': 15,\n",
       " 'min_samples_leaf': 2,\n",
       " 'min_samples_split': 3,\n",
       " 'n_estimators': 90}"
      ]
     },
     "execution_count": 121,
     "metadata": {},
     "output_type": "execute_result"
    }
   ],
   "source": [
    "gridcv.best_params_ "
   ]
  },
  {
   "cell_type": "code",
   "execution_count": 124,
   "metadata": {},
   "outputs": [
    {
     "name": "stdout",
     "output_type": "stream",
     "text": [
      "\n",
      "==========Outputs of Random Forest Classifier===========\n",
      "\n",
      "==========Accuracy Score===========\n",
      "Accuracy Score is : 84.18%\n",
      "\n",
      "======Classification Report=============\n",
      "              precision    recall  f1-score   support\n",
      "\n",
      "           0       0.89      0.78      0.83      4498\n",
      "           1       0.81      0.90      0.85      4560\n",
      "\n",
      "    accuracy                           0.84      9058\n",
      "   macro avg       0.85      0.84      0.84      9058\n",
      "weighted avg       0.85      0.84      0.84      9058\n",
      " \n",
      "\n",
      "=========Confusion Matrix============\n",
      "[[3512  986]\n",
      " [ 447 4113]]\n"
     ]
    }
   ],
   "source": [
    "#Using the RandomForestClassifier algorithm to check the accuray score,DecisionTreeClassifier and Confusion Matrix after hyper paramter tuing:\n",
    " \n",
    "rfc=RandomForestClassifier(criterion='entropy',max_depth=15,min_samples_leaf=3,min_samples_split=3,n_estimators=90)\n",
    "rfc.fit(x_train,y_train)\n",
    "y_predrfc=rfc.predict(x_test)\n",
    "\n",
    "print('\\n==========Outputs of Random Forest Classifier===========')\n",
    "\n",
    "print('\\n==========Accuracy Score===========')\n",
    "print(f\"Accuracy Score is : {accuracy_score(y_test,y_predrfc)* 100:.2f}%\\n\")\n",
    "\n",
    "print('======Classification Report=============')\n",
    "print(classification_report(y_test,y_predrfc,digits=2),'\\n')\n",
    "\n",
    "print('=========Confusion Matrix============')\n",
    "print(confusion_matrix(y_test,y_predrfc))"
   ]
  },
  {
   "cell_type": "code",
   "execution_count": null,
   "metadata": {},
   "outputs": [],
   "source": [
    "#the Hyper tuing has reduced the accurcy so use randomforest without hyper parameter tuning."
   ]
  },
  {
   "cell_type": "code",
   "execution_count": 125,
   "metadata": {},
   "outputs": [
    {
     "name": "stdout",
     "output_type": "stream",
     "text": [
      "\n",
      "==========Outputs of Random Forest Classifier===========\n",
      "\n",
      "==========Accuracy Score===========\n",
      "Accuracy Score is : 87.60%\n",
      "\n",
      "======Classification Report=============\n",
      "              precision    recall  f1-score   support\n",
      "\n",
      "           0       0.89      0.85      0.87      4498\n",
      "           1       0.86      0.90      0.88      4560\n",
      "\n",
      "    accuracy                           0.88      9058\n",
      "   macro avg       0.88      0.88      0.88      9058\n",
      "weighted avg       0.88      0.88      0.88      9058\n",
      " \n",
      "\n",
      "=========Confusion Matrix============\n",
      "[[3825  673]\n",
      " [ 450 4110]]\n"
     ]
    }
   ],
   "source": [
    "#Using the RandomForestClassifier algorithm to check the accuray score,DecisionTreeClassifier and Confusion Matrix:\n",
    "\n",
    "rfc=RandomForestClassifier()\n",
    "rfc.fit(x_train,y_train)\n",
    "y_predrfc=rfc.predict(x_test)\n",
    "\n",
    "print('\\n==========Outputs of Random Forest Classifier===========')\n",
    "\n",
    "print('\\n==========Accuracy Score===========')\n",
    "print(f\"Accuracy Score is : {accuracy_score(y_test,y_predrfc)* 100:.2f}%\\n\")\n",
    "\n",
    "print('======Classification Report=============')\n",
    "print(classification_report(y_test,y_predrfc,digits=2),'\\n')\n",
    "\n",
    "print('=========Confusion Matrix============')\n",
    "print(confusion_matrix(y_test,y_predrfc))"
   ]
  },
  {
   "cell_type": "code",
   "execution_count": null,
   "metadata": {},
   "outputs": [],
   "source": [
    "#Saving the random forerst claasifier as the final model."
   ]
  },
  {
   "cell_type": "code",
   "execution_count": 128,
   "metadata": {},
   "outputs": [
    {
     "data": {
      "text/plain": [
       "['Census_Income_Model.pkl']"
      ]
     },
     "execution_count": 128,
     "metadata": {},
     "output_type": "execute_result"
    }
   ],
   "source": [
    "#Saving the model\n",
    "import joblib\n",
    "joblib.dump(rfc,'Census_Income_Model.pkl')"
   ]
  },
  {
   "cell_type": "code",
   "execution_count": null,
   "metadata": {},
   "outputs": [],
   "source": [
    "#This will complete the model building."
   ]
  }
 ],
 "metadata": {
  "kernelspec": {
   "display_name": "Python 3",
   "language": "python",
   "name": "python3"
  },
  "language_info": {
   "codemirror_mode": {
    "name": "ipython",
    "version": 3
   },
   "file_extension": ".py",
   "mimetype": "text/x-python",
   "name": "python",
   "nbconvert_exporter": "python",
   "pygments_lexer": "ipython3",
   "version": "3.8.5"
  }
 },
 "nbformat": 4,
 "nbformat_minor": 4
}
